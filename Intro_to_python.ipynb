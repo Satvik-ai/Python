{
  "nbformat": 4,
  "nbformat_minor": 0,
  "metadata": {
    "colab": {
      "provenance": [],
      "collapsed_sections": [
        "mAhhefzL2kCv",
        "5uYr3wCTc8po",
        "xaM0XSnZregM",
        "k7W-ZEdiookv"
      ]
    },
    "kernelspec": {
      "display_name": "Python 3",
      "language": "python",
      "name": "python3"
    },
    "language_info": {
      "codemirror_mode": {
        "name": "ipython",
        "version": 3
      },
      "file_extension": ".py",
      "mimetype": "text/x-python",
      "name": "python",
      "nbconvert_exporter": "python",
      "pygments_lexer": "ipython3",
      "version": "3.8.5"
    }
  },
  "cells": [
    {
      "cell_type": "markdown",
      "metadata": {
        "id": "4CSgt9bqD8Ia"
      },
      "source": [
        "## Why Python?\n",
        "\n",
        "\n",
        "*   It's easier to learn and use in comparison to other languages like C++ or Java, due to its simpler syntax.\n",
        "\n",
        "* It has a huge, rapidly growing supportive community\n",
        "\n",
        "* It has a large number of libraries and frameworks made by third parties. This makes it even easier to use python\n",
        "\n",
        "These reasons make Python extremely popular in the AI community.\n",
        "\n"
      ]
    },
    {
      "cell_type": "code",
      "metadata": {
        "colab": {
          "base_uri": "https://localhost:8080/"
        },
        "id": "hpmHarMoKRqy",
        "outputId": "5daea845-8503-4e19-c663-1c3abd5cd929"
      },
      "source": [
        "print(\"hello world!\")\n",
        "# This statement is all it takes to print \"hello\"\n",
        "# These lines are called comments\n",
        "# adding a '#' before a line makes it a comment\n",
        "# The compiler ignores comments\n",
        "# They can be used to explain code or comment out some lines of code to prevent their execution"
      ],
      "execution_count": null,
      "outputs": [
        {
          "output_type": "stream",
          "name": "stdout",
          "text": [
            "hello world!\n"
          ]
        }
      ]
    },
    {
      "cell_type": "markdown",
      "metadata": {
        "id": "P9d9lPfUTipz"
      },
      "source": [
        "## Contents\n",
        "\n",
        "\n",
        "* Data types\n",
        "* Operators\n",
        "* Conditional Statements\n",
        "* Loops  \n",
        "* Functions\n",
        "* Classes\n",
        "* Lists\n",
        "* Tuples\n",
        "* Dictionary\n",
        "* Python Library\n",
        "* Numpy\n",
        "* Matplotlib\n",
        "* Git & GitHub\n",
        "\n",
        "\n",
        "\n"
      ]
    },
    {
      "cell_type": "markdown",
      "metadata": {
        "id": "R5Tdviy-VwjX"
      },
      "source": []
    },
    {
      "cell_type": "markdown",
      "metadata": {
        "id": "aH-Vh_TRVwr7"
      },
      "source": [
        "## Data types\n",
        "\n",
        "* Variables are classified using data types\n",
        "\n",
        "* Each data type gives a variable different properties\n",
        "\n",
        "* Using data types lets us know what is expected from each variable;\n",
        "\n",
        "* Furthermore, functions react differently to variables based on their data type\n",
        "\n",
        "The most commonly used data types are :\n",
        "\n",
        "\n",
        "* Numeric:\n",
        "    * int       (integers)\n",
        "    * float     (decimal values)\n",
        "\n",
        "* strings    (characters, words and sentences)\n",
        "\n",
        "* bool       (boolean values, i.e. True or False)\n",
        "\n",
        "* Sequential Data Types:\n",
        "    * list\n",
        "    * tuple\n",
        "    * range\n",
        "\n",
        "* set        (Sets)\n",
        "* dict       (Dictionaries)\n",
        "\n",
        "\n",
        "There are several other data types but we'll be focusing on these in this session.\n",
        "\n"
      ]
    },
    {
      "cell_type": "code",
      "metadata": {
        "id": "N0_Qh7uHXbIx",
        "colab": {
          "base_uri": "https://localhost:8080/"
        },
        "outputId": "cb31a60e-40c9-4c96-cca5-db6d87977c32"
      },
      "source": [
        "x = 10\n",
        "name = \"Student\"\n",
        "\n",
        "print(x)\n",
        "print(name)\n",
        "\n",
        "print(type(x))\n",
        "print(type(name))"
      ],
      "execution_count": null,
      "outputs": [
        {
          "output_type": "stream",
          "name": "stdout",
          "text": [
            "10\n",
            "Student\n",
            "<class 'int'>\n",
            "<class 'str'>\n"
          ]
        }
      ]
    },
    {
      "cell_type": "markdown",
      "metadata": {
        "id": "94ajOCm5XpsA"
      },
      "source": [
        "This example shows that Python doesn't require us to declare the data type for a variable.\n",
        "\n",
        "This is unlike many other popular programming languages.\n",
        "\n",
        "It is capable of infering the data type from the value assigned to the variable."
      ]
    },
    {
      "cell_type": "markdown",
      "metadata": {
        "id": "4AjgJNPhCwFA"
      },
      "source": [
        "##Operators\n",
        "Operators perform processes/ operations on variables and constants. The different kinds of operators can be understood through examples.\n",
        "\n",
        "###Arithmetic Operators\n",
        "\n",
        "\n",
        "1. Addition (+)\n",
        "2. Subtraction (-)\n",
        "3. Multiplication (*)\n",
        "4. Division (/)\n",
        "5. Modulus(%)\n",
        "6. Exponent(**)\n",
        "\n"
      ]
    },
    {
      "cell_type": "code",
      "metadata": {
        "id": "tSkILN2FDhrC",
        "colab": {
          "base_uri": "https://localhost:8080/"
        },
        "outputId": "2f55bacd-536d-4fc1-a770-d583f77ed29d"
      },
      "source": [
        "a = 5\n",
        "b = 6\n",
        "\n",
        "# operations in order\n",
        "\n",
        "print('a + b = ', a + b)\n",
        "print('b - 2 = ', b - 2)\n",
        "print('a*4 =', a * 4)\n",
        "print('b/3 = ', b/3)\n",
        "print('a % b = ', a%b)\n",
        "print('a^2 = ', a**2 )\n",
        "print(a//b)\n"
      ],
      "execution_count": null,
      "outputs": [
        {
          "output_type": "stream",
          "name": "stdout",
          "text": [
            "a + b =  11\n",
            "b - 2 =  4\n",
            "a*4 = 20\n",
            "b/3 =  2.0\n",
            "a % b =  5\n",
            "a^2 =  25\n",
            "0\n"
          ]
        }
      ]
    },
    {
      "cell_type": "markdown",
      "metadata": {
        "id": "qOn_PEWPDqgB"
      },
      "source": [
        "###Comparison Operators\n",
        "\n",
        "\n",
        "1.    Check equality (== )\n",
        "2.    Check inequality(!= or <>)\n",
        "3.    Greater than (>)\n",
        "4.    Less than(<)\n",
        "5.    Greater than or equal to (>=)\n",
        "6.    Less than or equal to (<=)\n",
        "\n",
        "When used in expressions,  the truth value of the expression returned.\n"
      ]
    },
    {
      "cell_type": "code",
      "metadata": {
        "id": "mhRC0bPOEYno",
        "colab": {
          "base_uri": "https://localhost:8080/"
        },
        "outputId": "96b1597f-8e19-42b2-c2c5-13801333d4a2"
      },
      "source": [
        "a = 5\n",
        "b = 6\n",
        "\n",
        "#operations in order\n",
        "\n",
        "print(a==b)\n",
        "print(b!=2)\n",
        "print(a>4)\n",
        "print(b<3)\n",
        "print(a>=b)\n",
        "print(a<=2)"
      ],
      "execution_count": null,
      "outputs": [
        {
          "output_type": "stream",
          "name": "stdout",
          "text": [
            "False\n",
            "True\n",
            "True\n",
            "False\n",
            "False\n",
            "False\n"
          ]
        }
      ]
    },
    {
      "cell_type": "markdown",
      "metadata": {
        "id": "KSeM7cmOEfFq"
      },
      "source": [
        "###Logical Operators\n",
        "\n",
        "\n",
        "\n",
        "1.  and\n",
        "2.  or\n",
        "3.  not\n",
        "\n",
        "When used in expressions, the truth value of the expression returned.\n"
      ]
    },
    {
      "cell_type": "code",
      "metadata": {
        "id": "cfbb9e-CEo00",
        "colab": {
          "base_uri": "https://localhost:8080/"
        },
        "outputId": "ab1169a4-f3f8-41b1-c954-7918833cf91c"
      },
      "source": [
        "a = 5\n",
        "b = 6\n",
        "if(a==b and b>5):\n",
        " print(\"something\")\n",
        "\n",
        "if(a==5 or b==2):\n",
        " print(\"some other thing\")\n",
        "\n",
        "if(not b==9):\n",
        " print(\"b is not equal to 9\")"
      ],
      "execution_count": null,
      "outputs": [
        {
          "output_type": "stream",
          "name": "stdout",
          "text": [
            "some other thing\n",
            "b is not equal to 9\n"
          ]
        }
      ]
    },
    {
      "cell_type": "markdown",
      "metadata": {
        "id": "wRCvlO4Cpdzm"
      },
      "source": [
        "##Conditional Statements\n",
        "\n",
        "Conditional Statements are used in decision making."
      ]
    },
    {
      "cell_type": "code",
      "metadata": {
        "id": "YDjv_d1SbiU5",
        "colab": {
          "base_uri": "https://localhost:8080/"
        },
        "outputId": "85bb1916-7d1b-4ed2-a743-c39bb97a8423"
      },
      "source": [
        "a = 9             #assignment\n",
        "#print(1)\n",
        "\n",
        "if a == 100:        #comparison\n",
        "  print(\"ok\")       #indentation\n",
        "else:\n",
        "  print(\"not ok\")"
      ],
      "execution_count": null,
      "outputs": [
        {
          "output_type": "stream",
          "name": "stdout",
          "text": [
            "not ok\n"
          ]
        }
      ]
    },
    {
      "cell_type": "markdown",
      "metadata": {
        "id": "fR1NevmkrpYC"
      },
      "source": [
        "Here we had to make a decision based on the value of a - whether to print 'nice' or not. That is what we use the following *keywords* for:\n",
        "\n",
        "\n",
        "*   if\n",
        "*   else\n",
        "*   elif\n",
        "\n",
        "These make use of test expressions, logical operations that evaluate to TRUE or FALSE - *if* the expression is true, the part indented below the 'if' expression is executed. Otherwise, it is ignored.\n",
        "\n",
        "The use of 'else' and 'elif' can be somewhat intuitively understood by the following code.\n",
        "\n"
      ]
    },
    {
      "cell_type": "code",
      "metadata": {
        "id": "rYFcNu_7skg3",
        "colab": {
          "base_uri": "https://localhost:8080/"
        },
        "outputId": "b51f57de-012a-4a3d-aacd-45a7ac2c73f1"
      },
      "source": [
        "b = 70\n",
        "if b == 100:\n",
        "  print('alright')\n",
        "elif b == 70:               # if multiple 'elif's evaluate to true, only the first one is executed\n",
        "  print('ok')\n",
        "else :\n",
        "  print('not ok')"
      ],
      "execution_count": null,
      "outputs": [
        {
          "output_type": "stream",
          "name": "stdout",
          "text": [
            "ok\n"
          ]
        }
      ]
    },
    {
      "cell_type": "markdown",
      "metadata": {
        "id": "yxmh6_DKs_0y"
      },
      "source": [
        "##Loops\n",
        "Let's look at two programs with the same output:\n",
        "\n",
        "\n"
      ]
    },
    {
      "cell_type": "code",
      "metadata": {
        "id": "r4vqxmA4wv1J",
        "colab": {
          "base_uri": "https://localhost:8080/"
        },
        "outputId": "4e868535-2ec7-45c9-b7bd-9a1bdb2e8d29"
      },
      "source": [
        "print('welcome to summer school')\n",
        "print('welcome to summer school')\n",
        "print('welcome to summer school')\n",
        "print('welcome to summer school')\n",
        "print('welcome to summer school')\n",
        "print('welcome to summer school')\n",
        "print('welcome to summer school')"
      ],
      "execution_count": null,
      "outputs": [
        {
          "output_type": "stream",
          "name": "stdout",
          "text": [
            "welcome to summer school\n",
            "welcome to summer school\n",
            "welcome to summer school\n",
            "welcome to summer school\n",
            "welcome to summer school\n",
            "welcome to summer school\n",
            "welcome to summer school\n"
          ]
        }
      ]
    },
    {
      "cell_type": "code",
      "metadata": {
        "id": "c11KUDuMxN9q"
      },
      "source": [
        "t = 0\n",
        "while( t < 100):\n",
        "    print(t)\n",
        "    t = t + 1       #incrementing t"
      ],
      "execution_count": null,
      "outputs": []
    },
    {
      "cell_type": "markdown",
      "metadata": {
        "id": "NgLRIhSUxaRZ"
      },
      "source": [
        "Which of those two programs seemed more efficient? Furthermore, the first method would be impractical for tasks that need to be repeated thousands of times, as is the case in modern times.\n",
        "\n",
        "There are two kinds of loops in Python\n",
        "\n",
        "* ones in which the no. of iterations don't have to be specified, in other words, a terminating condition will do (while loops)\n",
        "\n",
        "* ones in which the no. of iterations have to be specified (for loops)\n",
        "\n",
        "Each repeating step in a loop is called an *iteration*\n",
        "\n",
        "###While loop\n",
        "\n",
        "The while loop has the following form:"
      ]
    },
    {
      "cell_type": "code",
      "metadata": {
        "id": "QUVvvaq8yOzt",
        "colab": {
          "base_uri": "https://localhost:8080/"
        },
        "outputId": "52c77dc8-917c-4a97-b522-b7623f7f7411"
      },
      "source": [
        "i = 0\n",
        "while(i < 10):\n",
        " print(i)\n",
        " i = i + 1"
      ],
      "execution_count": null,
      "outputs": [
        {
          "output_type": "stream",
          "name": "stdout",
          "text": [
            "0\n",
            "1\n",
            "2\n",
            "3\n",
            "4\n",
            "5\n",
            "6\n",
            "7\n",
            "8\n",
            "9\n"
          ]
        }
      ]
    },
    {
      "cell_type": "markdown",
      "metadata": {
        "id": "VLeQ-XeAyVUG"
      },
      "source": [
        "As you can see, we did not specify the number of iterations.\n",
        "\n",
        "Loops make use of a test expression as well - they check the expression before each iteration, and execute said iteration only if the test expression evaluates to \"TRUE\"\n",
        "\n",
        "##For Loop\n",
        "\n",
        "We also have the *for* loop, where we do have to specify the number of iterations. Let's look at some example code:"
      ]
    },
    {
      "cell_type": "code",
      "metadata": {
        "id": "s2iJWRJk69J5",
        "colab": {
          "base_uri": "https://localhost:8080/"
        },
        "outputId": "d0e8e7bf-69ae-4620-f6e2-6d732cd26149"
      },
      "source": [
        "for i in range(0,5,1):  # 0 is the lower index,which is included while looping , 5 is the higher index which is not included ,increment value which we will do\n",
        "\tprint(i)\n"
      ],
      "execution_count": null,
      "outputs": [
        {
          "output_type": "stream",
          "name": "stdout",
          "text": [
            "0\n",
            "1\n",
            "2\n",
            "3\n",
            "4\n"
          ]
        }
      ]
    },
    {
      "cell_type": "markdown",
      "metadata": {
        "id": "en1WEIPWd1lH"
      },
      "source": [
        "## Nested Loops\n",
        "\n",
        "Loops within loops"
      ]
    },
    {
      "cell_type": "code",
      "metadata": {
        "id": "T3WpF5taQDDU",
        "colab": {
          "base_uri": "https://localhost:8080/"
        },
        "outputId": "aebb0cb1-c638-46a5-a632-99f281aede5c"
      },
      "source": [
        "x = 4\n",
        "\n",
        "for i in range(1, x + 1):\n",
        "  for j in range(1, i + 1):\n",
        "    print(j, end = '')\n",
        "  print('')"
      ],
      "execution_count": null,
      "outputs": [
        {
          "output_type": "stream",
          "name": "stdout",
          "text": [
            "1\n",
            "12\n",
            "123\n",
            "1234\n"
          ]
        }
      ]
    },
    {
      "cell_type": "markdown",
      "metadata": {
        "id": "ojNbEV08gXNn"
      },
      "source": [
        "### Example: Fibonacci Sequence\n",
        "\n",
        "The fibonacci sequence is a sequence in which:\n",
        "\n",
        "(a<sub>n</sub> denotes the n<sup>th</sup> element)\n",
        "\n",
        "* a<sub>1</sub> = 0\n",
        "\n",
        "* a<sub>2</sub> = 1\n",
        "\n",
        "* for n > 2, the a<sub>n</sub> = a<sub>n - 1</sub> + a<sub>n - 2</sub>\n",
        "\n",
        "0, 1, 1, 2, 3, 5, 8 ... ,a<sub>n - 2</sub>, a<sub>n - 1</sub>, a<sub>n - 1</sub> + a<sub>n - 2</sub>"
      ]
    },
    {
      "cell_type": "code",
      "metadata": {
        "id": "yWjO9U-0SzXj",
        "colab": {
          "base_uri": "https://localhost:8080/"
        },
        "outputId": "fc9e1174-9db9-4a0c-bb77-5691607713c3"
      },
      "source": [
        "x = int(input())    #to accept input from the user, and then convert it to an integer\n",
        "if x<=0:\n",
        "  print(\"Invalid input. Enter a positive integer.\")\n",
        "else:\n",
        "  if x == 1:\n",
        "    print('0')\n",
        "  else:\n",
        "    print('0, 1', end = '')\n",
        "\n",
        "    if x > 2:\n",
        "      a = 0\n",
        "      b = 1\n",
        "      for i in range(3, x+1):\n",
        "        c = a + b\n",
        "        print(', ', c, end = '')\n",
        "        a = b\n",
        "        b = c\n"
      ],
      "execution_count": null,
      "outputs": [
        {
          "output_type": "stream",
          "name": "stdout",
          "text": [
            "10\n",
            "0, 1,  1,  2,  3,  5,  8,  13,  21,  34"
          ]
        }
      ]
    },
    {
      "cell_type": "markdown",
      "metadata": {
        "id": "-Y3VxgxiACFx"
      },
      "source": [
        "## Functions\n",
        "\n",
        "* Functions are modules of code that accomplish a specific task.\n",
        "* A function executes only when it is called.\n",
        "* Functions usually take inputs (data), process it, and output (or return) result. Once a function is written, it can be used over and over again."
      ]
    },
    {
      "cell_type": "code",
      "metadata": {
        "id": "eWsZApVTAGrl",
        "colab": {
          "base_uri": "https://localhost:8080/"
        },
        "outputId": "eebc621e-9b94-4974-b258-408f6cccc8e0"
      },
      "source": [
        "# example function\n",
        "def add_nums(a, b):\n",
        "  return a+b\n",
        "\n",
        "print(2+3) #function call inside the print statement and even print is a function call"
      ],
      "execution_count": null,
      "outputs": [
        {
          "output_type": "stream",
          "name": "stdout",
          "text": [
            "5\n"
          ]
        }
      ]
    },
    {
      "cell_type": "markdown",
      "metadata": {
        "id": "UB8Dmu16jGHe"
      },
      "source": [
        "Well at this point you might think, why do we even need functions? it would be easier to type a+b than add_nums(a,b)\n",
        "\n",
        "But what happens when you have bigger pieces of code that you want to run?\n",
        "\n",
        "Let's say you want to check if a number is even or odd"
      ]
    },
    {
      "cell_type": "code",
      "metadata": {
        "id": "nBGuqI1Gi7OL"
      },
      "source": [
        "def odd_even(num):\n",
        "  if num% 2 == 0:\n",
        "    return 'Even'\n",
        "  else:\n",
        "    return 'Odd'"
      ],
      "execution_count": null,
      "outputs": []
    },
    {
      "cell_type": "code",
      "metadata": {
        "id": "v4azWl0PjkXp",
        "colab": {
          "base_uri": "https://localhost:8080/"
        },
        "outputId": "0df2ae8c-2a9b-45d4-c589-193ef598613b"
      },
      "source": [
        "print(odd_even(4), odd_even(6), odd_even(5))"
      ],
      "execution_count": null,
      "outputs": [
        {
          "output_type": "stream",
          "name": "stdout",
          "text": [
            "Even Even Odd\n"
          ]
        }
      ]
    },
    {
      "cell_type": "code",
      "source": [],
      "metadata": {
        "id": "SYDSorEe_Vi5"
      },
      "execution_count": null,
      "outputs": []
    },
    {
      "cell_type": "markdown",
      "metadata": {
        "id": "3jBci86hjxiF"
      },
      "source": [
        "Clearly, that saved us a lot of time and unnecesary typing of code."
      ]
    },
    {
      "cell_type": "markdown",
      "metadata": {
        "id": "iH9I-9ljAL85"
      },
      "source": [
        "## Classes\n",
        "\n",
        "A class is a blueprint for an object.\n",
        "\n",
        "It is a way to bundle data (even of different data types) together.\n",
        "Each variable or piece of data is known as an attribute of the class.\n",
        "\n",
        "In addition, a class can have functions associated with it called methods.\n",
        "\n",
        "An object is an instance of a class. This is similar to how the variable \"num\" was an integer in the previous example.\n",
        "\n",
        "To understand the need for creating a class let’s consider an example, let’s say you wanted to track the number of dogs that may have different attributes like breed, age. If a list is used, the first element could be the dog’s breed while the second element could represent its age. Let’s suppose there are 100 different dogs, then how would you know which element is supposed to be which? What if you wanted to add other properties to these dogs? This lacks organization and it’s the exact need for classes.\n"
      ]
    },
    {
      "cell_type": "code",
      "metadata": {
        "colab": {
          "base_uri": "https://localhost:8080/"
        },
        "id": "kIIciT0ZAPkg",
        "outputId": "f009f48d-2ca3-4d95-e8a0-203cebb799b0"
      },
      "source": [
        "# example class\n",
        "\n",
        "class MyClass:\n",
        "  language = \"python\"\n",
        "  x = 3.14\n",
        "  isTrue = True\n",
        "\n",
        "  # member function/ method\n",
        "  def show(self):\n",
        "    print('My favorite programming language is', self.language)\n",
        "    print(self.x)\n",
        "\n",
        "c1 = MyClass()        # creating an instance of a MyClass\n",
        "c1.show()"
      ],
      "execution_count": null,
      "outputs": [
        {
          "output_type": "stream",
          "name": "stdout",
          "text": [
            "My favorite programming language is python\n",
            "3.14\n"
          ]
        }
      ]
    },
    {
      "cell_type": "markdown",
      "metadata": {
        "id": "MPS3xntdR60s"
      },
      "source": [
        "### self\n",
        "* class methods must include an extra first parameter in the method definition\n",
        "\n",
        "* we don't give assign values for this parameter when we call the method, intstead Python provides it\n",
        "\n",
        "* if we have a method that takes no arguments, then we still have to include one argument.\n",
        "\n",
        "* self is similar to this pointer in C++ and this reference in Java"
      ]
    },
    {
      "cell_type": "markdown",
      "metadata": {
        "id": "StEaVKmGQWJz"
      },
      "source": [
        "### \\_init_()\n",
        "\n",
        "* The \\__init__ method is similar to constructors in C++ and Java\n",
        "\n",
        "* constructors are used to initialize the object’s state\n",
        "\n",
        "* like other methods, a constructor also contains a collection of statements that are executed at the time of object creation\n",
        "\n"
      ]
    },
    {
      "cell_type": "code",
      "metadata": {
        "colab": {
          "base_uri": "https://localhost:8080/"
        },
        "id": "mg69KjuaQEn4",
        "outputId": "89ffdc69-337b-4272-f852-2131433df769"
      },
      "source": [
        "class Vehicle:\n",
        "\n",
        "    # class Variable\n",
        "    vehicle_type = 'car'\n",
        "\n",
        "    # init method or constructor\n",
        "    def __init__(self, company, color): # __init__\n",
        "\n",
        "        # instance variables\n",
        "\n",
        "        self.company = company\n",
        "        self.color = color\n",
        "\n",
        "    # method to display details\n",
        "    def show(self):\n",
        "        print('Vehicle type: ', self.vehicle_type)\n",
        "        print('company: ', self.company)\n",
        "        print('color: ', self.color)\n",
        "\n",
        "\n",
        "# Objects of Dog class\n",
        "C1 = Vehicle(\"Ferrari\", \"red\")\n",
        "C2 = Vehicle(\"Mercedes\", \"gold\")\n",
        "\n",
        "# displays details of C1\n",
        "print('C1 details: ', end = '')\n",
        "C1.show()\n",
        "\n",
        "# accessing using class names\n",
        "print(\"\\naccessing class variable using class name\")\n",
        "print(C1.color)\n",
        "print(C2.company)"
      ],
      "execution_count": null,
      "outputs": [
        {
          "output_type": "stream",
          "name": "stdout",
          "text": [
            "C1 details: Vehicle type:  car\n",
            "company:  Ferrari\n",
            "color:  red\n",
            "\n",
            "accessing class variable using class name\n",
            "red\n",
            "Mercedes\n"
          ]
        }
      ]
    },
    {
      "cell_type": "markdown",
      "metadata": {
        "id": "QllyOobJPgfM"
      },
      "source": [
        "## Lists\n",
        "\n",
        "A list is a collections of entries that is ordered and can be changed. They also allow duplicate entries. Entries of a list don't need to be of the same datatype. Look at some of the examples given below"
      ]
    },
    {
      "cell_type": "markdown",
      "metadata": {
        "id": "b2E3u0hA42AO"
      },
      "source": [
        "![python-list-index.png.webp](data:image/webp;base64,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)"
      ]
    },
    {
      "cell_type": "code",
      "metadata": {
        "id": "may4Qsi6PjL3",
        "colab": {
          "base_uri": "https://localhost:8080/"
        },
        "outputId": "69899571-128f-473f-89bd-65a40f883c7f"
      },
      "source": [
        "a = [3,'Hello', 2, True, 'The End']\n",
        "print(a[4])"
      ],
      "execution_count": null,
      "outputs": [
        {
          "output_type": "stream",
          "name": "stdout",
          "text": [
            "The End\n"
          ]
        }
      ]
    },
    {
      "cell_type": "markdown",
      "metadata": {
        "id": "QToWvYjaRueq"
      },
      "source": [
        "You can access individual members of the list too!!\n",
        "\n",
        "Remember that the indexing starts from 0\n"
      ]
    },
    {
      "cell_type": "code",
      "metadata": {
        "id": "kmCx-11oRxAT",
        "colab": {
          "base_uri": "https://localhost:8080/"
        },
        "outputId": "f34723c0-f479-49ea-a474-d13b030a7a50"
      },
      "source": [
        "print(a[0], a[2])"
      ],
      "execution_count": null,
      "outputs": [
        {
          "output_type": "stream",
          "name": "stdout",
          "text": [
            "3 2\n"
          ]
        }
      ]
    },
    {
      "cell_type": "markdown",
      "metadata": {
        "id": "dSfPPJALR1HB"
      },
      "source": [
        "You can find out about the length of a list using the len function"
      ]
    },
    {
      "cell_type": "code",
      "metadata": {
        "id": "WEDaQXaJR1ok",
        "colab": {
          "base_uri": "https://localhost:8080/"
        },
        "outputId": "24a6c9be-f2d8-4a72-a72c-a8c80fe34584"
      },
      "source": [
        "print(len(a))"
      ],
      "execution_count": null,
      "outputs": [
        {
          "output_type": "stream",
          "name": "stdout",
          "text": [
            "5\n"
          ]
        }
      ]
    },
    {
      "cell_type": "markdown",
      "metadata": {
        "id": "sIi7ReCNR4GD"
      },
      "source": [
        "You learnt about for loops earlier right? Let's use that to make a slightly bigger list using the append function"
      ]
    },
    {
      "cell_type": "code",
      "metadata": {
        "id": "6OFDFyBpR4ac",
        "colab": {
          "base_uri": "https://localhost:8080/"
        },
        "outputId": "9911dd58-d42c-46f9-9c40-4dd0015b0b52"
      },
      "source": [
        "b = []                    #Declare an empty list to which we will add elements\n",
        "print(b)\n",
        "for num in range(10):\n",
        "  b.append(num)           # It's that simple!!!!\n",
        "  print(b)"
      ],
      "execution_count": null,
      "outputs": [
        {
          "output_type": "stream",
          "name": "stdout",
          "text": [
            "[]\n",
            "[0]\n",
            "[0, 1]\n",
            "[0, 1, 2]\n",
            "[0, 1, 2, 3]\n",
            "[0, 1, 2, 3, 4]\n",
            "[0, 1, 2, 3, 4, 5]\n",
            "[0, 1, 2, 3, 4, 5, 6]\n",
            "[0, 1, 2, 3, 4, 5, 6, 7]\n",
            "[0, 1, 2, 3, 4, 5, 6, 7, 8]\n",
            "[0, 1, 2, 3, 4, 5, 6, 7, 8, 9]\n"
          ]
        }
      ]
    },
    {
      "cell_type": "code",
      "metadata": {
        "id": "LMJF3eq4SCEq",
        "colab": {
          "base_uri": "https://localhost:8080/"
        },
        "outputId": "3a15f61a-6035-449f-e972-18651d58e0dc"
      },
      "source": [
        "# Let us a make a list called big_numbers and append all 4 digit numbers to the list\n",
        "big_numbers = []\n",
        "\n",
        "for i in range(1000,10000):\n",
        "    big_numbers.append(i)\n",
        "\n",
        "print(big_numbers)"
      ],
      "execution_count": null,
      "outputs": [
        {
          "output_type": "stream",
          "name": "stdout",
          "text": [
            "[1000, 1001, 1002, 1003, 1004, 1005, 1006, 1007, 1008, 1009, 1010, 1011, 1012, 1013, 1014, 1015, 1016, 1017, 1018, 1019, 1020, 1021, 1022, 1023, 1024, 1025, 1026, 1027, 1028, 1029, 1030, 1031, 1032, 1033, 1034, 1035, 1036, 1037, 1038, 1039, 1040, 1041, 1042, 1043, 1044, 1045, 1046, 1047, 1048, 1049, 1050, 1051, 1052, 1053, 1054, 1055, 1056, 1057, 1058, 1059, 1060, 1061, 1062, 1063, 1064, 1065, 1066, 1067, 1068, 1069, 1070, 1071, 1072, 1073, 1074, 1075, 1076, 1077, 1078, 1079, 1080, 1081, 1082, 1083, 1084, 1085, 1086, 1087, 1088, 1089, 1090, 1091, 1092, 1093, 1094, 1095, 1096, 1097, 1098, 1099, 1100, 1101, 1102, 1103, 1104, 1105, 1106, 1107, 1108, 1109, 1110, 1111, 1112, 1113, 1114, 1115, 1116, 1117, 1118, 1119, 1120, 1121, 1122, 1123, 1124, 1125, 1126, 1127, 1128, 1129, 1130, 1131, 1132, 1133, 1134, 1135, 1136, 1137, 1138, 1139, 1140, 1141, 1142, 1143, 1144, 1145, 1146, 1147, 1148, 1149, 1150, 1151, 1152, 1153, 1154, 1155, 1156, 1157, 1158, 1159, 1160, 1161, 1162, 1163, 1164, 1165, 1166, 1167, 1168, 1169, 1170, 1171, 1172, 1173, 1174, 1175, 1176, 1177, 1178, 1179, 1180, 1181, 1182, 1183, 1184, 1185, 1186, 1187, 1188, 1189, 1190, 1191, 1192, 1193, 1194, 1195, 1196, 1197, 1198, 1199, 1200, 1201, 1202, 1203, 1204, 1205, 1206, 1207, 1208, 1209, 1210, 1211, 1212, 1213, 1214, 1215, 1216, 1217, 1218, 1219, 1220, 1221, 1222, 1223, 1224, 1225, 1226, 1227, 1228, 1229, 1230, 1231, 1232, 1233, 1234, 1235, 1236, 1237, 1238, 1239, 1240, 1241, 1242, 1243, 1244, 1245, 1246, 1247, 1248, 1249, 1250, 1251, 1252, 1253, 1254, 1255, 1256, 1257, 1258, 1259, 1260, 1261, 1262, 1263, 1264, 1265, 1266, 1267, 1268, 1269, 1270, 1271, 1272, 1273, 1274, 1275, 1276, 1277, 1278, 1279, 1280, 1281, 1282, 1283, 1284, 1285, 1286, 1287, 1288, 1289, 1290, 1291, 1292, 1293, 1294, 1295, 1296, 1297, 1298, 1299, 1300, 1301, 1302, 1303, 1304, 1305, 1306, 1307, 1308, 1309, 1310, 1311, 1312, 1313, 1314, 1315, 1316, 1317, 1318, 1319, 1320, 1321, 1322, 1323, 1324, 1325, 1326, 1327, 1328, 1329, 1330, 1331, 1332, 1333, 1334, 1335, 1336, 1337, 1338, 1339, 1340, 1341, 1342, 1343, 1344, 1345, 1346, 1347, 1348, 1349, 1350, 1351, 1352, 1353, 1354, 1355, 1356, 1357, 1358, 1359, 1360, 1361, 1362, 1363, 1364, 1365, 1366, 1367, 1368, 1369, 1370, 1371, 1372, 1373, 1374, 1375, 1376, 1377, 1378, 1379, 1380, 1381, 1382, 1383, 1384, 1385, 1386, 1387, 1388, 1389, 1390, 1391, 1392, 1393, 1394, 1395, 1396, 1397, 1398, 1399, 1400, 1401, 1402, 1403, 1404, 1405, 1406, 1407, 1408, 1409, 1410, 1411, 1412, 1413, 1414, 1415, 1416, 1417, 1418, 1419, 1420, 1421, 1422, 1423, 1424, 1425, 1426, 1427, 1428, 1429, 1430, 1431, 1432, 1433, 1434, 1435, 1436, 1437, 1438, 1439, 1440, 1441, 1442, 1443, 1444, 1445, 1446, 1447, 1448, 1449, 1450, 1451, 1452, 1453, 1454, 1455, 1456, 1457, 1458, 1459, 1460, 1461, 1462, 1463, 1464, 1465, 1466, 1467, 1468, 1469, 1470, 1471, 1472, 1473, 1474, 1475, 1476, 1477, 1478, 1479, 1480, 1481, 1482, 1483, 1484, 1485, 1486, 1487, 1488, 1489, 1490, 1491, 1492, 1493, 1494, 1495, 1496, 1497, 1498, 1499, 1500, 1501, 1502, 1503, 1504, 1505, 1506, 1507, 1508, 1509, 1510, 1511, 1512, 1513, 1514, 1515, 1516, 1517, 1518, 1519, 1520, 1521, 1522, 1523, 1524, 1525, 1526, 1527, 1528, 1529, 1530, 1531, 1532, 1533, 1534, 1535, 1536, 1537, 1538, 1539, 1540, 1541, 1542, 1543, 1544, 1545, 1546, 1547, 1548, 1549, 1550, 1551, 1552, 1553, 1554, 1555, 1556, 1557, 1558, 1559, 1560, 1561, 1562, 1563, 1564, 1565, 1566, 1567, 1568, 1569, 1570, 1571, 1572, 1573, 1574, 1575, 1576, 1577, 1578, 1579, 1580, 1581, 1582, 1583, 1584, 1585, 1586, 1587, 1588, 1589, 1590, 1591, 1592, 1593, 1594, 1595, 1596, 1597, 1598, 1599, 1600, 1601, 1602, 1603, 1604, 1605, 1606, 1607, 1608, 1609, 1610, 1611, 1612, 1613, 1614, 1615, 1616, 1617, 1618, 1619, 1620, 1621, 1622, 1623, 1624, 1625, 1626, 1627, 1628, 1629, 1630, 1631, 1632, 1633, 1634, 1635, 1636, 1637, 1638, 1639, 1640, 1641, 1642, 1643, 1644, 1645, 1646, 1647, 1648, 1649, 1650, 1651, 1652, 1653, 1654, 1655, 1656, 1657, 1658, 1659, 1660, 1661, 1662, 1663, 1664, 1665, 1666, 1667, 1668, 1669, 1670, 1671, 1672, 1673, 1674, 1675, 1676, 1677, 1678, 1679, 1680, 1681, 1682, 1683, 1684, 1685, 1686, 1687, 1688, 1689, 1690, 1691, 1692, 1693, 1694, 1695, 1696, 1697, 1698, 1699, 1700, 1701, 1702, 1703, 1704, 1705, 1706, 1707, 1708, 1709, 1710, 1711, 1712, 1713, 1714, 1715, 1716, 1717, 1718, 1719, 1720, 1721, 1722, 1723, 1724, 1725, 1726, 1727, 1728, 1729, 1730, 1731, 1732, 1733, 1734, 1735, 1736, 1737, 1738, 1739, 1740, 1741, 1742, 1743, 1744, 1745, 1746, 1747, 1748, 1749, 1750, 1751, 1752, 1753, 1754, 1755, 1756, 1757, 1758, 1759, 1760, 1761, 1762, 1763, 1764, 1765, 1766, 1767, 1768, 1769, 1770, 1771, 1772, 1773, 1774, 1775, 1776, 1777, 1778, 1779, 1780, 1781, 1782, 1783, 1784, 1785, 1786, 1787, 1788, 1789, 1790, 1791, 1792, 1793, 1794, 1795, 1796, 1797, 1798, 1799, 1800, 1801, 1802, 1803, 1804, 1805, 1806, 1807, 1808, 1809, 1810, 1811, 1812, 1813, 1814, 1815, 1816, 1817, 1818, 1819, 1820, 1821, 1822, 1823, 1824, 1825, 1826, 1827, 1828, 1829, 1830, 1831, 1832, 1833, 1834, 1835, 1836, 1837, 1838, 1839, 1840, 1841, 1842, 1843, 1844, 1845, 1846, 1847, 1848, 1849, 1850, 1851, 1852, 1853, 1854, 1855, 1856, 1857, 1858, 1859, 1860, 1861, 1862, 1863, 1864, 1865, 1866, 1867, 1868, 1869, 1870, 1871, 1872, 1873, 1874, 1875, 1876, 1877, 1878, 1879, 1880, 1881, 1882, 1883, 1884, 1885, 1886, 1887, 1888, 1889, 1890, 1891, 1892, 1893, 1894, 1895, 1896, 1897, 1898, 1899, 1900, 1901, 1902, 1903, 1904, 1905, 1906, 1907, 1908, 1909, 1910, 1911, 1912, 1913, 1914, 1915, 1916, 1917, 1918, 1919, 1920, 1921, 1922, 1923, 1924, 1925, 1926, 1927, 1928, 1929, 1930, 1931, 1932, 1933, 1934, 1935, 1936, 1937, 1938, 1939, 1940, 1941, 1942, 1943, 1944, 1945, 1946, 1947, 1948, 1949, 1950, 1951, 1952, 1953, 1954, 1955, 1956, 1957, 1958, 1959, 1960, 1961, 1962, 1963, 1964, 1965, 1966, 1967, 1968, 1969, 1970, 1971, 1972, 1973, 1974, 1975, 1976, 1977, 1978, 1979, 1980, 1981, 1982, 1983, 1984, 1985, 1986, 1987, 1988, 1989, 1990, 1991, 1992, 1993, 1994, 1995, 1996, 1997, 1998, 1999, 2000, 2001, 2002, 2003, 2004, 2005, 2006, 2007, 2008, 2009, 2010, 2011, 2012, 2013, 2014, 2015, 2016, 2017, 2018, 2019, 2020, 2021, 2022, 2023, 2024, 2025, 2026, 2027, 2028, 2029, 2030, 2031, 2032, 2033, 2034, 2035, 2036, 2037, 2038, 2039, 2040, 2041, 2042, 2043, 2044, 2045, 2046, 2047, 2048, 2049, 2050, 2051, 2052, 2053, 2054, 2055, 2056, 2057, 2058, 2059, 2060, 2061, 2062, 2063, 2064, 2065, 2066, 2067, 2068, 2069, 2070, 2071, 2072, 2073, 2074, 2075, 2076, 2077, 2078, 2079, 2080, 2081, 2082, 2083, 2084, 2085, 2086, 2087, 2088, 2089, 2090, 2091, 2092, 2093, 2094, 2095, 2096, 2097, 2098, 2099, 2100, 2101, 2102, 2103, 2104, 2105, 2106, 2107, 2108, 2109, 2110, 2111, 2112, 2113, 2114, 2115, 2116, 2117, 2118, 2119, 2120, 2121, 2122, 2123, 2124, 2125, 2126, 2127, 2128, 2129, 2130, 2131, 2132, 2133, 2134, 2135, 2136, 2137, 2138, 2139, 2140, 2141, 2142, 2143, 2144, 2145, 2146, 2147, 2148, 2149, 2150, 2151, 2152, 2153, 2154, 2155, 2156, 2157, 2158, 2159, 2160, 2161, 2162, 2163, 2164, 2165, 2166, 2167, 2168, 2169, 2170, 2171, 2172, 2173, 2174, 2175, 2176, 2177, 2178, 2179, 2180, 2181, 2182, 2183, 2184, 2185, 2186, 2187, 2188, 2189, 2190, 2191, 2192, 2193, 2194, 2195, 2196, 2197, 2198, 2199, 2200, 2201, 2202, 2203, 2204, 2205, 2206, 2207, 2208, 2209, 2210, 2211, 2212, 2213, 2214, 2215, 2216, 2217, 2218, 2219, 2220, 2221, 2222, 2223, 2224, 2225, 2226, 2227, 2228, 2229, 2230, 2231, 2232, 2233, 2234, 2235, 2236, 2237, 2238, 2239, 2240, 2241, 2242, 2243, 2244, 2245, 2246, 2247, 2248, 2249, 2250, 2251, 2252, 2253, 2254, 2255, 2256, 2257, 2258, 2259, 2260, 2261, 2262, 2263, 2264, 2265, 2266, 2267, 2268, 2269, 2270, 2271, 2272, 2273, 2274, 2275, 2276, 2277, 2278, 2279, 2280, 2281, 2282, 2283, 2284, 2285, 2286, 2287, 2288, 2289, 2290, 2291, 2292, 2293, 2294, 2295, 2296, 2297, 2298, 2299, 2300, 2301, 2302, 2303, 2304, 2305, 2306, 2307, 2308, 2309, 2310, 2311, 2312, 2313, 2314, 2315, 2316, 2317, 2318, 2319, 2320, 2321, 2322, 2323, 2324, 2325, 2326, 2327, 2328, 2329, 2330, 2331, 2332, 2333, 2334, 2335, 2336, 2337, 2338, 2339, 2340, 2341, 2342, 2343, 2344, 2345, 2346, 2347, 2348, 2349, 2350, 2351, 2352, 2353, 2354, 2355, 2356, 2357, 2358, 2359, 2360, 2361, 2362, 2363, 2364, 2365, 2366, 2367, 2368, 2369, 2370, 2371, 2372, 2373, 2374, 2375, 2376, 2377, 2378, 2379, 2380, 2381, 2382, 2383, 2384, 2385, 2386, 2387, 2388, 2389, 2390, 2391, 2392, 2393, 2394, 2395, 2396, 2397, 2398, 2399, 2400, 2401, 2402, 2403, 2404, 2405, 2406, 2407, 2408, 2409, 2410, 2411, 2412, 2413, 2414, 2415, 2416, 2417, 2418, 2419, 2420, 2421, 2422, 2423, 2424, 2425, 2426, 2427, 2428, 2429, 2430, 2431, 2432, 2433, 2434, 2435, 2436, 2437, 2438, 2439, 2440, 2441, 2442, 2443, 2444, 2445, 2446, 2447, 2448, 2449, 2450, 2451, 2452, 2453, 2454, 2455, 2456, 2457, 2458, 2459, 2460, 2461, 2462, 2463, 2464, 2465, 2466, 2467, 2468, 2469, 2470, 2471, 2472, 2473, 2474, 2475, 2476, 2477, 2478, 2479, 2480, 2481, 2482, 2483, 2484, 2485, 2486, 2487, 2488, 2489, 2490, 2491, 2492, 2493, 2494, 2495, 2496, 2497, 2498, 2499, 2500, 2501, 2502, 2503, 2504, 2505, 2506, 2507, 2508, 2509, 2510, 2511, 2512, 2513, 2514, 2515, 2516, 2517, 2518, 2519, 2520, 2521, 2522, 2523, 2524, 2525, 2526, 2527, 2528, 2529, 2530, 2531, 2532, 2533, 2534, 2535, 2536, 2537, 2538, 2539, 2540, 2541, 2542, 2543, 2544, 2545, 2546, 2547, 2548, 2549, 2550, 2551, 2552, 2553, 2554, 2555, 2556, 2557, 2558, 2559, 2560, 2561, 2562, 2563, 2564, 2565, 2566, 2567, 2568, 2569, 2570, 2571, 2572, 2573, 2574, 2575, 2576, 2577, 2578, 2579, 2580, 2581, 2582, 2583, 2584, 2585, 2586, 2587, 2588, 2589, 2590, 2591, 2592, 2593, 2594, 2595, 2596, 2597, 2598, 2599, 2600, 2601, 2602, 2603, 2604, 2605, 2606, 2607, 2608, 2609, 2610, 2611, 2612, 2613, 2614, 2615, 2616, 2617, 2618, 2619, 2620, 2621, 2622, 2623, 2624, 2625, 2626, 2627, 2628, 2629, 2630, 2631, 2632, 2633, 2634, 2635, 2636, 2637, 2638, 2639, 2640, 2641, 2642, 2643, 2644, 2645, 2646, 2647, 2648, 2649, 2650, 2651, 2652, 2653, 2654, 2655, 2656, 2657, 2658, 2659, 2660, 2661, 2662, 2663, 2664, 2665, 2666, 2667, 2668, 2669, 2670, 2671, 2672, 2673, 2674, 2675, 2676, 2677, 2678, 2679, 2680, 2681, 2682, 2683, 2684, 2685, 2686, 2687, 2688, 2689, 2690, 2691, 2692, 2693, 2694, 2695, 2696, 2697, 2698, 2699, 2700, 2701, 2702, 2703, 2704, 2705, 2706, 2707, 2708, 2709, 2710, 2711, 2712, 2713, 2714, 2715, 2716, 2717, 2718, 2719, 2720, 2721, 2722, 2723, 2724, 2725, 2726, 2727, 2728, 2729, 2730, 2731, 2732, 2733, 2734, 2735, 2736, 2737, 2738, 2739, 2740, 2741, 2742, 2743, 2744, 2745, 2746, 2747, 2748, 2749, 2750, 2751, 2752, 2753, 2754, 2755, 2756, 2757, 2758, 2759, 2760, 2761, 2762, 2763, 2764, 2765, 2766, 2767, 2768, 2769, 2770, 2771, 2772, 2773, 2774, 2775, 2776, 2777, 2778, 2779, 2780, 2781, 2782, 2783, 2784, 2785, 2786, 2787, 2788, 2789, 2790, 2791, 2792, 2793, 2794, 2795, 2796, 2797, 2798, 2799, 2800, 2801, 2802, 2803, 2804, 2805, 2806, 2807, 2808, 2809, 2810, 2811, 2812, 2813, 2814, 2815, 2816, 2817, 2818, 2819, 2820, 2821, 2822, 2823, 2824, 2825, 2826, 2827, 2828, 2829, 2830, 2831, 2832, 2833, 2834, 2835, 2836, 2837, 2838, 2839, 2840, 2841, 2842, 2843, 2844, 2845, 2846, 2847, 2848, 2849, 2850, 2851, 2852, 2853, 2854, 2855, 2856, 2857, 2858, 2859, 2860, 2861, 2862, 2863, 2864, 2865, 2866, 2867, 2868, 2869, 2870, 2871, 2872, 2873, 2874, 2875, 2876, 2877, 2878, 2879, 2880, 2881, 2882, 2883, 2884, 2885, 2886, 2887, 2888, 2889, 2890, 2891, 2892, 2893, 2894, 2895, 2896, 2897, 2898, 2899, 2900, 2901, 2902, 2903, 2904, 2905, 2906, 2907, 2908, 2909, 2910, 2911, 2912, 2913, 2914, 2915, 2916, 2917, 2918, 2919, 2920, 2921, 2922, 2923, 2924, 2925, 2926, 2927, 2928, 2929, 2930, 2931, 2932, 2933, 2934, 2935, 2936, 2937, 2938, 2939, 2940, 2941, 2942, 2943, 2944, 2945, 2946, 2947, 2948, 2949, 2950, 2951, 2952, 2953, 2954, 2955, 2956, 2957, 2958, 2959, 2960, 2961, 2962, 2963, 2964, 2965, 2966, 2967, 2968, 2969, 2970, 2971, 2972, 2973, 2974, 2975, 2976, 2977, 2978, 2979, 2980, 2981, 2982, 2983, 2984, 2985, 2986, 2987, 2988, 2989, 2990, 2991, 2992, 2993, 2994, 2995, 2996, 2997, 2998, 2999, 3000, 3001, 3002, 3003, 3004, 3005, 3006, 3007, 3008, 3009, 3010, 3011, 3012, 3013, 3014, 3015, 3016, 3017, 3018, 3019, 3020, 3021, 3022, 3023, 3024, 3025, 3026, 3027, 3028, 3029, 3030, 3031, 3032, 3033, 3034, 3035, 3036, 3037, 3038, 3039, 3040, 3041, 3042, 3043, 3044, 3045, 3046, 3047, 3048, 3049, 3050, 3051, 3052, 3053, 3054, 3055, 3056, 3057, 3058, 3059, 3060, 3061, 3062, 3063, 3064, 3065, 3066, 3067, 3068, 3069, 3070, 3071, 3072, 3073, 3074, 3075, 3076, 3077, 3078, 3079, 3080, 3081, 3082, 3083, 3084, 3085, 3086, 3087, 3088, 3089, 3090, 3091, 3092, 3093, 3094, 3095, 3096, 3097, 3098, 3099, 3100, 3101, 3102, 3103, 3104, 3105, 3106, 3107, 3108, 3109, 3110, 3111, 3112, 3113, 3114, 3115, 3116, 3117, 3118, 3119, 3120, 3121, 3122, 3123, 3124, 3125, 3126, 3127, 3128, 3129, 3130, 3131, 3132, 3133, 3134, 3135, 3136, 3137, 3138, 3139, 3140, 3141, 3142, 3143, 3144, 3145, 3146, 3147, 3148, 3149, 3150, 3151, 3152, 3153, 3154, 3155, 3156, 3157, 3158, 3159, 3160, 3161, 3162, 3163, 3164, 3165, 3166, 3167, 3168, 3169, 3170, 3171, 3172, 3173, 3174, 3175, 3176, 3177, 3178, 3179, 3180, 3181, 3182, 3183, 3184, 3185, 3186, 3187, 3188, 3189, 3190, 3191, 3192, 3193, 3194, 3195, 3196, 3197, 3198, 3199, 3200, 3201, 3202, 3203, 3204, 3205, 3206, 3207, 3208, 3209, 3210, 3211, 3212, 3213, 3214, 3215, 3216, 3217, 3218, 3219, 3220, 3221, 3222, 3223, 3224, 3225, 3226, 3227, 3228, 3229, 3230, 3231, 3232, 3233, 3234, 3235, 3236, 3237, 3238, 3239, 3240, 3241, 3242, 3243, 3244, 3245, 3246, 3247, 3248, 3249, 3250, 3251, 3252, 3253, 3254, 3255, 3256, 3257, 3258, 3259, 3260, 3261, 3262, 3263, 3264, 3265, 3266, 3267, 3268, 3269, 3270, 3271, 3272, 3273, 3274, 3275, 3276, 3277, 3278, 3279, 3280, 3281, 3282, 3283, 3284, 3285, 3286, 3287, 3288, 3289, 3290, 3291, 3292, 3293, 3294, 3295, 3296, 3297, 3298, 3299, 3300, 3301, 3302, 3303, 3304, 3305, 3306, 3307, 3308, 3309, 3310, 3311, 3312, 3313, 3314, 3315, 3316, 3317, 3318, 3319, 3320, 3321, 3322, 3323, 3324, 3325, 3326, 3327, 3328, 3329, 3330, 3331, 3332, 3333, 3334, 3335, 3336, 3337, 3338, 3339, 3340, 3341, 3342, 3343, 3344, 3345, 3346, 3347, 3348, 3349, 3350, 3351, 3352, 3353, 3354, 3355, 3356, 3357, 3358, 3359, 3360, 3361, 3362, 3363, 3364, 3365, 3366, 3367, 3368, 3369, 3370, 3371, 3372, 3373, 3374, 3375, 3376, 3377, 3378, 3379, 3380, 3381, 3382, 3383, 3384, 3385, 3386, 3387, 3388, 3389, 3390, 3391, 3392, 3393, 3394, 3395, 3396, 3397, 3398, 3399, 3400, 3401, 3402, 3403, 3404, 3405, 3406, 3407, 3408, 3409, 3410, 3411, 3412, 3413, 3414, 3415, 3416, 3417, 3418, 3419, 3420, 3421, 3422, 3423, 3424, 3425, 3426, 3427, 3428, 3429, 3430, 3431, 3432, 3433, 3434, 3435, 3436, 3437, 3438, 3439, 3440, 3441, 3442, 3443, 3444, 3445, 3446, 3447, 3448, 3449, 3450, 3451, 3452, 3453, 3454, 3455, 3456, 3457, 3458, 3459, 3460, 3461, 3462, 3463, 3464, 3465, 3466, 3467, 3468, 3469, 3470, 3471, 3472, 3473, 3474, 3475, 3476, 3477, 3478, 3479, 3480, 3481, 3482, 3483, 3484, 3485, 3486, 3487, 3488, 3489, 3490, 3491, 3492, 3493, 3494, 3495, 3496, 3497, 3498, 3499, 3500, 3501, 3502, 3503, 3504, 3505, 3506, 3507, 3508, 3509, 3510, 3511, 3512, 3513, 3514, 3515, 3516, 3517, 3518, 3519, 3520, 3521, 3522, 3523, 3524, 3525, 3526, 3527, 3528, 3529, 3530, 3531, 3532, 3533, 3534, 3535, 3536, 3537, 3538, 3539, 3540, 3541, 3542, 3543, 3544, 3545, 3546, 3547, 3548, 3549, 3550, 3551, 3552, 3553, 3554, 3555, 3556, 3557, 3558, 3559, 3560, 3561, 3562, 3563, 3564, 3565, 3566, 3567, 3568, 3569, 3570, 3571, 3572, 3573, 3574, 3575, 3576, 3577, 3578, 3579, 3580, 3581, 3582, 3583, 3584, 3585, 3586, 3587, 3588, 3589, 3590, 3591, 3592, 3593, 3594, 3595, 3596, 3597, 3598, 3599, 3600, 3601, 3602, 3603, 3604, 3605, 3606, 3607, 3608, 3609, 3610, 3611, 3612, 3613, 3614, 3615, 3616, 3617, 3618, 3619, 3620, 3621, 3622, 3623, 3624, 3625, 3626, 3627, 3628, 3629, 3630, 3631, 3632, 3633, 3634, 3635, 3636, 3637, 3638, 3639, 3640, 3641, 3642, 3643, 3644, 3645, 3646, 3647, 3648, 3649, 3650, 3651, 3652, 3653, 3654, 3655, 3656, 3657, 3658, 3659, 3660, 3661, 3662, 3663, 3664, 3665, 3666, 3667, 3668, 3669, 3670, 3671, 3672, 3673, 3674, 3675, 3676, 3677, 3678, 3679, 3680, 3681, 3682, 3683, 3684, 3685, 3686, 3687, 3688, 3689, 3690, 3691, 3692, 3693, 3694, 3695, 3696, 3697, 3698, 3699, 3700, 3701, 3702, 3703, 3704, 3705, 3706, 3707, 3708, 3709, 3710, 3711, 3712, 3713, 3714, 3715, 3716, 3717, 3718, 3719, 3720, 3721, 3722, 3723, 3724, 3725, 3726, 3727, 3728, 3729, 3730, 3731, 3732, 3733, 3734, 3735, 3736, 3737, 3738, 3739, 3740, 3741, 3742, 3743, 3744, 3745, 3746, 3747, 3748, 3749, 3750, 3751, 3752, 3753, 3754, 3755, 3756, 3757, 3758, 3759, 3760, 3761, 3762, 3763, 3764, 3765, 3766, 3767, 3768, 3769, 3770, 3771, 3772, 3773, 3774, 3775, 3776, 3777, 3778, 3779, 3780, 3781, 3782, 3783, 3784, 3785, 3786, 3787, 3788, 3789, 3790, 3791, 3792, 3793, 3794, 3795, 3796, 3797, 3798, 3799, 3800, 3801, 3802, 3803, 3804, 3805, 3806, 3807, 3808, 3809, 3810, 3811, 3812, 3813, 3814, 3815, 3816, 3817, 3818, 3819, 3820, 3821, 3822, 3823, 3824, 3825, 3826, 3827, 3828, 3829, 3830, 3831, 3832, 3833, 3834, 3835, 3836, 3837, 3838, 3839, 3840, 3841, 3842, 3843, 3844, 3845, 3846, 3847, 3848, 3849, 3850, 3851, 3852, 3853, 3854, 3855, 3856, 3857, 3858, 3859, 3860, 3861, 3862, 3863, 3864, 3865, 3866, 3867, 3868, 3869, 3870, 3871, 3872, 3873, 3874, 3875, 3876, 3877, 3878, 3879, 3880, 3881, 3882, 3883, 3884, 3885, 3886, 3887, 3888, 3889, 3890, 3891, 3892, 3893, 3894, 3895, 3896, 3897, 3898, 3899, 3900, 3901, 3902, 3903, 3904, 3905, 3906, 3907, 3908, 3909, 3910, 3911, 3912, 3913, 3914, 3915, 3916, 3917, 3918, 3919, 3920, 3921, 3922, 3923, 3924, 3925, 3926, 3927, 3928, 3929, 3930, 3931, 3932, 3933, 3934, 3935, 3936, 3937, 3938, 3939, 3940, 3941, 3942, 3943, 3944, 3945, 3946, 3947, 3948, 3949, 3950, 3951, 3952, 3953, 3954, 3955, 3956, 3957, 3958, 3959, 3960, 3961, 3962, 3963, 3964, 3965, 3966, 3967, 3968, 3969, 3970, 3971, 3972, 3973, 3974, 3975, 3976, 3977, 3978, 3979, 3980, 3981, 3982, 3983, 3984, 3985, 3986, 3987, 3988, 3989, 3990, 3991, 3992, 3993, 3994, 3995, 3996, 3997, 3998, 3999, 4000, 4001, 4002, 4003, 4004, 4005, 4006, 4007, 4008, 4009, 4010, 4011, 4012, 4013, 4014, 4015, 4016, 4017, 4018, 4019, 4020, 4021, 4022, 4023, 4024, 4025, 4026, 4027, 4028, 4029, 4030, 4031, 4032, 4033, 4034, 4035, 4036, 4037, 4038, 4039, 4040, 4041, 4042, 4043, 4044, 4045, 4046, 4047, 4048, 4049, 4050, 4051, 4052, 4053, 4054, 4055, 4056, 4057, 4058, 4059, 4060, 4061, 4062, 4063, 4064, 4065, 4066, 4067, 4068, 4069, 4070, 4071, 4072, 4073, 4074, 4075, 4076, 4077, 4078, 4079, 4080, 4081, 4082, 4083, 4084, 4085, 4086, 4087, 4088, 4089, 4090, 4091, 4092, 4093, 4094, 4095, 4096, 4097, 4098, 4099, 4100, 4101, 4102, 4103, 4104, 4105, 4106, 4107, 4108, 4109, 4110, 4111, 4112, 4113, 4114, 4115, 4116, 4117, 4118, 4119, 4120, 4121, 4122, 4123, 4124, 4125, 4126, 4127, 4128, 4129, 4130, 4131, 4132, 4133, 4134, 4135, 4136, 4137, 4138, 4139, 4140, 4141, 4142, 4143, 4144, 4145, 4146, 4147, 4148, 4149, 4150, 4151, 4152, 4153, 4154, 4155, 4156, 4157, 4158, 4159, 4160, 4161, 4162, 4163, 4164, 4165, 4166, 4167, 4168, 4169, 4170, 4171, 4172, 4173, 4174, 4175, 4176, 4177, 4178, 4179, 4180, 4181, 4182, 4183, 4184, 4185, 4186, 4187, 4188, 4189, 4190, 4191, 4192, 4193, 4194, 4195, 4196, 4197, 4198, 4199, 4200, 4201, 4202, 4203, 4204, 4205, 4206, 4207, 4208, 4209, 4210, 4211, 4212, 4213, 4214, 4215, 4216, 4217, 4218, 4219, 4220, 4221, 4222, 4223, 4224, 4225, 4226, 4227, 4228, 4229, 4230, 4231, 4232, 4233, 4234, 4235, 4236, 4237, 4238, 4239, 4240, 4241, 4242, 4243, 4244, 4245, 4246, 4247, 4248, 4249, 4250, 4251, 4252, 4253, 4254, 4255, 4256, 4257, 4258, 4259, 4260, 4261, 4262, 4263, 4264, 4265, 4266, 4267, 4268, 4269, 4270, 4271, 4272, 4273, 4274, 4275, 4276, 4277, 4278, 4279, 4280, 4281, 4282, 4283, 4284, 4285, 4286, 4287, 4288, 4289, 4290, 4291, 4292, 4293, 4294, 4295, 4296, 4297, 4298, 4299, 4300, 4301, 4302, 4303, 4304, 4305, 4306, 4307, 4308, 4309, 4310, 4311, 4312, 4313, 4314, 4315, 4316, 4317, 4318, 4319, 4320, 4321, 4322, 4323, 4324, 4325, 4326, 4327, 4328, 4329, 4330, 4331, 4332, 4333, 4334, 4335, 4336, 4337, 4338, 4339, 4340, 4341, 4342, 4343, 4344, 4345, 4346, 4347, 4348, 4349, 4350, 4351, 4352, 4353, 4354, 4355, 4356, 4357, 4358, 4359, 4360, 4361, 4362, 4363, 4364, 4365, 4366, 4367, 4368, 4369, 4370, 4371, 4372, 4373, 4374, 4375, 4376, 4377, 4378, 4379, 4380, 4381, 4382, 4383, 4384, 4385, 4386, 4387, 4388, 4389, 4390, 4391, 4392, 4393, 4394, 4395, 4396, 4397, 4398, 4399, 4400, 4401, 4402, 4403, 4404, 4405, 4406, 4407, 4408, 4409, 4410, 4411, 4412, 4413, 4414, 4415, 4416, 4417, 4418, 4419, 4420, 4421, 4422, 4423, 4424, 4425, 4426, 4427, 4428, 4429, 4430, 4431, 4432, 4433, 4434, 4435, 4436, 4437, 4438, 4439, 4440, 4441, 4442, 4443, 4444, 4445, 4446, 4447, 4448, 4449, 4450, 4451, 4452, 4453, 4454, 4455, 4456, 4457, 4458, 4459, 4460, 4461, 4462, 4463, 4464, 4465, 4466, 4467, 4468, 4469, 4470, 4471, 4472, 4473, 4474, 4475, 4476, 4477, 4478, 4479, 4480, 4481, 4482, 4483, 4484, 4485, 4486, 4487, 4488, 4489, 4490, 4491, 4492, 4493, 4494, 4495, 4496, 4497, 4498, 4499, 4500, 4501, 4502, 4503, 4504, 4505, 4506, 4507, 4508, 4509, 4510, 4511, 4512, 4513, 4514, 4515, 4516, 4517, 4518, 4519, 4520, 4521, 4522, 4523, 4524, 4525, 4526, 4527, 4528, 4529, 4530, 4531, 4532, 4533, 4534, 4535, 4536, 4537, 4538, 4539, 4540, 4541, 4542, 4543, 4544, 4545, 4546, 4547, 4548, 4549, 4550, 4551, 4552, 4553, 4554, 4555, 4556, 4557, 4558, 4559, 4560, 4561, 4562, 4563, 4564, 4565, 4566, 4567, 4568, 4569, 4570, 4571, 4572, 4573, 4574, 4575, 4576, 4577, 4578, 4579, 4580, 4581, 4582, 4583, 4584, 4585, 4586, 4587, 4588, 4589, 4590, 4591, 4592, 4593, 4594, 4595, 4596, 4597, 4598, 4599, 4600, 4601, 4602, 4603, 4604, 4605, 4606, 4607, 4608, 4609, 4610, 4611, 4612, 4613, 4614, 4615, 4616, 4617, 4618, 4619, 4620, 4621, 4622, 4623, 4624, 4625, 4626, 4627, 4628, 4629, 4630, 4631, 4632, 4633, 4634, 4635, 4636, 4637, 4638, 4639, 4640, 4641, 4642, 4643, 4644, 4645, 4646, 4647, 4648, 4649, 4650, 4651, 4652, 4653, 4654, 4655, 4656, 4657, 4658, 4659, 4660, 4661, 4662, 4663, 4664, 4665, 4666, 4667, 4668, 4669, 4670, 4671, 4672, 4673, 4674, 4675, 4676, 4677, 4678, 4679, 4680, 4681, 4682, 4683, 4684, 4685, 4686, 4687, 4688, 4689, 4690, 4691, 4692, 4693, 4694, 4695, 4696, 4697, 4698, 4699, 4700, 4701, 4702, 4703, 4704, 4705, 4706, 4707, 4708, 4709, 4710, 4711, 4712, 4713, 4714, 4715, 4716, 4717, 4718, 4719, 4720, 4721, 4722, 4723, 4724, 4725, 4726, 4727, 4728, 4729, 4730, 4731, 4732, 4733, 4734, 4735, 4736, 4737, 4738, 4739, 4740, 4741, 4742, 4743, 4744, 4745, 4746, 4747, 4748, 4749, 4750, 4751, 4752, 4753, 4754, 4755, 4756, 4757, 4758, 4759, 4760, 4761, 4762, 4763, 4764, 4765, 4766, 4767, 4768, 4769, 4770, 4771, 4772, 4773, 4774, 4775, 4776, 4777, 4778, 4779, 4780, 4781, 4782, 4783, 4784, 4785, 4786, 4787, 4788, 4789, 4790, 4791, 4792, 4793, 4794, 4795, 4796, 4797, 4798, 4799, 4800, 4801, 4802, 4803, 4804, 4805, 4806, 4807, 4808, 4809, 4810, 4811, 4812, 4813, 4814, 4815, 4816, 4817, 4818, 4819, 4820, 4821, 4822, 4823, 4824, 4825, 4826, 4827, 4828, 4829, 4830, 4831, 4832, 4833, 4834, 4835, 4836, 4837, 4838, 4839, 4840, 4841, 4842, 4843, 4844, 4845, 4846, 4847, 4848, 4849, 4850, 4851, 4852, 4853, 4854, 4855, 4856, 4857, 4858, 4859, 4860, 4861, 4862, 4863, 4864, 4865, 4866, 4867, 4868, 4869, 4870, 4871, 4872, 4873, 4874, 4875, 4876, 4877, 4878, 4879, 4880, 4881, 4882, 4883, 4884, 4885, 4886, 4887, 4888, 4889, 4890, 4891, 4892, 4893, 4894, 4895, 4896, 4897, 4898, 4899, 4900, 4901, 4902, 4903, 4904, 4905, 4906, 4907, 4908, 4909, 4910, 4911, 4912, 4913, 4914, 4915, 4916, 4917, 4918, 4919, 4920, 4921, 4922, 4923, 4924, 4925, 4926, 4927, 4928, 4929, 4930, 4931, 4932, 4933, 4934, 4935, 4936, 4937, 4938, 4939, 4940, 4941, 4942, 4943, 4944, 4945, 4946, 4947, 4948, 4949, 4950, 4951, 4952, 4953, 4954, 4955, 4956, 4957, 4958, 4959, 4960, 4961, 4962, 4963, 4964, 4965, 4966, 4967, 4968, 4969, 4970, 4971, 4972, 4973, 4974, 4975, 4976, 4977, 4978, 4979, 4980, 4981, 4982, 4983, 4984, 4985, 4986, 4987, 4988, 4989, 4990, 4991, 4992, 4993, 4994, 4995, 4996, 4997, 4998, 4999, 5000, 5001, 5002, 5003, 5004, 5005, 5006, 5007, 5008, 5009, 5010, 5011, 5012, 5013, 5014, 5015, 5016, 5017, 5018, 5019, 5020, 5021, 5022, 5023, 5024, 5025, 5026, 5027, 5028, 5029, 5030, 5031, 5032, 5033, 5034, 5035, 5036, 5037, 5038, 5039, 5040, 5041, 5042, 5043, 5044, 5045, 5046, 5047, 5048, 5049, 5050, 5051, 5052, 5053, 5054, 5055, 5056, 5057, 5058, 5059, 5060, 5061, 5062, 5063, 5064, 5065, 5066, 5067, 5068, 5069, 5070, 5071, 5072, 5073, 5074, 5075, 5076, 5077, 5078, 5079, 5080, 5081, 5082, 5083, 5084, 5085, 5086, 5087, 5088, 5089, 5090, 5091, 5092, 5093, 5094, 5095, 5096, 5097, 5098, 5099, 5100, 5101, 5102, 5103, 5104, 5105, 5106, 5107, 5108, 5109, 5110, 5111, 5112, 5113, 5114, 5115, 5116, 5117, 5118, 5119, 5120, 5121, 5122, 5123, 5124, 5125, 5126, 5127, 5128, 5129, 5130, 5131, 5132, 5133, 5134, 5135, 5136, 5137, 5138, 5139, 5140, 5141, 5142, 5143, 5144, 5145, 5146, 5147, 5148, 5149, 5150, 5151, 5152, 5153, 5154, 5155, 5156, 5157, 5158, 5159, 5160, 5161, 5162, 5163, 5164, 5165, 5166, 5167, 5168, 5169, 5170, 5171, 5172, 5173, 5174, 5175, 5176, 5177, 5178, 5179, 5180, 5181, 5182, 5183, 5184, 5185, 5186, 5187, 5188, 5189, 5190, 5191, 5192, 5193, 5194, 5195, 5196, 5197, 5198, 5199, 5200, 5201, 5202, 5203, 5204, 5205, 5206, 5207, 5208, 5209, 5210, 5211, 5212, 5213, 5214, 5215, 5216, 5217, 5218, 5219, 5220, 5221, 5222, 5223, 5224, 5225, 5226, 5227, 5228, 5229, 5230, 5231, 5232, 5233, 5234, 5235, 5236, 5237, 5238, 5239, 5240, 5241, 5242, 5243, 5244, 5245, 5246, 5247, 5248, 5249, 5250, 5251, 5252, 5253, 5254, 5255, 5256, 5257, 5258, 5259, 5260, 5261, 5262, 5263, 5264, 5265, 5266, 5267, 5268, 5269, 5270, 5271, 5272, 5273, 5274, 5275, 5276, 5277, 5278, 5279, 5280, 5281, 5282, 5283, 5284, 5285, 5286, 5287, 5288, 5289, 5290, 5291, 5292, 5293, 5294, 5295, 5296, 5297, 5298, 5299, 5300, 5301, 5302, 5303, 5304, 5305, 5306, 5307, 5308, 5309, 5310, 5311, 5312, 5313, 5314, 5315, 5316, 5317, 5318, 5319, 5320, 5321, 5322, 5323, 5324, 5325, 5326, 5327, 5328, 5329, 5330, 5331, 5332, 5333, 5334, 5335, 5336, 5337, 5338, 5339, 5340, 5341, 5342, 5343, 5344, 5345, 5346, 5347, 5348, 5349, 5350, 5351, 5352, 5353, 5354, 5355, 5356, 5357, 5358, 5359, 5360, 5361, 5362, 5363, 5364, 5365, 5366, 5367, 5368, 5369, 5370, 5371, 5372, 5373, 5374, 5375, 5376, 5377, 5378, 5379, 5380, 5381, 5382, 5383, 5384, 5385, 5386, 5387, 5388, 5389, 5390, 5391, 5392, 5393, 5394, 5395, 5396, 5397, 5398, 5399, 5400, 5401, 5402, 5403, 5404, 5405, 5406, 5407, 5408, 5409, 5410, 5411, 5412, 5413, 5414, 5415, 5416, 5417, 5418, 5419, 5420, 5421, 5422, 5423, 5424, 5425, 5426, 5427, 5428, 5429, 5430, 5431, 5432, 5433, 5434, 5435, 5436, 5437, 5438, 5439, 5440, 5441, 5442, 5443, 5444, 5445, 5446, 5447, 5448, 5449, 5450, 5451, 5452, 5453, 5454, 5455, 5456, 5457, 5458, 5459, 5460, 5461, 5462, 5463, 5464, 5465, 5466, 5467, 5468, 5469, 5470, 5471, 5472, 5473, 5474, 5475, 5476, 5477, 5478, 5479, 5480, 5481, 5482, 5483, 5484, 5485, 5486, 5487, 5488, 5489, 5490, 5491, 5492, 5493, 5494, 5495, 5496, 5497, 5498, 5499, 5500, 5501, 5502, 5503, 5504, 5505, 5506, 5507, 5508, 5509, 5510, 5511, 5512, 5513, 5514, 5515, 5516, 5517, 5518, 5519, 5520, 5521, 5522, 5523, 5524, 5525, 5526, 5527, 5528, 5529, 5530, 5531, 5532, 5533, 5534, 5535, 5536, 5537, 5538, 5539, 5540, 5541, 5542, 5543, 5544, 5545, 5546, 5547, 5548, 5549, 5550, 5551, 5552, 5553, 5554, 5555, 5556, 5557, 5558, 5559, 5560, 5561, 5562, 5563, 5564, 5565, 5566, 5567, 5568, 5569, 5570, 5571, 5572, 5573, 5574, 5575, 5576, 5577, 5578, 5579, 5580, 5581, 5582, 5583, 5584, 5585, 5586, 5587, 5588, 5589, 5590, 5591, 5592, 5593, 5594, 5595, 5596, 5597, 5598, 5599, 5600, 5601, 5602, 5603, 5604, 5605, 5606, 5607, 5608, 5609, 5610, 5611, 5612, 5613, 5614, 5615, 5616, 5617, 5618, 5619, 5620, 5621, 5622, 5623, 5624, 5625, 5626, 5627, 5628, 5629, 5630, 5631, 5632, 5633, 5634, 5635, 5636, 5637, 5638, 5639, 5640, 5641, 5642, 5643, 5644, 5645, 5646, 5647, 5648, 5649, 5650, 5651, 5652, 5653, 5654, 5655, 5656, 5657, 5658, 5659, 5660, 5661, 5662, 5663, 5664, 5665, 5666, 5667, 5668, 5669, 5670, 5671, 5672, 5673, 5674, 5675, 5676, 5677, 5678, 5679, 5680, 5681, 5682, 5683, 5684, 5685, 5686, 5687, 5688, 5689, 5690, 5691, 5692, 5693, 5694, 5695, 5696, 5697, 5698, 5699, 5700, 5701, 5702, 5703, 5704, 5705, 5706, 5707, 5708, 5709, 5710, 5711, 5712, 5713, 5714, 5715, 5716, 5717, 5718, 5719, 5720, 5721, 5722, 5723, 5724, 5725, 5726, 5727, 5728, 5729, 5730, 5731, 5732, 5733, 5734, 5735, 5736, 5737, 5738, 5739, 5740, 5741, 5742, 5743, 5744, 5745, 5746, 5747, 5748, 5749, 5750, 5751, 5752, 5753, 5754, 5755, 5756, 5757, 5758, 5759, 5760, 5761, 5762, 5763, 5764, 5765, 5766, 5767, 5768, 5769, 5770, 5771, 5772, 5773, 5774, 5775, 5776, 5777, 5778, 5779, 5780, 5781, 5782, 5783, 5784, 5785, 5786, 5787, 5788, 5789, 5790, 5791, 5792, 5793, 5794, 5795, 5796, 5797, 5798, 5799, 5800, 5801, 5802, 5803, 5804, 5805, 5806, 5807, 5808, 5809, 5810, 5811, 5812, 5813, 5814, 5815, 5816, 5817, 5818, 5819, 5820, 5821, 5822, 5823, 5824, 5825, 5826, 5827, 5828, 5829, 5830, 5831, 5832, 5833, 5834, 5835, 5836, 5837, 5838, 5839, 5840, 5841, 5842, 5843, 5844, 5845, 5846, 5847, 5848, 5849, 5850, 5851, 5852, 5853, 5854, 5855, 5856, 5857, 5858, 5859, 5860, 5861, 5862, 5863, 5864, 5865, 5866, 5867, 5868, 5869, 5870, 5871, 5872, 5873, 5874, 5875, 5876, 5877, 5878, 5879, 5880, 5881, 5882, 5883, 5884, 5885, 5886, 5887, 5888, 5889, 5890, 5891, 5892, 5893, 5894, 5895, 5896, 5897, 5898, 5899, 5900, 5901, 5902, 5903, 5904, 5905, 5906, 5907, 5908, 5909, 5910, 5911, 5912, 5913, 5914, 5915, 5916, 5917, 5918, 5919, 5920, 5921, 5922, 5923, 5924, 5925, 5926, 5927, 5928, 5929, 5930, 5931, 5932, 5933, 5934, 5935, 5936, 5937, 5938, 5939, 5940, 5941, 5942, 5943, 5944, 5945, 5946, 5947, 5948, 5949, 5950, 5951, 5952, 5953, 5954, 5955, 5956, 5957, 5958, 5959, 5960, 5961, 5962, 5963, 5964, 5965, 5966, 5967, 5968, 5969, 5970, 5971, 5972, 5973, 5974, 5975, 5976, 5977, 5978, 5979, 5980, 5981, 5982, 5983, 5984, 5985, 5986, 5987, 5988, 5989, 5990, 5991, 5992, 5993, 5994, 5995, 5996, 5997, 5998, 5999, 6000, 6001, 6002, 6003, 6004, 6005, 6006, 6007, 6008, 6009, 6010, 6011, 6012, 6013, 6014, 6015, 6016, 6017, 6018, 6019, 6020, 6021, 6022, 6023, 6024, 6025, 6026, 6027, 6028, 6029, 6030, 6031, 6032, 6033, 6034, 6035, 6036, 6037, 6038, 6039, 6040, 6041, 6042, 6043, 6044, 6045, 6046, 6047, 6048, 6049, 6050, 6051, 6052, 6053, 6054, 6055, 6056, 6057, 6058, 6059, 6060, 6061, 6062, 6063, 6064, 6065, 6066, 6067, 6068, 6069, 6070, 6071, 6072, 6073, 6074, 6075, 6076, 6077, 6078, 6079, 6080, 6081, 6082, 6083, 6084, 6085, 6086, 6087, 6088, 6089, 6090, 6091, 6092, 6093, 6094, 6095, 6096, 6097, 6098, 6099, 6100, 6101, 6102, 6103, 6104, 6105, 6106, 6107, 6108, 6109, 6110, 6111, 6112, 6113, 6114, 6115, 6116, 6117, 6118, 6119, 6120, 6121, 6122, 6123, 6124, 6125, 6126, 6127, 6128, 6129, 6130, 6131, 6132, 6133, 6134, 6135, 6136, 6137, 6138, 6139, 6140, 6141, 6142, 6143, 6144, 6145, 6146, 6147, 6148, 6149, 6150, 6151, 6152, 6153, 6154, 6155, 6156, 6157, 6158, 6159, 6160, 6161, 6162, 6163, 6164, 6165, 6166, 6167, 6168, 6169, 6170, 6171, 6172, 6173, 6174, 6175, 6176, 6177, 6178, 6179, 6180, 6181, 6182, 6183, 6184, 6185, 6186, 6187, 6188, 6189, 6190, 6191, 6192, 6193, 6194, 6195, 6196, 6197, 6198, 6199, 6200, 6201, 6202, 6203, 6204, 6205, 6206, 6207, 6208, 6209, 6210, 6211, 6212, 6213, 6214, 6215, 6216, 6217, 6218, 6219, 6220, 6221, 6222, 6223, 6224, 6225, 6226, 6227, 6228, 6229, 6230, 6231, 6232, 6233, 6234, 6235, 6236, 6237, 6238, 6239, 6240, 6241, 6242, 6243, 6244, 6245, 6246, 6247, 6248, 6249, 6250, 6251, 6252, 6253, 6254, 6255, 6256, 6257, 6258, 6259, 6260, 6261, 6262, 6263, 6264, 6265, 6266, 6267, 6268, 6269, 6270, 6271, 6272, 6273, 6274, 6275, 6276, 6277, 6278, 6279, 6280, 6281, 6282, 6283, 6284, 6285, 6286, 6287, 6288, 6289, 6290, 6291, 6292, 6293, 6294, 6295, 6296, 6297, 6298, 6299, 6300, 6301, 6302, 6303, 6304, 6305, 6306, 6307, 6308, 6309, 6310, 6311, 6312, 6313, 6314, 6315, 6316, 6317, 6318, 6319, 6320, 6321, 6322, 6323, 6324, 6325, 6326, 6327, 6328, 6329, 6330, 6331, 6332, 6333, 6334, 6335, 6336, 6337, 6338, 6339, 6340, 6341, 6342, 6343, 6344, 6345, 6346, 6347, 6348, 6349, 6350, 6351, 6352, 6353, 6354, 6355, 6356, 6357, 6358, 6359, 6360, 6361, 6362, 6363, 6364, 6365, 6366, 6367, 6368, 6369, 6370, 6371, 6372, 6373, 6374, 6375, 6376, 6377, 6378, 6379, 6380, 6381, 6382, 6383, 6384, 6385, 6386, 6387, 6388, 6389, 6390, 6391, 6392, 6393, 6394, 6395, 6396, 6397, 6398, 6399, 6400, 6401, 6402, 6403, 6404, 6405, 6406, 6407, 6408, 6409, 6410, 6411, 6412, 6413, 6414, 6415, 6416, 6417, 6418, 6419, 6420, 6421, 6422, 6423, 6424, 6425, 6426, 6427, 6428, 6429, 6430, 6431, 6432, 6433, 6434, 6435, 6436, 6437, 6438, 6439, 6440, 6441, 6442, 6443, 6444, 6445, 6446, 6447, 6448, 6449, 6450, 6451, 6452, 6453, 6454, 6455, 6456, 6457, 6458, 6459, 6460, 6461, 6462, 6463, 6464, 6465, 6466, 6467, 6468, 6469, 6470, 6471, 6472, 6473, 6474, 6475, 6476, 6477, 6478, 6479, 6480, 6481, 6482, 6483, 6484, 6485, 6486, 6487, 6488, 6489, 6490, 6491, 6492, 6493, 6494, 6495, 6496, 6497, 6498, 6499, 6500, 6501, 6502, 6503, 6504, 6505, 6506, 6507, 6508, 6509, 6510, 6511, 6512, 6513, 6514, 6515, 6516, 6517, 6518, 6519, 6520, 6521, 6522, 6523, 6524, 6525, 6526, 6527, 6528, 6529, 6530, 6531, 6532, 6533, 6534, 6535, 6536, 6537, 6538, 6539, 6540, 6541, 6542, 6543, 6544, 6545, 6546, 6547, 6548, 6549, 6550, 6551, 6552, 6553, 6554, 6555, 6556, 6557, 6558, 6559, 6560, 6561, 6562, 6563, 6564, 6565, 6566, 6567, 6568, 6569, 6570, 6571, 6572, 6573, 6574, 6575, 6576, 6577, 6578, 6579, 6580, 6581, 6582, 6583, 6584, 6585, 6586, 6587, 6588, 6589, 6590, 6591, 6592, 6593, 6594, 6595, 6596, 6597, 6598, 6599, 6600, 6601, 6602, 6603, 6604, 6605, 6606, 6607, 6608, 6609, 6610, 6611, 6612, 6613, 6614, 6615, 6616, 6617, 6618, 6619, 6620, 6621, 6622, 6623, 6624, 6625, 6626, 6627, 6628, 6629, 6630, 6631, 6632, 6633, 6634, 6635, 6636, 6637, 6638, 6639, 6640, 6641, 6642, 6643, 6644, 6645, 6646, 6647, 6648, 6649, 6650, 6651, 6652, 6653, 6654, 6655, 6656, 6657, 6658, 6659, 6660, 6661, 6662, 6663, 6664, 6665, 6666, 6667, 6668, 6669, 6670, 6671, 6672, 6673, 6674, 6675, 6676, 6677, 6678, 6679, 6680, 6681, 6682, 6683, 6684, 6685, 6686, 6687, 6688, 6689, 6690, 6691, 6692, 6693, 6694, 6695, 6696, 6697, 6698, 6699, 6700, 6701, 6702, 6703, 6704, 6705, 6706, 6707, 6708, 6709, 6710, 6711, 6712, 6713, 6714, 6715, 6716, 6717, 6718, 6719, 6720, 6721, 6722, 6723, 6724, 6725, 6726, 6727, 6728, 6729, 6730, 6731, 6732, 6733, 6734, 6735, 6736, 6737, 6738, 6739, 6740, 6741, 6742, 6743, 6744, 6745, 6746, 6747, 6748, 6749, 6750, 6751, 6752, 6753, 6754, 6755, 6756, 6757, 6758, 6759, 6760, 6761, 6762, 6763, 6764, 6765, 6766, 6767, 6768, 6769, 6770, 6771, 6772, 6773, 6774, 6775, 6776, 6777, 6778, 6779, 6780, 6781, 6782, 6783, 6784, 6785, 6786, 6787, 6788, 6789, 6790, 6791, 6792, 6793, 6794, 6795, 6796, 6797, 6798, 6799, 6800, 6801, 6802, 6803, 6804, 6805, 6806, 6807, 6808, 6809, 6810, 6811, 6812, 6813, 6814, 6815, 6816, 6817, 6818, 6819, 6820, 6821, 6822, 6823, 6824, 6825, 6826, 6827, 6828, 6829, 6830, 6831, 6832, 6833, 6834, 6835, 6836, 6837, 6838, 6839, 6840, 6841, 6842, 6843, 6844, 6845, 6846, 6847, 6848, 6849, 6850, 6851, 6852, 6853, 6854, 6855, 6856, 6857, 6858, 6859, 6860, 6861, 6862, 6863, 6864, 6865, 6866, 6867, 6868, 6869, 6870, 6871, 6872, 6873, 6874, 6875, 6876, 6877, 6878, 6879, 6880, 6881, 6882, 6883, 6884, 6885, 6886, 6887, 6888, 6889, 6890, 6891, 6892, 6893, 6894, 6895, 6896, 6897, 6898, 6899, 6900, 6901, 6902, 6903, 6904, 6905, 6906, 6907, 6908, 6909, 6910, 6911, 6912, 6913, 6914, 6915, 6916, 6917, 6918, 6919, 6920, 6921, 6922, 6923, 6924, 6925, 6926, 6927, 6928, 6929, 6930, 6931, 6932, 6933, 6934, 6935, 6936, 6937, 6938, 6939, 6940, 6941, 6942, 6943, 6944, 6945, 6946, 6947, 6948, 6949, 6950, 6951, 6952, 6953, 6954, 6955, 6956, 6957, 6958, 6959, 6960, 6961, 6962, 6963, 6964, 6965, 6966, 6967, 6968, 6969, 6970, 6971, 6972, 6973, 6974, 6975, 6976, 6977, 6978, 6979, 6980, 6981, 6982, 6983, 6984, 6985, 6986, 6987, 6988, 6989, 6990, 6991, 6992, 6993, 6994, 6995, 6996, 6997, 6998, 6999, 7000, 7001, 7002, 7003, 7004, 7005, 7006, 7007, 7008, 7009, 7010, 7011, 7012, 7013, 7014, 7015, 7016, 7017, 7018, 7019, 7020, 7021, 7022, 7023, 7024, 7025, 7026, 7027, 7028, 7029, 7030, 7031, 7032, 7033, 7034, 7035, 7036, 7037, 7038, 7039, 7040, 7041, 7042, 7043, 7044, 7045, 7046, 7047, 7048, 7049, 7050, 7051, 7052, 7053, 7054, 7055, 7056, 7057, 7058, 7059, 7060, 7061, 7062, 7063, 7064, 7065, 7066, 7067, 7068, 7069, 7070, 7071, 7072, 7073, 7074, 7075, 7076, 7077, 7078, 7079, 7080, 7081, 7082, 7083, 7084, 7085, 7086, 7087, 7088, 7089, 7090, 7091, 7092, 7093, 7094, 7095, 7096, 7097, 7098, 7099, 7100, 7101, 7102, 7103, 7104, 7105, 7106, 7107, 7108, 7109, 7110, 7111, 7112, 7113, 7114, 7115, 7116, 7117, 7118, 7119, 7120, 7121, 7122, 7123, 7124, 7125, 7126, 7127, 7128, 7129, 7130, 7131, 7132, 7133, 7134, 7135, 7136, 7137, 7138, 7139, 7140, 7141, 7142, 7143, 7144, 7145, 7146, 7147, 7148, 7149, 7150, 7151, 7152, 7153, 7154, 7155, 7156, 7157, 7158, 7159, 7160, 7161, 7162, 7163, 7164, 7165, 7166, 7167, 7168, 7169, 7170, 7171, 7172, 7173, 7174, 7175, 7176, 7177, 7178, 7179, 7180, 7181, 7182, 7183, 7184, 7185, 7186, 7187, 7188, 7189, 7190, 7191, 7192, 7193, 7194, 7195, 7196, 7197, 7198, 7199, 7200, 7201, 7202, 7203, 7204, 7205, 7206, 7207, 7208, 7209, 7210, 7211, 7212, 7213, 7214, 7215, 7216, 7217, 7218, 7219, 7220, 7221, 7222, 7223, 7224, 7225, 7226, 7227, 7228, 7229, 7230, 7231, 7232, 7233, 7234, 7235, 7236, 7237, 7238, 7239, 7240, 7241, 7242, 7243, 7244, 7245, 7246, 7247, 7248, 7249, 7250, 7251, 7252, 7253, 7254, 7255, 7256, 7257, 7258, 7259, 7260, 7261, 7262, 7263, 7264, 7265, 7266, 7267, 7268, 7269, 7270, 7271, 7272, 7273, 7274, 7275, 7276, 7277, 7278, 7279, 7280, 7281, 7282, 7283, 7284, 7285, 7286, 7287, 7288, 7289, 7290, 7291, 7292, 7293, 7294, 7295, 7296, 7297, 7298, 7299, 7300, 7301, 7302, 7303, 7304, 7305, 7306, 7307, 7308, 7309, 7310, 7311, 7312, 7313, 7314, 7315, 7316, 7317, 7318, 7319, 7320, 7321, 7322, 7323, 7324, 7325, 7326, 7327, 7328, 7329, 7330, 7331, 7332, 7333, 7334, 7335, 7336, 7337, 7338, 7339, 7340, 7341, 7342, 7343, 7344, 7345, 7346, 7347, 7348, 7349, 7350, 7351, 7352, 7353, 7354, 7355, 7356, 7357, 7358, 7359, 7360, 7361, 7362, 7363, 7364, 7365, 7366, 7367, 7368, 7369, 7370, 7371, 7372, 7373, 7374, 7375, 7376, 7377, 7378, 7379, 7380, 7381, 7382, 7383, 7384, 7385, 7386, 7387, 7388, 7389, 7390, 7391, 7392, 7393, 7394, 7395, 7396, 7397, 7398, 7399, 7400, 7401, 7402, 7403, 7404, 7405, 7406, 7407, 7408, 7409, 7410, 7411, 7412, 7413, 7414, 7415, 7416, 7417, 7418, 7419, 7420, 7421, 7422, 7423, 7424, 7425, 7426, 7427, 7428, 7429, 7430, 7431, 7432, 7433, 7434, 7435, 7436, 7437, 7438, 7439, 7440, 7441, 7442, 7443, 7444, 7445, 7446, 7447, 7448, 7449, 7450, 7451, 7452, 7453, 7454, 7455, 7456, 7457, 7458, 7459, 7460, 7461, 7462, 7463, 7464, 7465, 7466, 7467, 7468, 7469, 7470, 7471, 7472, 7473, 7474, 7475, 7476, 7477, 7478, 7479, 7480, 7481, 7482, 7483, 7484, 7485, 7486, 7487, 7488, 7489, 7490, 7491, 7492, 7493, 7494, 7495, 7496, 7497, 7498, 7499, 7500, 7501, 7502, 7503, 7504, 7505, 7506, 7507, 7508, 7509, 7510, 7511, 7512, 7513, 7514, 7515, 7516, 7517, 7518, 7519, 7520, 7521, 7522, 7523, 7524, 7525, 7526, 7527, 7528, 7529, 7530, 7531, 7532, 7533, 7534, 7535, 7536, 7537, 7538, 7539, 7540, 7541, 7542, 7543, 7544, 7545, 7546, 7547, 7548, 7549, 7550, 7551, 7552, 7553, 7554, 7555, 7556, 7557, 7558, 7559, 7560, 7561, 7562, 7563, 7564, 7565, 7566, 7567, 7568, 7569, 7570, 7571, 7572, 7573, 7574, 7575, 7576, 7577, 7578, 7579, 7580, 7581, 7582, 7583, 7584, 7585, 7586, 7587, 7588, 7589, 7590, 7591, 7592, 7593, 7594, 7595, 7596, 7597, 7598, 7599, 7600, 7601, 7602, 7603, 7604, 7605, 7606, 7607, 7608, 7609, 7610, 7611, 7612, 7613, 7614, 7615, 7616, 7617, 7618, 7619, 7620, 7621, 7622, 7623, 7624, 7625, 7626, 7627, 7628, 7629, 7630, 7631, 7632, 7633, 7634, 7635, 7636, 7637, 7638, 7639, 7640, 7641, 7642, 7643, 7644, 7645, 7646, 7647, 7648, 7649, 7650, 7651, 7652, 7653, 7654, 7655, 7656, 7657, 7658, 7659, 7660, 7661, 7662, 7663, 7664, 7665, 7666, 7667, 7668, 7669, 7670, 7671, 7672, 7673, 7674, 7675, 7676, 7677, 7678, 7679, 7680, 7681, 7682, 7683, 7684, 7685, 7686, 7687, 7688, 7689, 7690, 7691, 7692, 7693, 7694, 7695, 7696, 7697, 7698, 7699, 7700, 7701, 7702, 7703, 7704, 7705, 7706, 7707, 7708, 7709, 7710, 7711, 7712, 7713, 7714, 7715, 7716, 7717, 7718, 7719, 7720, 7721, 7722, 7723, 7724, 7725, 7726, 7727, 7728, 7729, 7730, 7731, 7732, 7733, 7734, 7735, 7736, 7737, 7738, 7739, 7740, 7741, 7742, 7743, 7744, 7745, 7746, 7747, 7748, 7749, 7750, 7751, 7752, 7753, 7754, 7755, 7756, 7757, 7758, 7759, 7760, 7761, 7762, 7763, 7764, 7765, 7766, 7767, 7768, 7769, 7770, 7771, 7772, 7773, 7774, 7775, 7776, 7777, 7778, 7779, 7780, 7781, 7782, 7783, 7784, 7785, 7786, 7787, 7788, 7789, 7790, 7791, 7792, 7793, 7794, 7795, 7796, 7797, 7798, 7799, 7800, 7801, 7802, 7803, 7804, 7805, 7806, 7807, 7808, 7809, 7810, 7811, 7812, 7813, 7814, 7815, 7816, 7817, 7818, 7819, 7820, 7821, 7822, 7823, 7824, 7825, 7826, 7827, 7828, 7829, 7830, 7831, 7832, 7833, 7834, 7835, 7836, 7837, 7838, 7839, 7840, 7841, 7842, 7843, 7844, 7845, 7846, 7847, 7848, 7849, 7850, 7851, 7852, 7853, 7854, 7855, 7856, 7857, 7858, 7859, 7860, 7861, 7862, 7863, 7864, 7865, 7866, 7867, 7868, 7869, 7870, 7871, 7872, 7873, 7874, 7875, 7876, 7877, 7878, 7879, 7880, 7881, 7882, 7883, 7884, 7885, 7886, 7887, 7888, 7889, 7890, 7891, 7892, 7893, 7894, 7895, 7896, 7897, 7898, 7899, 7900, 7901, 7902, 7903, 7904, 7905, 7906, 7907, 7908, 7909, 7910, 7911, 7912, 7913, 7914, 7915, 7916, 7917, 7918, 7919, 7920, 7921, 7922, 7923, 7924, 7925, 7926, 7927, 7928, 7929, 7930, 7931, 7932, 7933, 7934, 7935, 7936, 7937, 7938, 7939, 7940, 7941, 7942, 7943, 7944, 7945, 7946, 7947, 7948, 7949, 7950, 7951, 7952, 7953, 7954, 7955, 7956, 7957, 7958, 7959, 7960, 7961, 7962, 7963, 7964, 7965, 7966, 7967, 7968, 7969, 7970, 7971, 7972, 7973, 7974, 7975, 7976, 7977, 7978, 7979, 7980, 7981, 7982, 7983, 7984, 7985, 7986, 7987, 7988, 7989, 7990, 7991, 7992, 7993, 7994, 7995, 7996, 7997, 7998, 7999, 8000, 8001, 8002, 8003, 8004, 8005, 8006, 8007, 8008, 8009, 8010, 8011, 8012, 8013, 8014, 8015, 8016, 8017, 8018, 8019, 8020, 8021, 8022, 8023, 8024, 8025, 8026, 8027, 8028, 8029, 8030, 8031, 8032, 8033, 8034, 8035, 8036, 8037, 8038, 8039, 8040, 8041, 8042, 8043, 8044, 8045, 8046, 8047, 8048, 8049, 8050, 8051, 8052, 8053, 8054, 8055, 8056, 8057, 8058, 8059, 8060, 8061, 8062, 8063, 8064, 8065, 8066, 8067, 8068, 8069, 8070, 8071, 8072, 8073, 8074, 8075, 8076, 8077, 8078, 8079, 8080, 8081, 8082, 8083, 8084, 8085, 8086, 8087, 8088, 8089, 8090, 8091, 8092, 8093, 8094, 8095, 8096, 8097, 8098, 8099, 8100, 8101, 8102, 8103, 8104, 8105, 8106, 8107, 8108, 8109, 8110, 8111, 8112, 8113, 8114, 8115, 8116, 8117, 8118, 8119, 8120, 8121, 8122, 8123, 8124, 8125, 8126, 8127, 8128, 8129, 8130, 8131, 8132, 8133, 8134, 8135, 8136, 8137, 8138, 8139, 8140, 8141, 8142, 8143, 8144, 8145, 8146, 8147, 8148, 8149, 8150, 8151, 8152, 8153, 8154, 8155, 8156, 8157, 8158, 8159, 8160, 8161, 8162, 8163, 8164, 8165, 8166, 8167, 8168, 8169, 8170, 8171, 8172, 8173, 8174, 8175, 8176, 8177, 8178, 8179, 8180, 8181, 8182, 8183, 8184, 8185, 8186, 8187, 8188, 8189, 8190, 8191, 8192, 8193, 8194, 8195, 8196, 8197, 8198, 8199, 8200, 8201, 8202, 8203, 8204, 8205, 8206, 8207, 8208, 8209, 8210, 8211, 8212, 8213, 8214, 8215, 8216, 8217, 8218, 8219, 8220, 8221, 8222, 8223, 8224, 8225, 8226, 8227, 8228, 8229, 8230, 8231, 8232, 8233, 8234, 8235, 8236, 8237, 8238, 8239, 8240, 8241, 8242, 8243, 8244, 8245, 8246, 8247, 8248, 8249, 8250, 8251, 8252, 8253, 8254, 8255, 8256, 8257, 8258, 8259, 8260, 8261, 8262, 8263, 8264, 8265, 8266, 8267, 8268, 8269, 8270, 8271, 8272, 8273, 8274, 8275, 8276, 8277, 8278, 8279, 8280, 8281, 8282, 8283, 8284, 8285, 8286, 8287, 8288, 8289, 8290, 8291, 8292, 8293, 8294, 8295, 8296, 8297, 8298, 8299, 8300, 8301, 8302, 8303, 8304, 8305, 8306, 8307, 8308, 8309, 8310, 8311, 8312, 8313, 8314, 8315, 8316, 8317, 8318, 8319, 8320, 8321, 8322, 8323, 8324, 8325, 8326, 8327, 8328, 8329, 8330, 8331, 8332, 8333, 8334, 8335, 8336, 8337, 8338, 8339, 8340, 8341, 8342, 8343, 8344, 8345, 8346, 8347, 8348, 8349, 8350, 8351, 8352, 8353, 8354, 8355, 8356, 8357, 8358, 8359, 8360, 8361, 8362, 8363, 8364, 8365, 8366, 8367, 8368, 8369, 8370, 8371, 8372, 8373, 8374, 8375, 8376, 8377, 8378, 8379, 8380, 8381, 8382, 8383, 8384, 8385, 8386, 8387, 8388, 8389, 8390, 8391, 8392, 8393, 8394, 8395, 8396, 8397, 8398, 8399, 8400, 8401, 8402, 8403, 8404, 8405, 8406, 8407, 8408, 8409, 8410, 8411, 8412, 8413, 8414, 8415, 8416, 8417, 8418, 8419, 8420, 8421, 8422, 8423, 8424, 8425, 8426, 8427, 8428, 8429, 8430, 8431, 8432, 8433, 8434, 8435, 8436, 8437, 8438, 8439, 8440, 8441, 8442, 8443, 8444, 8445, 8446, 8447, 8448, 8449, 8450, 8451, 8452, 8453, 8454, 8455, 8456, 8457, 8458, 8459, 8460, 8461, 8462, 8463, 8464, 8465, 8466, 8467, 8468, 8469, 8470, 8471, 8472, 8473, 8474, 8475, 8476, 8477, 8478, 8479, 8480, 8481, 8482, 8483, 8484, 8485, 8486, 8487, 8488, 8489, 8490, 8491, 8492, 8493, 8494, 8495, 8496, 8497, 8498, 8499, 8500, 8501, 8502, 8503, 8504, 8505, 8506, 8507, 8508, 8509, 8510, 8511, 8512, 8513, 8514, 8515, 8516, 8517, 8518, 8519, 8520, 8521, 8522, 8523, 8524, 8525, 8526, 8527, 8528, 8529, 8530, 8531, 8532, 8533, 8534, 8535, 8536, 8537, 8538, 8539, 8540, 8541, 8542, 8543, 8544, 8545, 8546, 8547, 8548, 8549, 8550, 8551, 8552, 8553, 8554, 8555, 8556, 8557, 8558, 8559, 8560, 8561, 8562, 8563, 8564, 8565, 8566, 8567, 8568, 8569, 8570, 8571, 8572, 8573, 8574, 8575, 8576, 8577, 8578, 8579, 8580, 8581, 8582, 8583, 8584, 8585, 8586, 8587, 8588, 8589, 8590, 8591, 8592, 8593, 8594, 8595, 8596, 8597, 8598, 8599, 8600, 8601, 8602, 8603, 8604, 8605, 8606, 8607, 8608, 8609, 8610, 8611, 8612, 8613, 8614, 8615, 8616, 8617, 8618, 8619, 8620, 8621, 8622, 8623, 8624, 8625, 8626, 8627, 8628, 8629, 8630, 8631, 8632, 8633, 8634, 8635, 8636, 8637, 8638, 8639, 8640, 8641, 8642, 8643, 8644, 8645, 8646, 8647, 8648, 8649, 8650, 8651, 8652, 8653, 8654, 8655, 8656, 8657, 8658, 8659, 8660, 8661, 8662, 8663, 8664, 8665, 8666, 8667, 8668, 8669, 8670, 8671, 8672, 8673, 8674, 8675, 8676, 8677, 8678, 8679, 8680, 8681, 8682, 8683, 8684, 8685, 8686, 8687, 8688, 8689, 8690, 8691, 8692, 8693, 8694, 8695, 8696, 8697, 8698, 8699, 8700, 8701, 8702, 8703, 8704, 8705, 8706, 8707, 8708, 8709, 8710, 8711, 8712, 8713, 8714, 8715, 8716, 8717, 8718, 8719, 8720, 8721, 8722, 8723, 8724, 8725, 8726, 8727, 8728, 8729, 8730, 8731, 8732, 8733, 8734, 8735, 8736, 8737, 8738, 8739, 8740, 8741, 8742, 8743, 8744, 8745, 8746, 8747, 8748, 8749, 8750, 8751, 8752, 8753, 8754, 8755, 8756, 8757, 8758, 8759, 8760, 8761, 8762, 8763, 8764, 8765, 8766, 8767, 8768, 8769, 8770, 8771, 8772, 8773, 8774, 8775, 8776, 8777, 8778, 8779, 8780, 8781, 8782, 8783, 8784, 8785, 8786, 8787, 8788, 8789, 8790, 8791, 8792, 8793, 8794, 8795, 8796, 8797, 8798, 8799, 8800, 8801, 8802, 8803, 8804, 8805, 8806, 8807, 8808, 8809, 8810, 8811, 8812, 8813, 8814, 8815, 8816, 8817, 8818, 8819, 8820, 8821, 8822, 8823, 8824, 8825, 8826, 8827, 8828, 8829, 8830, 8831, 8832, 8833, 8834, 8835, 8836, 8837, 8838, 8839, 8840, 8841, 8842, 8843, 8844, 8845, 8846, 8847, 8848, 8849, 8850, 8851, 8852, 8853, 8854, 8855, 8856, 8857, 8858, 8859, 8860, 8861, 8862, 8863, 8864, 8865, 8866, 8867, 8868, 8869, 8870, 8871, 8872, 8873, 8874, 8875, 8876, 8877, 8878, 8879, 8880, 8881, 8882, 8883, 8884, 8885, 8886, 8887, 8888, 8889, 8890, 8891, 8892, 8893, 8894, 8895, 8896, 8897, 8898, 8899, 8900, 8901, 8902, 8903, 8904, 8905, 8906, 8907, 8908, 8909, 8910, 8911, 8912, 8913, 8914, 8915, 8916, 8917, 8918, 8919, 8920, 8921, 8922, 8923, 8924, 8925, 8926, 8927, 8928, 8929, 8930, 8931, 8932, 8933, 8934, 8935, 8936, 8937, 8938, 8939, 8940, 8941, 8942, 8943, 8944, 8945, 8946, 8947, 8948, 8949, 8950, 8951, 8952, 8953, 8954, 8955, 8956, 8957, 8958, 8959, 8960, 8961, 8962, 8963, 8964, 8965, 8966, 8967, 8968, 8969, 8970, 8971, 8972, 8973, 8974, 8975, 8976, 8977, 8978, 8979, 8980, 8981, 8982, 8983, 8984, 8985, 8986, 8987, 8988, 8989, 8990, 8991, 8992, 8993, 8994, 8995, 8996, 8997, 8998, 8999, 9000, 9001, 9002, 9003, 9004, 9005, 9006, 9007, 9008, 9009, 9010, 9011, 9012, 9013, 9014, 9015, 9016, 9017, 9018, 9019, 9020, 9021, 9022, 9023, 9024, 9025, 9026, 9027, 9028, 9029, 9030, 9031, 9032, 9033, 9034, 9035, 9036, 9037, 9038, 9039, 9040, 9041, 9042, 9043, 9044, 9045, 9046, 9047, 9048, 9049, 9050, 9051, 9052, 9053, 9054, 9055, 9056, 9057, 9058, 9059, 9060, 9061, 9062, 9063, 9064, 9065, 9066, 9067, 9068, 9069, 9070, 9071, 9072, 9073, 9074, 9075, 9076, 9077, 9078, 9079, 9080, 9081, 9082, 9083, 9084, 9085, 9086, 9087, 9088, 9089, 9090, 9091, 9092, 9093, 9094, 9095, 9096, 9097, 9098, 9099, 9100, 9101, 9102, 9103, 9104, 9105, 9106, 9107, 9108, 9109, 9110, 9111, 9112, 9113, 9114, 9115, 9116, 9117, 9118, 9119, 9120, 9121, 9122, 9123, 9124, 9125, 9126, 9127, 9128, 9129, 9130, 9131, 9132, 9133, 9134, 9135, 9136, 9137, 9138, 9139, 9140, 9141, 9142, 9143, 9144, 9145, 9146, 9147, 9148, 9149, 9150, 9151, 9152, 9153, 9154, 9155, 9156, 9157, 9158, 9159, 9160, 9161, 9162, 9163, 9164, 9165, 9166, 9167, 9168, 9169, 9170, 9171, 9172, 9173, 9174, 9175, 9176, 9177, 9178, 9179, 9180, 9181, 9182, 9183, 9184, 9185, 9186, 9187, 9188, 9189, 9190, 9191, 9192, 9193, 9194, 9195, 9196, 9197, 9198, 9199, 9200, 9201, 9202, 9203, 9204, 9205, 9206, 9207, 9208, 9209, 9210, 9211, 9212, 9213, 9214, 9215, 9216, 9217, 9218, 9219, 9220, 9221, 9222, 9223, 9224, 9225, 9226, 9227, 9228, 9229, 9230, 9231, 9232, 9233, 9234, 9235, 9236, 9237, 9238, 9239, 9240, 9241, 9242, 9243, 9244, 9245, 9246, 9247, 9248, 9249, 9250, 9251, 9252, 9253, 9254, 9255, 9256, 9257, 9258, 9259, 9260, 9261, 9262, 9263, 9264, 9265, 9266, 9267, 9268, 9269, 9270, 9271, 9272, 9273, 9274, 9275, 9276, 9277, 9278, 9279, 9280, 9281, 9282, 9283, 9284, 9285, 9286, 9287, 9288, 9289, 9290, 9291, 9292, 9293, 9294, 9295, 9296, 9297, 9298, 9299, 9300, 9301, 9302, 9303, 9304, 9305, 9306, 9307, 9308, 9309, 9310, 9311, 9312, 9313, 9314, 9315, 9316, 9317, 9318, 9319, 9320, 9321, 9322, 9323, 9324, 9325, 9326, 9327, 9328, 9329, 9330, 9331, 9332, 9333, 9334, 9335, 9336, 9337, 9338, 9339, 9340, 9341, 9342, 9343, 9344, 9345, 9346, 9347, 9348, 9349, 9350, 9351, 9352, 9353, 9354, 9355, 9356, 9357, 9358, 9359, 9360, 9361, 9362, 9363, 9364, 9365, 9366, 9367, 9368, 9369, 9370, 9371, 9372, 9373, 9374, 9375, 9376, 9377, 9378, 9379, 9380, 9381, 9382, 9383, 9384, 9385, 9386, 9387, 9388, 9389, 9390, 9391, 9392, 9393, 9394, 9395, 9396, 9397, 9398, 9399, 9400, 9401, 9402, 9403, 9404, 9405, 9406, 9407, 9408, 9409, 9410, 9411, 9412, 9413, 9414, 9415, 9416, 9417, 9418, 9419, 9420, 9421, 9422, 9423, 9424, 9425, 9426, 9427, 9428, 9429, 9430, 9431, 9432, 9433, 9434, 9435, 9436, 9437, 9438, 9439, 9440, 9441, 9442, 9443, 9444, 9445, 9446, 9447, 9448, 9449, 9450, 9451, 9452, 9453, 9454, 9455, 9456, 9457, 9458, 9459, 9460, 9461, 9462, 9463, 9464, 9465, 9466, 9467, 9468, 9469, 9470, 9471, 9472, 9473, 9474, 9475, 9476, 9477, 9478, 9479, 9480, 9481, 9482, 9483, 9484, 9485, 9486, 9487, 9488, 9489, 9490, 9491, 9492, 9493, 9494, 9495, 9496, 9497, 9498, 9499, 9500, 9501, 9502, 9503, 9504, 9505, 9506, 9507, 9508, 9509, 9510, 9511, 9512, 9513, 9514, 9515, 9516, 9517, 9518, 9519, 9520, 9521, 9522, 9523, 9524, 9525, 9526, 9527, 9528, 9529, 9530, 9531, 9532, 9533, 9534, 9535, 9536, 9537, 9538, 9539, 9540, 9541, 9542, 9543, 9544, 9545, 9546, 9547, 9548, 9549, 9550, 9551, 9552, 9553, 9554, 9555, 9556, 9557, 9558, 9559, 9560, 9561, 9562, 9563, 9564, 9565, 9566, 9567, 9568, 9569, 9570, 9571, 9572, 9573, 9574, 9575, 9576, 9577, 9578, 9579, 9580, 9581, 9582, 9583, 9584, 9585, 9586, 9587, 9588, 9589, 9590, 9591, 9592, 9593, 9594, 9595, 9596, 9597, 9598, 9599, 9600, 9601, 9602, 9603, 9604, 9605, 9606, 9607, 9608, 9609, 9610, 9611, 9612, 9613, 9614, 9615, 9616, 9617, 9618, 9619, 9620, 9621, 9622, 9623, 9624, 9625, 9626, 9627, 9628, 9629, 9630, 9631, 9632, 9633, 9634, 9635, 9636, 9637, 9638, 9639, 9640, 9641, 9642, 9643, 9644, 9645, 9646, 9647, 9648, 9649, 9650, 9651, 9652, 9653, 9654, 9655, 9656, 9657, 9658, 9659, 9660, 9661, 9662, 9663, 9664, 9665, 9666, 9667, 9668, 9669, 9670, 9671, 9672, 9673, 9674, 9675, 9676, 9677, 9678, 9679, 9680, 9681, 9682, 9683, 9684, 9685, 9686, 9687, 9688, 9689, 9690, 9691, 9692, 9693, 9694, 9695, 9696, 9697, 9698, 9699, 9700, 9701, 9702, 9703, 9704, 9705, 9706, 9707, 9708, 9709, 9710, 9711, 9712, 9713, 9714, 9715, 9716, 9717, 9718, 9719, 9720, 9721, 9722, 9723, 9724, 9725, 9726, 9727, 9728, 9729, 9730, 9731, 9732, 9733, 9734, 9735, 9736, 9737, 9738, 9739, 9740, 9741, 9742, 9743, 9744, 9745, 9746, 9747, 9748, 9749, 9750, 9751, 9752, 9753, 9754, 9755, 9756, 9757, 9758, 9759, 9760, 9761, 9762, 9763, 9764, 9765, 9766, 9767, 9768, 9769, 9770, 9771, 9772, 9773, 9774, 9775, 9776, 9777, 9778, 9779, 9780, 9781, 9782, 9783, 9784, 9785, 9786, 9787, 9788, 9789, 9790, 9791, 9792, 9793, 9794, 9795, 9796, 9797, 9798, 9799, 9800, 9801, 9802, 9803, 9804, 9805, 9806, 9807, 9808, 9809, 9810, 9811, 9812, 9813, 9814, 9815, 9816, 9817, 9818, 9819, 9820, 9821, 9822, 9823, 9824, 9825, 9826, 9827, 9828, 9829, 9830, 9831, 9832, 9833, 9834, 9835, 9836, 9837, 9838, 9839, 9840, 9841, 9842, 9843, 9844, 9845, 9846, 9847, 9848, 9849, 9850, 9851, 9852, 9853, 9854, 9855, 9856, 9857, 9858, 9859, 9860, 9861, 9862, 9863, 9864, 9865, 9866, 9867, 9868, 9869, 9870, 9871, 9872, 9873, 9874, 9875, 9876, 9877, 9878, 9879, 9880, 9881, 9882, 9883, 9884, 9885, 9886, 9887, 9888, 9889, 9890, 9891, 9892, 9893, 9894, 9895, 9896, 9897, 9898, 9899, 9900, 9901, 9902, 9903, 9904, 9905, 9906, 9907, 9908, 9909, 9910, 9911, 9912, 9913, 9914, 9915, 9916, 9917, 9918, 9919, 9920, 9921, 9922, 9923, 9924, 9925, 9926, 9927, 9928, 9929, 9930, 9931, 9932, 9933, 9934, 9935, 9936, 9937, 9938, 9939, 9940, 9941, 9942, 9943, 9944, 9945, 9946, 9947, 9948, 9949, 9950, 9951, 9952, 9953, 9954, 9955, 9956, 9957, 9958, 9959, 9960, 9961, 9962, 9963, 9964, 9965, 9966, 9967, 9968, 9969, 9970, 9971, 9972, 9973, 9974, 9975, 9976, 9977, 9978, 9979, 9980, 9981, 9982, 9983, 9984, 9985, 9986, 9987, 9988, 9989, 9990, 9991, 9992, 9993, 9994, 9995, 9996, 9997, 9998, 9999]\n"
          ]
        }
      ]
    },
    {
      "cell_type": "markdown",
      "metadata": {
        "id": "9Huo15QgR-z2"
      },
      "source": [
        "Now let's take a scenario, where you made the list b and you've been asked to extract the second till the seventh element. Will you go through typing b[1], b[2], b[3] and so on? What if we take list big_numbers and you were required to extract 500 of those entries? Too much of a pain? Well worry not! Python allows for a simpler way to extract these elements"
      ]
    },
    {
      "cell_type": "code",
      "metadata": {
        "id": "CT9IRxuPR-eg"
      },
      "source": [
        "print( big_numbers[1000:7000] )   # Yes that's right, you can slice these elements in this manner. [start_index : end_index + 1]"
      ],
      "execution_count": null,
      "outputs": []
    },
    {
      "cell_type": "markdown",
      "metadata": {
        "id": "Dakul-ljSRCG"
      },
      "source": [
        "Did you know that python allows you to extract negative indices too? You might be thinking about how that works right? Well whenever we provide python a negative index we essentially ask it to start at the end of the list and go backwards while indexing"
      ]
    },
    {
      "cell_type": "code",
      "metadata": {
        "colab": {
          "base_uri": "https://localhost:8080/"
        },
        "id": "Dw_WQShg5mn6",
        "outputId": "aa590633-0769-4dbf-c7f4-9bbf8190a980"
      },
      "source": [
        "# You can also extract all the elements till the end in the following way\n",
        "print( big_numbers[0:6] )"
      ],
      "execution_count": null,
      "outputs": [
        {
          "output_type": "stream",
          "name": "stdout",
          "text": [
            "[1000, 1001, 1002, 1003, 1004, 1005]\n"
          ]
        }
      ]
    },
    {
      "cell_type": "code",
      "metadata": {
        "id": "y1yR_49iSRfD",
        "colab": {
          "base_uri": "https://localhost:8080/"
        },
        "outputId": "203e7731-c7bd-4375-d443-8bf22e4cdf6d"
      },
      "source": [
        "print( big_numbers[-3] ) # SPOILER ALERT: It will print the last element!"
      ],
      "execution_count": null,
      "outputs": [
        {
          "output_type": "stream",
          "name": "stdout",
          "text": [
            "9997\n"
          ]
        }
      ]
    },
    {
      "cell_type": "code",
      "metadata": {
        "colab": {
          "base_uri": "https://localhost:8080/"
        },
        "id": "lV3i9fF16PFT",
        "outputId": "b15d2887-c4fe-47ee-b2d4-ee1ac5517962"
      },
      "source": [
        "print( big_numbers[-4:-2] )"
      ],
      "execution_count": null,
      "outputs": [
        {
          "output_type": "stream",
          "name": "stdout",
          "text": [
            "[9996, 9997]\n"
          ]
        }
      ]
    },
    {
      "cell_type": "markdown",
      "metadata": {
        "id": "PKtd8bHaSatf"
      },
      "source": [
        "Now what do we do if we want to increment all the elements of b by 2 and store it in a new list c? You'll most probably think of something like this"
      ]
    },
    {
      "cell_type": "code",
      "source": [
        "print(b)"
      ],
      "metadata": {
        "colab": {
          "base_uri": "https://localhost:8080/"
        },
        "id": "Qa02XJ7ZEFLx",
        "outputId": "4a7633c4-bdc6-4952-f52c-99a3a2877dd1"
      },
      "execution_count": null,
      "outputs": [
        {
          "output_type": "stream",
          "name": "stdout",
          "text": [
            "[0, 1, 2, 3, 4, 5, 6, 7, 8, 9]\n"
          ]
        }
      ]
    },
    {
      "cell_type": "code",
      "metadata": {
        "id": "iAKjIG0zSaWD",
        "colab": {
          "base_uri": "https://localhost:8080/"
        },
        "outputId": "542fac47-73b0-461a-ad65-8f89b59c03d5"
      },
      "source": [
        "c = []\n",
        "\n",
        "for i in range(len(b)):\n",
        "  c.append(2 + b[i])\n",
        "print(c)"
      ],
      "execution_count": null,
      "outputs": [
        {
          "output_type": "stream",
          "name": "stdout",
          "text": [
            "[2, 3, 4, 5, 6, 7, 8, 9, 10, 11]\n"
          ]
        }
      ]
    },
    {
      "cell_type": "markdown",
      "metadata": {
        "id": "TFrChrGcSgiC"
      },
      "source": [
        "While in theory this is essentially what is happening, there is another way which is much smaller which python allows for. It's called List Comperehension. Look at the following example"
      ]
    },
    {
      "cell_type": "code",
      "metadata": {
        "id": "8lD4a7xDSg-r",
        "colab": {
          "base_uri": "https://localhost:8080/"
        },
        "outputId": "b8fa74bc-4251-442f-f6b0-493b07435085"
      },
      "source": [
        "c = [x+2 for x in b]\n",
        "\n",
        "print(c)"
      ],
      "execution_count": null,
      "outputs": [
        {
          "output_type": "stream",
          "name": "stdout",
          "text": [
            "[2, 3, 4, 5, 6, 7, 8, 9, 10, 11]\n"
          ]
        }
      ]
    },
    {
      "cell_type": "markdown",
      "metadata": {
        "id": "m9TfOT-pSmnJ"
      },
      "source": [
        "As you can see we've got the same results!!\n",
        "\n",
        "Let's try out an example"
      ]
    },
    {
      "cell_type": "code",
      "metadata": {
        "id": "Jd94V4PVSm_G"
      },
      "source": [
        "# Let us make a new list d whose entries are those entries in c which are greater than 6\n",
        "d = [x for x in c if x>6]\n",
        "d"
      ],
      "execution_count": null,
      "outputs": []
    },
    {
      "cell_type": "markdown",
      "metadata": {
        "id": "2c-eDhwRSsZK"
      },
      "source": [
        "Well what do we do if we want to change the 3rd element of the list c to the number 42?"
      ]
    },
    {
      "cell_type": "code",
      "metadata": {
        "id": "Qx6QvwmBSuVL"
      },
      "source": [
        "# We simply do\n",
        "c[2] = 42\n",
        "\n",
        "print(c)"
      ],
      "execution_count": null,
      "outputs": []
    },
    {
      "cell_type": "markdown",
      "metadata": {
        "id": "nmTg0SUUSx1B"
      },
      "source": [
        "As you can see the third element of the list has changed\n",
        "\n",
        "Let us try removing one element from somewhere in between. Let's remove 7 from the list c"
      ]
    },
    {
      "cell_type": "code",
      "metadata": {
        "id": "47vaL_GgSyNf",
        "colab": {
          "base_uri": "https://localhost:8080/"
        },
        "outputId": "64ac6c23-17cb-4ef5-9ffb-a7ce8c3e89fe"
      },
      "source": [
        "c.remove(7)\n",
        "\n",
        "print(c)"
      ],
      "execution_count": null,
      "outputs": [
        {
          "output_type": "stream",
          "name": "stdout",
          "text": [
            "[2, 3, 4, 5, 6, 8, 9, 10, 11]\n"
          ]
        }
      ]
    },
    {
      "cell_type": "markdown",
      "metadata": {
        "id": "PwfQKc0wS7Su"
      },
      "source": [
        "## Tuples\n",
        "A tuple is a collection of entries which are ordered in the same way as lists but cannot be changed.\n",
        "\n",
        "All the regular list operations apply to tuples except for those which attempt to change it's own value"
      ]
    },
    {
      "cell_type": "code",
      "metadata": {
        "id": "Pq3NlFaeS707",
        "colab": {
          "base_uri": "https://localhost:8080/"
        },
        "outputId": "a2b0c962-504d-4ae9-a45e-284334ba2737"
      },
      "source": [
        "# Let us define a tuple\n",
        "\n",
        "tup_a = (1,2,3,4,5,6)\n",
        "\n",
        "print(tup_a)"
      ],
      "execution_count": null,
      "outputs": [
        {
          "output_type": "stream",
          "name": "stdout",
          "text": [
            "(1, 2, 3, 4, 5, 6)\n"
          ]
        }
      ]
    },
    {
      "cell_type": "markdown",
      "metadata": {
        "id": "Nr-55sUvS-V9"
      },
      "source": [
        "Let us try changing the entry of a tuple and see what happens"
      ]
    },
    {
      "cell_type": "code",
      "metadata": {
        "id": "tkBPk7YZTDdX"
      },
      "source": [
        "tup_a[2] = 42"
      ],
      "execution_count": null,
      "outputs": []
    },
    {
      "cell_type": "markdown",
      "metadata": {
        "id": "5XkSzECaTIdh"
      },
      "source": [
        "Oh no, it errored out :(\n",
        "  \n",
        "But this was expected right?"
      ]
    },
    {
      "cell_type": "code",
      "metadata": {
        "id": "S2OX8z4yTI2S",
        "colab": {
          "base_uri": "https://localhost:8080/"
        },
        "outputId": "7d8cf66f-bc7c-4ab0-84ab-1e9f00c51a43"
      },
      "source": [
        "# Make a new list e which has double the values of tuple a and select the 3rd till 5th element (both inclusive) of both list b and tuple tup_a to compare\n",
        "\n",
        "e = [2*x for x in tup_a]\n",
        "\n",
        "print(e[2:5])\n",
        "print(tup_a[2:5])"
      ],
      "execution_count": null,
      "outputs": [
        {
          "output_type": "stream",
          "name": "stdout",
          "text": [
            "[6, 8, 10]\n",
            "(3, 4, 5)\n"
          ]
        }
      ]
    },
    {
      "cell_type": "markdown",
      "metadata": {
        "id": "usMVleHaTXTv"
      },
      "source": [
        "# Dictionaries\n",
        "\n",
        "A dictionary is a collection of key value pairs which is ordered, changable and does not allow duplicate members.\n",
        "\n",
        "Too much terminology which doesn't make sense?\n",
        "\n",
        "Don't worry about it! Let's consider an analogy.\n",
        "\n",
        "What do you do when you save your close friend Manish's phone number on your phone? You type in their name followed by their phone number so that when they call you, you don't just see 10 digits staring at your face but instead see your friend's name. Well while saving that friend's number you have essentially created a dictionary!!!!\n",
        "\n",
        "You have used the friend's name as the key and his/her phone number as the value in the key value pair of the dictionary"
      ]
    },
    {
      "cell_type": "code",
      "metadata": {
        "id": "E8eqQEHtTWnO"
      },
      "source": [
        "phone_num = {'Shreyaas': 9937593721}  # This is just a random number I typed which starts with 9 please don't call this number, I don't even know if it's valid.\n",
        "\n",
        "print(phone_num)"
      ],
      "execution_count": null,
      "outputs": []
    },
    {
      "cell_type": "markdown",
      "metadata": {
        "id": "X7ORBE0BTevt"
      },
      "source": [
        "You go on and meet another friend of yours whose name is Harish. He gives you his number so once again you save this number"
      ]
    },
    {
      "cell_type": "code",
      "metadata": {
        "id": "esUUobJ6TeV_"
      },
      "source": [
        "phone_num['Harish'] = 9203848363  # You can make a new entry by mentioning the key and the value as shown\n",
        "\n",
        "print(phone_num)"
      ],
      "execution_count": null,
      "outputs": []
    },
    {
      "cell_type": "markdown",
      "metadata": {
        "id": "mXydVwQ-T08F"
      },
      "source": [
        "While you were talking to Harish, somewhere in the conversation Harish tells you that very recently he had switched his phone and he lost all his contacts. He asks you to give him Manish's number as they too are good friends. But wait none of us actually remember all our friends numbers do we? :P\n",
        "\n",
        "Well the dictionary you created can be used for this purpose!"
      ]
    },
    {
      "cell_type": "code",
      "metadata": {
        "id": "rdWDuXngT1OG"
      },
      "source": [
        "print( phone_num['Manish'] )"
      ],
      "execution_count": null,
      "outputs": []
    },
    {
      "cell_type": "markdown",
      "metadata": {
        "id": "2vD73bfBT5jA"
      },
      "source": [
        "While you're talking Harish who is a little absent minded suddenly remembers that he gave you his old phone number by mistake and now wants you to save his new number. Well how do we do that with dictionaries?"
      ]
    },
    {
      "cell_type": "code",
      "metadata": {
        "id": "6ttetOZsT506"
      },
      "source": [
        "phone_num['Harish'] = 9694038272   # It's that simple!\n",
        "\n",
        "print(phone_num)"
      ],
      "execution_count": null,
      "outputs": []
    },
    {
      "cell_type": "markdown",
      "metadata": {
        "id": "GeQnecUfT74O"
      },
      "source": [
        "And while he's at it, he asks you to also save his email ID just in case something goes wrong. Well you might be thinking how do we do that?\n",
        "\n",
        "Did you know that python also allows us to make a dictionary inside a dictionary?"
      ]
    },
    {
      "cell_type": "code",
      "metadata": {
        "id": "VGpAlqkRT-km"
      },
      "source": [
        "phone_num['Harish'] = {'number': 9694038272, 'email': 'harishsinha2002@abc.com'}\n",
        "\n",
        "print(phone_num)"
      ],
      "execution_count": null,
      "outputs": []
    },
    {
      "cell_type": "markdown",
      "metadata": {
        "id": "sxW4CJnqUAvb"
      },
      "source": [
        "Well how convenient is that?"
      ]
    },
    {
      "cell_type": "markdown",
      "metadata": {
        "id": "ACszkje_V95i"
      },
      "source": [
        "# **Python Libraries**\n"
      ]
    },
    {
      "cell_type": "markdown",
      "metadata": {
        "id": "AEz0gZBXWAT3"
      },
      "source": [
        "What is a Library? <br> A collection of modules used for specific applications.<br>\n",
        "Popular Libraries in Python\n",
        "\n",
        "*   NumPy\n",
        "*   Pandas\n",
        "*   OpenCV\n",
        "*   Matplotlib\n",
        "*   Scipy\n",
        "*   Tensorflow\n",
        "*   PyTorch\n",
        "<br> and many more...\n",
        "\n"
      ]
    },
    {
      "cell_type": "markdown",
      "metadata": {
        "id": "bjTO_7tSWBot"
      },
      "source": [
        "##Importing a Library\n",
        "We use 'import' to get access to the functions of the library"
      ]
    },
    {
      "cell_type": "code",
      "metadata": {
        "id": "6V8X-PQEWBEH"
      },
      "source": [
        "# importing numpy library with the keyword as np\n",
        "# Syntax: import <library_name> as <shorthand_notation>\n",
        "# Note: as part is optional, but recommended\n",
        "import numpy as np"
      ],
      "execution_count": null,
      "outputs": []
    },
    {
      "cell_type": "markdown",
      "metadata": {
        "id": "m6rJ1tqEWI0B"
      },
      "source": [
        "Here, we use a short hand notation for NumPy as 'np' while importing. Trust me, it saves time :)"
      ]
    },
    {
      "cell_type": "markdown",
      "metadata": {
        "id": "S9LxCd_Ciram"
      },
      "source": [
        "# Introduction to NumPy\n",
        "What is NumPy? <br>\n",
        "A python library used to deal with large multidimensional arrays. <br>\n"
      ]
    },
    {
      "cell_type": "code",
      "metadata": {
        "id": "z1cVCp6Om8ms",
        "colab": {
          "base_uri": "https://localhost:8080/"
        },
        "outputId": "bfefc143-725d-4335-8a17-7fba1d25842e"
      },
      "source": [
        "#Code along with us\n",
        "x=np.array([9,23,32,47,53])\n",
        "print(x, type(x))"
      ],
      "execution_count": null,
      "outputs": [
        {
          "output_type": "stream",
          "name": "stdout",
          "text": [
            "[ 9 23 32 47 53] <class 'numpy.ndarray'>\n"
          ]
        }
      ]
    },
    {
      "cell_type": "markdown",
      "metadata": {
        "id": "PRrqtg4fkpRo"
      },
      "source": [
        "Bro, we already have Lists and Tuples right? Why NumPy? <br>\n",
        "Let's compare"
      ]
    },
    {
      "cell_type": "code",
      "metadata": {
        "id": "1nYkT8ADd4pa"
      },
      "source": [
        "N = 100000"
      ],
      "execution_count": null,
      "outputs": []
    },
    {
      "cell_type": "markdown",
      "metadata": {
        "id": "wTamN8S5lSBk"
      },
      "source": [
        "Let's create a list with N entries containing integers from 0 to N-1 and multiply it element-wise with itself.<br> %%time will time the operation."
      ]
    },
    {
      "cell_type": "code",
      "metadata": {
        "colab": {
          "base_uri": "https://localhost:8080/"
        },
        "id": "LNLzAdSrk0am",
        "outputId": "510968af-8769-4064-82f6-381c00580557"
      },
      "source": [
        "%%time\n",
        "list_ = list(range(N))\n",
        "for i in range(N):\n",
        "    list_[i] = list_[i] * list_[i]"
      ],
      "execution_count": null,
      "outputs": [
        {
          "output_type": "stream",
          "name": "stdout",
          "text": [
            "CPU times: user 31 ms, sys: 2.93 ms, total: 34 ms\n",
            "Wall time: 35.4 ms\n"
          ]
        }
      ]
    },
    {
      "cell_type": "markdown",
      "metadata": {
        "id": "6AHFz9l7mKr7"
      },
      "source": [
        "Now, let's replicate this process using NumPy. Observe the simplicity in syntax and the latency"
      ]
    },
    {
      "cell_type": "code",
      "metadata": {
        "colab": {
          "base_uri": "https://localhost:8080/"
        },
        "id": "_3jeUsRtmX_L",
        "outputId": "b9738349-f42c-486a-986b-c634f49290d7"
      },
      "source": [
        "%%time\n",
        "arr = np.arange(N)\n",
        "arr = arr * arr"
      ],
      "execution_count": null,
      "outputs": [
        {
          "output_type": "stream",
          "name": "stdout",
          "text": [
            "CPU times: user 0 ns, sys: 2.11 ms, total: 2.11 ms\n",
            "Wall time: 2.2 ms\n"
          ]
        }
      ]
    },
    {
      "cell_type": "markdown",
      "metadata": {
        "id": "1t2xPoV9Nj9x"
      },
      "source": [
        "## Creating NumPy arrays"
      ]
    },
    {
      "cell_type": "code",
      "metadata": {
        "colab": {
          "base_uri": "https://localhost:8080/"
        },
        "id": "O1PvcfTJN1qi",
        "outputId": "a1382c70-ecb2-49ec-e2ae-fcfa0e90ce87"
      },
      "source": [
        "# Creating an array\n",
        "arr = np.arange(12)\n",
        "# Datatype of entries in np array\n",
        "print(arr.dtype)\n",
        "# Dimension of np array\n",
        "print(arr.ndim)\n",
        "# Shape of array\n",
        "print(arr.shape)\n",
        "# Size of array\n",
        "print(arr.size)"
      ],
      "execution_count": null,
      "outputs": [
        {
          "output_type": "stream",
          "name": "stdout",
          "text": [
            "int64\n",
            "1\n",
            "(12,)\n",
            "12\n"
          ]
        }
      ]
    },
    {
      "cell_type": "markdown",
      "metadata": {
        "id": "a9wtsEgEPQtA"
      },
      "source": [
        "Let's create a 2 Dimensional array"
      ]
    },
    {
      "cell_type": "code",
      "metadata": {
        "ExecuteTime": {
          "end_time": "2021-02-11T16:36:56.997797Z",
          "start_time": "2021-02-11T16:36:56.987202Z"
        },
        "id": "lrIZvvGYPc3b",
        "colab": {
          "base_uri": "https://localhost:8080/"
        },
        "outputId": "356e59e3-f15a-4aaa-a5de-2a33ac6fe649"
      },
      "source": [
        "# Code along with us\n",
        "arr = np.random.randn(5,4)\n",
        "arr"
      ],
      "execution_count": null,
      "outputs": [
        {
          "output_type": "execute_result",
          "data": {
            "text/plain": [
              "array([[-1.34359353, -0.60770513, -0.01897687, -0.1319411 ],\n",
              "       [ 0.23009758,  2.3236866 ,  0.35879852, -0.7113082 ],\n",
              "       [-0.12918097, -0.87910107,  0.19963898,  0.86532461],\n",
              "       [ 0.89191533,  0.82251431,  0.70946124, -1.06584813],\n",
              "       [-0.21500055,  0.14108745, -0.12079927,  0.18950353]])"
            ]
          },
          "metadata": {},
          "execution_count": 58
        }
      ]
    },
    {
      "cell_type": "markdown",
      "metadata": {
        "id": "I5UsVrfaoRiS"
      },
      "source": [
        "## Understanding dimension and shape of an array\n",
        "Try making a 3 Dimensional array. How about a 4 dimensional array? It's getting more complicated? <br>\n",
        "No worries, we have NumPy functions to create some basic arrays of required dimensions"
      ]
    },
    {
      "cell_type": "code",
      "metadata": {
        "colab": {
          "base_uri": "https://localhost:8080/"
        },
        "id": "A7TXVq-JpGjk",
        "outputId": "64ef6e0c-6329-4b25-a269-a8de06cb8746"
      },
      "source": [
        "# Create a 2x3x4 array with ones\n",
        "np.ones((2,3,4))"
      ],
      "execution_count": null,
      "outputs": [
        {
          "output_type": "execute_result",
          "data": {
            "text/plain": [
              "array([[[1., 1., 1., 1.],\n",
              "        [1., 1., 1., 1.],\n",
              "        [1., 1., 1., 1.]],\n",
              "\n",
              "       [[1., 1., 1., 1.],\n",
              "        [1., 1., 1., 1.],\n",
              "        [1., 1., 1., 1.]]])"
            ]
          },
          "metadata": {},
          "execution_count": 59
        }
      ]
    },
    {
      "cell_type": "code",
      "metadata": {
        "ExecuteTime": {
          "end_time": "2021-02-11T16:37:49.486650Z",
          "start_time": "2021-02-11T16:37:49.476420Z"
        },
        "colab": {
          "base_uri": "https://localhost:8080/"
        },
        "id": "XhzrGuFyped2",
        "outputId": "ca1af9d3-ab81-486f-e2bd-3bbbfc4b6ba7"
      },
      "source": [
        "# Create a 10x3 array with zeros\n",
        "arr2 = np.zeros((10,3))\n",
        "arr2"
      ],
      "execution_count": null,
      "outputs": [
        {
          "output_type": "execute_result",
          "data": {
            "text/plain": [
              "array([[0., 0., 0.],\n",
              "       [0., 0., 0.],\n",
              "       [0., 0., 0.],\n",
              "       [0., 0., 0.],\n",
              "       [0., 0., 0.],\n",
              "       [0., 0., 0.],\n",
              "       [0., 0., 0.],\n",
              "       [0., 0., 0.],\n",
              "       [0., 0., 0.],\n",
              "       [0., 0., 0.]])"
            ]
          },
          "metadata": {},
          "execution_count": 60
        }
      ]
    },
    {
      "cell_type": "markdown",
      "metadata": {
        "id": "bv1h71nhUbre"
      },
      "source": [
        "Let's first define a **function** that gives all info about nature of array"
      ]
    },
    {
      "cell_type": "code",
      "metadata": {
        "ExecuteTime": {
          "end_time": "2021-02-11T16:37:51.138564Z",
          "start_time": "2021-02-11T16:37:51.131526Z"
        },
        "id": "GeEEzhlrnieZ"
      },
      "source": [
        "# Function code\n",
        "def array_info(arr):\n",
        "    print(\"dtype is\",arr.dtype)\n",
        "    print(\"shape is\",arr.shape)\n",
        "    print(\"Dimension is\",arr.ndim)\n",
        "    print(\"Size is\",arr.size,\"\\n\")  #\\n to separate the text in next function call with a new line char\n"
      ],
      "execution_count": null,
      "outputs": []
    },
    {
      "cell_type": "code",
      "metadata": {
        "ExecuteTime": {
          "end_time": "2021-02-11T16:37:51.802366Z",
          "start_time": "2021-02-11T16:37:51.791272Z"
        },
        "id": "-or8aH6jUmqv"
      },
      "source": [
        "# Calling the function\n",
        "array_info(arr2)"
      ],
      "execution_count": null,
      "outputs": []
    },
    {
      "cell_type": "markdown",
      "metadata": {
        "id": "sbRoILevSSOz"
      },
      "source": [
        "Observe the difference between the following arrays"
      ]
    },
    {
      "cell_type": "code",
      "metadata": {
        "ExecuteTime": {
          "end_time": "2021-02-11T16:37:56.508873Z",
          "start_time": "2021-02-11T16:37:56.494501Z"
        },
        "colab": {
          "base_uri": "https://localhost:8080/",
          "height": 35
        },
        "id": "KhlJlUbuSQal",
        "outputId": "4ec6030c-431f-493f-f2dd-2c298a8a5984"
      },
      "source": [
        "a = np.ones((6))\n",
        "b = np.ones((6,1))\n",
        "c = np.ones((2,3))\n",
        "\"\"\"array_info(a)\n",
        "array_info(b)\n",
        "array_info(c)\"\"\""
      ],
      "execution_count": null,
      "outputs": [
        {
          "output_type": "execute_result",
          "data": {
            "application/vnd.google.colaboratory.intrinsic+json": {
              "type": "string"
            },
            "text/plain": [
              "'array_info(a)\\narray_info(b)\\narray_info(c)'"
            ]
          },
          "metadata": {},
          "execution_count": 63
        }
      ]
    },
    {
      "cell_type": "code",
      "metadata": {
        "colab": {
          "base_uri": "https://localhost:8080/"
        },
        "id": "Ar56TPLUtfGk",
        "outputId": "91ff3050-2463-4785-ce80-b3b6110709d7"
      },
      "source": [
        "print(a)\n",
        "print(b)\n",
        "print(c)"
      ],
      "execution_count": null,
      "outputs": [
        {
          "output_type": "stream",
          "text": [
            "[1. 1. 1. 1. 1. 1.]\n",
            "[[1.]\n",
            " [1.]\n",
            " [1.]\n",
            " [1.]\n",
            " [1.]\n",
            " [1.]]\n",
            "[[1. 1. 1.]\n",
            " [1. 1. 1.]]\n"
          ],
          "name": "stdout"
        }
      ]
    },
    {
      "cell_type": "markdown",
      "metadata": {
        "id": "3WokiWijXZeg"
      },
      "source": [
        "Try creating different sizes of arrays, play around, get the feel"
      ]
    },
    {
      "cell_type": "markdown",
      "metadata": {
        "id": "p8HoIHXU1BkZ"
      },
      "source": [
        "## Reshaping and Flattening"
      ]
    },
    {
      "cell_type": "code",
      "metadata": {
        "ExecuteTime": {
          "end_time": "2021-02-11T16:38:13.823498Z",
          "start_time": "2021-02-11T16:38:13.813820Z"
        },
        "id": "BiBFZNcL1K3o",
        "colab": {
          "base_uri": "https://localhost:8080/"
        },
        "outputId": "8165ee73-009b-40ec-9dbd-f85bbef40149"
      },
      "source": [
        "a.reshape(3,2)"
      ],
      "execution_count": null,
      "outputs": [
        {
          "output_type": "execute_result",
          "data": {
            "text/plain": [
              "array([[1., 1.],\n",
              "       [1., 1.],\n",
              "       [1., 1.]])"
            ]
          },
          "metadata": {},
          "execution_count": 64
        }
      ]
    },
    {
      "cell_type": "markdown",
      "metadata": {
        "id": "G5BenCeo1XqG"
      },
      "source": [
        "Try converting arr2 to a one dimensional array without changing the elements using np.reshape()"
      ]
    },
    {
      "cell_type": "code",
      "metadata": {
        "ExecuteTime": {
          "end_time": "2021-02-11T16:38:39.149648Z",
          "start_time": "2021-02-11T16:38:39.140397Z"
        },
        "id": "oNBF6bpV1o0t",
        "colab": {
          "base_uri": "https://localhost:8080/"
        },
        "outputId": "aa0c2538-3a20-4e5f-c51b-ed7a9c63f644"
      },
      "source": [
        "# Code with us\n",
        "c.reshape((6,))"
      ],
      "execution_count": null,
      "outputs": [
        {
          "output_type": "execute_result",
          "data": {
            "text/plain": [
              "array([1., 1., 1., 1., 1., 1.])"
            ]
          },
          "metadata": {},
          "execution_count": 66
        }
      ]
    },
    {
      "cell_type": "markdown",
      "metadata": {
        "id": "PZVyl2F31xgp"
      },
      "source": [
        "Use np.ravel to do the same"
      ]
    },
    {
      "cell_type": "code",
      "metadata": {
        "ExecuteTime": {
          "end_time": "2021-02-11T16:38:44.384069Z",
          "start_time": "2021-02-11T16:38:44.377572Z"
        },
        "id": "8v1nIT8t1vpv",
        "colab": {
          "base_uri": "https://localhost:8080/"
        },
        "outputId": "c00a6a11-aace-49ea-8083-18a5d714e64e"
      },
      "source": [
        "c.ravel()"
      ],
      "execution_count": null,
      "outputs": [
        {
          "output_type": "execute_result",
          "data": {
            "text/plain": [
              "array([1., 1., 1., 1., 1., 1.])"
            ]
          },
          "metadata": {},
          "execution_count": 65
        }
      ]
    },
    {
      "cell_type": "markdown",
      "metadata": {
        "id": "fCZw29aYqPnU"
      },
      "source": [
        "## Random normal and random uniform in Numpy\n",
        "Ever heard of normal and uniform distribution? <br>\n",
        "*   Normal distribution is a probability distribution of a random variable, which has bell shaped curve<br>\n",
        "*   In uniform distribution, probability of choosing any number at random is equally likely. <br>\n",
        "*   These probability distributions are extremely useful in a broad spectrum of engineering disciplines. We will look more about this in later part of the session"
      ]
    },
    {
      "cell_type": "markdown",
      "metadata": {
        "id": "laXxuqsJsl6Y"
      },
      "source": [
        "![standard-normal-distribution-1024x633.png](data:image/png;base64,iVBORw0KGgoAAAANSUhEUgAABAAAAAJ5CAMAAAAHPrKCAAAACXBIWXMAAA7EAAAOxAGVKw4bAAAAb1BMVEX///+bm5vg4ODLy8sBAQHOzs7u7u51dXX8/P1BhfWvr6/29/lIifXZ2dmEhIRKSkplZWU5OTlYlPXq8f7d3d3S4v1uoveSkpITExPo6OgnJyeGsfjAwMCbvvmmpqa81Pusyfu5ubmxsbG1tbWzs7MH9h/FAAAgAElEQVR42uxd6Y6jvBJlEaaEhX8hIUsWEiHv/4zXtRhMQpbu/nruMCnPSJMOHC+MfepUlU0XhRYtWj6+gOIVr/gPxcMPK1G84hV/XvzX2QW+1KDiFa/4vxcPX8brdb2u1/+V6+ku/PNmZZAhFK94xZ8ZD4csAUcexgrM5YPiFa/48+Lza/ei4G0nQ/GKV/xJ8UVxowTgOG4AT/0KxSte8afEw4vYwKvwguIVr/gT4p9RyMM74GGzile84s+L/27RPViKV/x58S8I4y2c4hWv+PPi70TC9zlG8YpX/HnxB1B4UD0Ub2w8ULziFf8X449pA45FBjyqWfGKV/wp8fAoRLhdhDsx8U6IUfGKV/wp8NuWYng/zAB7tOIVr/gT4n/tALEWLVr+rQIvQwyKV7ziz4eHQ1/i+8ygeMUr/jz4r7UEP6hc8YpX/F+Ph5fK4fl1xSte8efFa9GiRYsWLVo+prw+SHivGe7eK6R4xSv+lPhX/sDzVxKA4hWv+NPi3ztMePgSAXg/vKB4xSv+L8fDrY54cMjgVnCA4hWv+NPitWjR8tkRQHgSDoBXnoPiFa/48+K1aNGipbj7JSHHe4qf+A6KV7ziT4mHxzFEePK7Bp6dRP538eD7OtSNh5+3X4CN5X08/jXWwh8c/9bFo5vwIh1IN3jPm+0zKJZ1KO/13xoLOv9+AQ93X91gbt4fBE+yCf883tajc23rYgnb9AVvvtE+FHZy7rJ/i8tzPATnJlP8ufFDEbs4wYP+N6Mbq/jTHO/xx+3bCm7aryKojp9r50oPr/sPxuMnHx988/Hz7xfwWr7gJfmx3Ypr5En7ztXfqs/G6qYvdWBp29H80TGXbVs+mjG1a90Q/73Ee/yhwulHd9vdKhJoiP+GOJTq9YhNaDt6yBHW6NT9Tfdf8a+KofXvxnF0GQMgKzTfI4CSCQB+SAC/OX4hAHhEAP0zAmjiDQcE4G4I4En7dmrbKz3l9vFT1vmr5Y/w5AVX/dIMvupn5AKa9dDHGf09BWDKcygA+6A3ogCgLsvlqFcQF/kdAfipLHshAP8W53b0IcIGnela/o8FTf3YyOtXUcm26MsW3ycAW57fBejJ0fcG3iUA8N7bt10AJIDLClMC+D0f4DayAHcHjp5sKP4MfFzpbbfGUPpIABMGwfHr+lvtrwrgrfbxqzsC+OXxJwVwiIdEAEfpJvqzEsBBUooJ4FX7ogAe7l8Fnb8/wmv5QqkxfAW5bSpNtH5zXAaXqrIc9vL1Mk3XRiyi9UOc5L7uprnfjCSY5jqFymYKIAKbCFxWYFV5a+ru0luOpi3T0hu7YJv5f6EdKgOxD1MXKpuFzvowdXWVTKap4l1+nkI0or6qAEzoYictQIE1d7WHVKmN0G7C3sFDBWCrWHvsaSIAUw0epF3siQzV9B0GSqp4jTsQYrWxsxXVTQSANW1PJt7lITWBT9RWDcZJ4xij5KpSl8AMsYv1YKXTCIvX+Rno/NZAyG/hG4c2f7N/lxD9gSYlBXqUqYtLKYLOi3vQ+qt8FcR2myvfNdYpCwD+moDtxSB5V7h06LsyLv9arobuRgGgjZ16yU2Mg5UFEuR+V/M3EVYG7kP0Y1w/Swd6EKyb2VDbYc1zRGcHDgkAhpLvmCIdbVkA2AYWL2F2sEw1+WLGDtDFkAUBXS2txdbjoEkwyPON42+HYkj1BbtlAbbRBWaOCCtTn+KQdP7+uBo4qBWKw1869El4jAG4brC7qvqVAAAqnoU8P9E9IAKY1sThzBN4/QJvJAKoxgzYIXDAzQb8Y2FnlyFGk/cM7eh2lWd/VW65ys4LAXBtrsZBlCtN1Ss24MqTlpzUtiqAnXrs897kWQDbbaNA935PANKBkKUB27WmCaMBNnkMPP52gJUAZqAsAFAQcRsd7z5A2LglZ3X+fgcPX+GXB7997F/HUxagHVeJy7Z7meIsLeclKnGcmuMcwjKl1cgG1k3zFT84L4G8yCNh5vUx4Y46/DguEVimNVWtS6wHUgJTmDteWiZ3w8mut+V1nugmmwgGG6D7F8srtKUlOJpKerSItXblci1bichjS24KIdDF8lABUAXlEi5c0bYPAHoaRR2WkWisaJYIdpclypB57YDPFABWNAdSTR1uN5xvFUD0VJDylnlI+wCAWAb7SKObsGvMWuNloa8OcxY6f5/99CQ6sD9rdHfICD4Lb8SmuXIKw4pNWQBKDJQVi3y29xQgjLLURs8XlyVOfLRqY3S/RTBPMtt5V5zH6R3EAsbbqqa21Cq6D4aYYDR5X2kZXaJrb2nxDnGFoEIeMXRAngPRCZnmqe/rhmRMNJOGAVH7R/ffYwuVmPAa67fEXDg8JoAtpARXsrwYPCjbnQKgCCWyHiBHIKFIEDAKiHntAOwIgCsaiS4hTxqQAsiyACsBBH58cZwYHoiOF3BNXQX8FQsXnb/v4rV8ofhuVZpuFP963QdA1lhcUJyuaNQGl4Q5cQGu9iuuOlj5BL9atm2FJt51taIABvo/qpJpJxN5HwNITkHgrTJUK2/MhZpiCKwAKHgI7MdQKJOUAtvLgXuOC1cMqMWmTHG/D4ByoRTfAKGcRAAU0jSJlpAJtxU9rxSXbwRKGwF6lgC5AsAHNxTZPgBxAajTvMSp/ZFzDbIlg2oIOk+1/Fax/bT6ra1sTMGV3ZCRqq8S5wOat9HK4zVxoT3bUlwmaQ03wgkZEOJXF8tLkqU3rfqBydo6yjzsk2lpg5zslauEe9ZwA7ACCEz5ZJ03OumLZF4D2uLQ9SnEKTRy6wJgnxd5GNOmAOJSBmrFYs6QTxDdEMDMyao8BlCLz8qkYrMgIMcAsn0AogCIo4qsfc81hS0+oQTw0yji019A/Nl44oDoqbss5MwKIKkxMMZXzUWigH0yYLwYR5bHU5ZJnLbUXQJ2ogAu/H2Z7Bs7wPcKYODeGSaAhuX8xg+eVqhL2mQUz5kvmlWw1CIXwRpTDWG8IwBIDbpKfq5FAXTcQ0qIuEvjjUQNdwSQNkvlWYBUEX9mBcCStWqPFUAjsp8HwGnIsAmoOBA3Fzp/v4aHV5/hQdzw8DzhB+AxsU8hMLTG7AKk7H0zdynGjrKdLRIke1XyN9fUfik7i4CAKZzfiQLgSlETpBOAuETWGAD1fltGhaUlQnbdp26jve7JNqe7/EpJRB6b4xEkdx+uU+qIz7MAsqYXiWWKBs+zAKZMccXQ25wAKAaQGCgjgNJLrQ2LHOzQcwVAwmQ9QdBwtzETIsIF75p1/r6NL16+HvDlu4Y/Di+LwVPsuS+yrcBg5vy04CQuACt0yhGMHAqYi22bHSkAs+TApAD61SnoJPKP83/MNwKB7KhH600EsFuhTACBNbr4GEgAVwbgYuKJkAgAmszDOXQBMAbo0jsMBjoLAOthIL+i3ZUc/lwBpH2/TAC0bIk/U5ijh/ssgCgAWIOAK0ek9uNY6BmwN4aj2ysAnb9v5AtvXyECL6TC7nVkn4P3oZv6NRhe4K488mt5KzBq8ClZwGvtJAawnRREF6AkSkhTFIqJ04B2zS6swGQBIVcAJLrHfG8tLTHZhYcEUBeZAhACqHkfgKxaJIB58w+K3AWAJm0pmnDLUUYA24O5Ztv7+zFTABRX7FcKnHwB9wSwjwGsmxp7Wu4cA+DGcgWwnQZkBbD6QPgsl92pgqQAdP6+h3/mJOzfPPwK+wH4/ub0/iBZ/FUBcDqqqYwxdNLfpgAhi2v03wuJCsDq3k8SInNT472x4DYFMKwRslIWPRk7k/d4O1OXFEAjK5eaqFlIXFLgjxXAUsCeAFgB8OsOXOh9HEAeBMyyAGSlV+W+vQ9AZEhhTVWzJ4BBxTonAEHtXYAtmJBiAGLc72IAHAQUF4Dbr5lL0qkC2MUAdP5+Fa/lecHwnfP7n7vMBcBFn2fz9i4AxwA4DZc0tQQBIQPaLAYgBDBtBo7quM0CiAIoWAEQssmWaxsviwIgA3ykAAwpAOIOPPkj0uIwC5ClHVIQLu0DMIa24kN0hVpSLdve3jsXYBe9AGYQu8UAqCt7BcAEkIf5iTCavQIYsxiAFi3/ZUEN72a7C8DXxeYCAM16WDUt6vYbF2Dk9Zz2qgROA3phixQOu1EA9Zbl8u5mJ6CY1kwBkMQupTbiLMgVQMEKYK04VwC0AKssgXigAGhEpRx8KndnAYxb83oFpyv3LoBohHwfQMjo0qw5C2G6PAYAKQuwZTE5sSppQHoz2W0QUMuX8n+w9x7gzVACFB+Dx/XqFi8vu6NtdqhGMRT2P/auRD1VHQgrCv3bKLZuuGvb+/7PeLOxBBIIWsCeTr5zrAs/E8IwmTURnMxeMmNdptblJoACKA1A6q1STqgEvKIAUPqBPEmuAainXj6X7OvFYgLEBQEw0Y/uSTrupZviMtI+gCwMGH8XNYDUMTApCgD59kVX9BgagHzqZQ6UTjRElggUZ1Z9pB2Xk7R3pgaQ5QEkMr9BXhY/pZz235D6LpQGkPpJtQYgkxWVFJa5ShftCNUBxdwEIP5t40oc1QcM/ByL/zxeVfGM/5vMw4nKvRc5e2pSmsyl3R+LmhoWXtIY4TouawA6/2/NVCqt5OBYAcFC9VVU1AAUo49DxvbfqhagpJEbGgB09uHnnrHgEueBetMHYHECnnTiIH/qoUIcMgyRrwdQiL3Fp70uOSxoAHLWvsgiXiWDlI7xFc5ZQVExNICXhA9b8J2W9cjan88g2sssBHn9Mm/qFO6zVGBRrhh/c1sj+ErDMGUTgPi3HR5WF2Ft1OGP4vWaoGJNYJUKKJ9FuVJgzI34T1UmcEnD4VEhS1BpAIn2XfN3Y33UJS0PyoHCN1bQAJQ+EY/HinolESh1r2sNAEzJCX281LLfChk2FR8AUh+AqvNJLpeLduWfLD4ANV/HyVivizhPw4BQzy+nO86WS5ur2Ebg8AHkl6VcIFKEZEsuqiiIvHZueaXVgPiMC1f3mY8BtCSzJgIR/zZJD8NnaM8qQl0u0t/AF0tRM4NfPr+i7C7Ky3DHui6gHAaUZwnTaPlYOwFZYgJDwwdQXIzYlgkY68T/VANQ5UBpybyc+JUGkC1h+g1TA0jzAFheHRyLSr7ECAOmr+wr62xsZAIih6vAPNSIxJM8CmDUAiRJVsfMskCLHttEX786Z5KuB8Avc5Kvy6xsgUoYkPi3Fd6rMggW2wMtlhr6R/BsfUli1S5BHhoTn9+47nsSuwbE8XgOsYw9Z/P1OFZJahC19rGOIu7f5Bne+N/kv/Q3DYxEmREQcPw+s+fkifkP+7naFyC39SZqSX45f/IjdJ7Cfqz6+KXVbn76sXIyiGSd5DTSaYJxrDWAcSznYAQa+BkJjJA1vKtvJZbCXPVmwo+WU6/crUAVM6rr4E+mTsy5yAPB+3/Rl8P7lkxUz7+jLzWUWXJjpE7ALQMODHSsUZyCiQHVVyd+E1TeArV3wSRROwxIiaM2HSD+9cc/vlXA38Kz/TwMw8CoOsderYopFvaa75u3cQdbh4ERsi0CbUKaBeGcOe9pVcMD72XA7hiYaB2uo3qrEfLskXXZCQRhOA/yKlQ+IuW1PI3rxt4YSnHq8ggiKi05KlIXOZE8HtM84MS/rQIC6Vnh3l7Mqk78Dby7qholVyxq/Kw2hy2qtxWuG13eAqayYUxDPhjqJUndwNSuT1nqLuDwSNvmHpSG2O7UTucuoOmpIP5txsMK83dA/jU8KuMIlyXl5YyFu5bDy7sLdxdRlRkeZ4B5ZU1L0cAZcIJDeDQEtGrHj/jvp/GN0QG4ObeJd/9tvG1+x8j61ch+lF1TgIs+nP2HbbpEgyMYdk3AQ5mEi/dsgqZ+/EfWqhY0jx/x38/hK94E671FnXr4F/GoOwXsSqvdWncYx/YbCS9NApVnusl5jLIEQQUPpzyBjZC5VBXqFBiU37jHj/jvp/ENqoBXWdHfxqPekvelX4eHd/9hhcCj/21U77bjB6/xA/HfgPi6ciFzXmtfavgX8KV5q+bZ9jLE0M4VYLXwYXffeV//o3jH+BD/PBfetgOVw+tc+gGEtz22NXjzCG/6aMaXE0Fg9Ri3678fvk3/G+hjRPw3CP+28g22bH8Dj6ft/9CN+OeX4RvsQjSonYT3tas7xY9o/Anvg6dGjRo1atSoUSPTifCE//N4PHg2whOe8L8Hj3uIgfCEJ/y/gLd8AYcYqd+FlPCEJ/yvw+NBA4LwhCf878WTR4TwhCd8DdShcMDvzIQnPOGfH2/ZXcztc6gpMSY84Qn/+/A+2oNt8Sb4iCDCE57wT4l312TVrQ3jli6EJzzhfw/eSxWAXY3wViYIT3jCPyW+fhlL1Je1Fz8SnvCE/314V7pAo1xp2qOc8IQn/PPjW/3m6TkkPOEJ/zvwHgUCeHAnMcITnvDPiXes3ApPkG2VS8ITnvC/EN+wGU3dancNi9Qiisq704FF8MM/Sp/whCe8B97PwmjaBc4GmY9f3scTZugt+0Rs8eq54t1j9AlPeMJ74UcuBaE5a6Dm0HAxPRymH1+sKJCS6eHkiX+UPuEJT3hv/6Dlj3sDAXjg9++7xdf3y+4QFI6cHKaHTz/8o/QJT3jCN+Hhqx7U+SDt+NNhdxphvZhe8t+ixVRrAM34R+kTnvCE98CnzkM0Zw9b1iSHC4/xdBHxP/Fukbsa4uniY3eCD/5R+oQnPOE98A7f4cheMey5tx1/iV6msbD+vw67zB95ORzCD9MH0Bl9whOe8O3xduHhuf1MsXEBkDBpCUy1F3AU8tl/vRA+gLY7Fd9Bn/CEJ7wnvuotgLcx4cLv36djoWJMMgGwf9nFbJ1pAOiWPuEJT3g/fPoZllUDvM9SxkdaAAgNQH7HLrvFGutF5gMQLXnviv49+GA/GpS+gY8CNij9Ah6MXZIVY8Aw9CuoIMKQ9Mv4ffAc/Kuy7wQXt8Q3lwdZVx2uzSOKYm4CQJoA6tj5YRefJpePXSJygzR+Me2K/h14TNaD0jfbPowGpS8b21xvxy1vr6/idXs83zarHunb8fpGDUa/jJ+HT8G/KRcHbfGtmi+KxcoJ+HbYqS9O0+mON/GaiSgtALqgfwfeKgB6pF+SoJNoSPpY8Ud/uVzOZrPXQuMfl8vt+boBOr7+GnyJxwfnnzoB0Pv9Y2Hwg/RRj6w722W6CLiwfplqLT9cLD74v930sPAXAA/Qb4+3CIBe6Zc0ACEAhqK/2pyXxaeef5DCIP9qe12h0+uvwbP0Rg1Ev/zdfPIU/KvN/yIX++EttofHmgIl86OCDxfTN66sfYhEoChMSwLWC+kETC0WKQC6od8ej5yvBqFv4rUJMAB9Pvmf9aMupnuu91+v7x/7zfV85lZAJga2N60G9H7/pAbQ9fj746UG8AT8m0rHYNSy/900Fu8OcbKYivn+c/GhZ/35YlfMA2hvAnTYvEyA3tp+Eg1DeHM7ykd8KSz+62YlPDZ4/5BMg9Vmc7sdj8uZ1ALOGzZED9kDJkAXza0BDMLFLQenujcAKhICtUqHHT8KYmHwL058mvg6THWvRBgQhgDoin57vBQAA9I38UUB0B99bM5bqfwvj9cVE05lyNlFCQAxSPwjW21u21d9FDNdyX2Mn8HjT8A/ygcwOP+mXBy0wteVBRd0C2veYJ6HaDM5EE0u489AfBeFJx3TYvOwyNdCA+iG/h34igbQM33zAG4C9E9/c9yq2Z/P7SguMcEFgMFsbHXVImB7XY16vn+pBtDp+LfAZxoAnoB/WM7FfniLPKnGCGC4DGq2JSodCBQMDvneLEmqmAA/Rv8OvBAAQ9I3DzR8AH3QB7uqyX+2vK1YKXdUCIDCvRSKAdscpTtAHA70ev+kAOh2/NvgC1GA4fknc5DAD58nIKC0wVD+HSoyo1yDUMWjdA677FpMu6LfHj8qhJeHoF/C6yhAP/T5f7bZqsd5e2XIC03075kGkBeg8JYqDLPbqs/7x7Sk7nT8vfFcAwifgX/1b1w9QuUpdONH3u7An1mwtHSwMgF6pF/rBKl1Ava94GvZCdgtfaxuS/n4H+1+PSUAqoVlK+UymB036O/+mX6uofnHMw+gH/6B0wnYjgyagKh3SaAp2ABHFOBH6bfEZybAQPRNNS1NBOqFPp/LZ8Ktn0b2CmYbDAFQ9imBS47jUgYFWV/3T/i5Oh9/fzwqJsCA/KOdgIVHryW+3k2AVsKkenAF35wI9Bj9VnhrIlCP9EsaQBj1Rh83ocrPxONfXi8WRQ0ANqsSyh+4PK56u3/eka5+xs+tAfTPPyiFSHzwrnygZh0BD+KzRKCB6Jv4ggYwCH0T78oD6IA+E3P4bHllrvTyggaAqquaawFHmRaw6en+iShA5+PvjU+jAIPzbyUK4IkfslEiUL0G0MdVY7OVVvyqjh0ME6DqQWA3kRo0OzP0c6OeLBEofCouvicR6IH79hA+TQQair4pyu8SAF313zcT8EH6WIm039nyxlA3SRQ0ALspKWIIs9dmX+BP9L+aCDQg/0gB8BT8e790rFtQAG6tAS5fgj/eXg7cH31ThzJrAXqnb+K1E7Bj+sr793q8VjM5DT9AQQNAyQWmP69k+RAXJOb+9B30H3mkC6Oh+QcWDWBQ/pGD0w5f428duZcRdbr42uANE2AA+ia+ogH0TL+iAXROn11lEO+8sp2gaJRKAQA7/excW1E4eN50PX7FSQ4D80/RBBicfytOQM/+u3oBi5vBqrHcj69qAP3SH1U0gAHpm++VD6Bb+qs0gofqnA8jEFDOA7A7E1Qs8YqOx4+lYcDB+Ve9K2oAQ/NPoVLKu//l9ygn9Y/cgUk8hi9qAEPQt2oAA9Evvd1neQCd0Ve5f8dNWWU0tUeUnICwaatKW5BmgOlP+Pn+G5McBuYfpQFMnoF/02KgcN22/wM2igI4W+flwNhIo93Pc++MApSaiiicWcc3iqIAztZBrXSHqxh5CYDeVsFyCAAMMn75kmDd0FfP/3bjsg1heAXrBEBRwdQ5BWdWiGn/eP9ZO0nd+f1rWA+gX/6pSkefdYcsuwb8z9617baO61BjBlOsDWdekp0Cg6JI/v8rT235IkqUTEqymDmTPGxkp11dskwzFK/JFkKgHuAq/N4RyIaf4okPwICf+gAYC6Al//T8uxR+xH52aomCZAJG/MQlBTw3DXDW+kHKge3lx3cCmsuPd5AV4jMaJ/4+0GmsQzxrAXTkZy0AK36KWqMAJ/HPLnuavYuEJSA6AuwxqdFpgNtp+4eDs1r3+xdYALbyMwZRAA0evDUoC1kU4akC6M+fOgKY8FP8ngnYnP9HGpbnf4we9kRfmlAB+N/5QenXrAEunh+g/foPC9763r/VB2Asv4Edq8e/nYD/EScg3Pk/n/xb5gR0X0IPqgH+BX6utxPwrQD+O7UAeMzn//H4DLj970gBhAeMScF83067UW8F0HxzwNuKvpuBhIjRBL8rABt+eoaN2s335aeH8A/nAziBf33++YN/8AGGsBowcaQEgW4a4Iz9G5myTUv5WduCG8vvEofxsqQU+EiXFx8SVHjGAujKz1gAdvwUWHoEOORfnv9bql8LOzVKfgTATlJkA0hq3nNfcgb3j1gA1vKzHAGgl7iETyELRCU+2xKsAz91lgRHgN787BGgOb97/r9vGYOfVPmkowCgdgNimh8NcMb+jVvzRgyvID+JPAAT+fHSJIX40HoDl8IRhB2H5BRdJX6rBTDipzu5zQWw4ad4EgZsx//zYF6m5x8085d49Rm5cF2BNfwbUfv9w9oQZLCW380CeAX5dW9HegSQ4Eusg6ENXjEb8BT+IyegTRLgbgE059/9f9I/LswDYID3a5Rq0GT/IPfW9rl/uZZg3eWHn5oipUHREsvxYTVgb35aMVkSBcBZ6xdGAXT8S5oeju9/YD9mOwIl+EUaoGT//AG4eAH52RUA7OUHktmAElWDY1WEavxmARjx030kCqA/f2ABECdgG348Lvvzjww+Oj6yCuAA79INXbpBy/3DngpsLb/REcBefsZ4c47wzGjSOMc7azYU45daADN+gl+jAFb8FP/Bzgas45++kpfyv2RMKJzv4t7HCiDLv+Lvsx8AjfdvpBWv5vITRAGM5cezAGT4pNbHkAr4sj/S4veWYDb8iEcq/DbkD/HOAmjKP9XqOrcc2Pa+A5cuGvkAxPxryvH1ibb7t7a+h6n87j/y+gFYy4/vINHgwdkFYm8EivGrArDiJ3iSB2DAT3+T+gBa8N++Lqnmv3HD/+A7JOsEBDcwALvT4fo4On+q9g/hMRfG8sPlAVjJD3c+EjkXwLNjSIyDCIf/qPHBcNDu/DH+RwGY8lP8agE045/b/37eaMAvcf+HsEh4UQBSfo98Zr2j4f5FA3Ct5WeyAF5AfodlaMJvMf49F4DK6/91LcD4nPr/3FB22wvCgOuufhG90+ZGvWsBjDenVXyzVAGcEl9VKIAO8d1sKnBBmOcx2+JAGT5QAJri8jHuPFC5f2O1pm57//QK4Dz5gUgBHE0aReZcnmssrsaHCqA3f6ItuA0/xXNRgAr+OSb/RBne7wgkxm8/d75HtNs/75iLV5CfKA/AUn5A56YJ8JJGwTlHXQV+rwWw4ad46gTszx84AUlHoEp+3D6XyV0oWz+1AET4/Xg6Rx+f7fZvJGWb9vLz958vIb/r5vyhw3NuoEQZAVOyiDp83Ba8Lz/B7z0BbfgpnjkClPPP0ztJAEC5/q0WQM7vux8mDXBX4tP750UB8Ary4ywAc/ndjwA6PNcPPuO4T5gqRXivGtCEPwAl5gL04qdvP7a5ANX8GJcAALi/J1l/wgeQx3veZhIKqN2//Zh72v7r8Gs/AGP59aYDa/CmDpQSJ+BpDhShE7BTgUfSCajnH5/u+atYeWowyOGlLoG778UCQYv9q3N0t79/OifgyfJzuDmilBia0ZlyOqAaHzsB+/KHCsCUn+BXBdCAfwkAZNO/jtbPjgaT4FcfxBfThKJ62QwAACAASURBVLB0/9aUTZjLb6gAXkB+liOAGl87O6gMHyYC9eYP/Ke/TfnpW2UeQKYwZ/bCP1G1fklb8CHhWsK2iG+02D/41YCvID+BBWArP3OhRDE50iVC4ekBLfBMOXBXfvrZnAlox0/xiWpAPf8UAPj1PfIlO9L1Bz0B5fjtH88Mqd0/tnWTofzMCgDm8ru0E6FTUyR45g8i/3H8USHeKwc24Sd4rymoCT/9dGkIUs2P3fhOmpzH6/fHg6vw+9vJEXG9N9i/zdGN5APR9/6F5cCm8jN3BJLjjf0ohZmAJ03Le6lGMx+ZTEAF/xQAuHzeMRT0g4osgKppf84VeWuQg17d+r7x/VNnAp6YCCjykEL8E7C2SVqStPhEJmA3fkQKAHb89P/zEaCaHy4AEGeaKNcfRQHE+L26cPSrAmr2b/Nznbn/CvwWBrSVX0Y7KvGoVEB6fGo0WC/+MgvgJH76eaYWQM4/d+S4PlC9fuIELLt+TKGAS2JsqGr/xsPRYH3v39oV2Fh+1xDJH2o8wmyBRKfn9vjVCWjFT/F0MEh/foKffADV/LfPyxQAAN/rWLF+lwlYht8+mEMBkTpS79/gz754BfnxpwNbyu/uA9Dhj3RFxYnlCC/qCnwiP/2GSnQF7sQfvPYjQDn/nIFXM6MPrAVQfFjFfT4E1O6f3AfQ5/4l5gLYyE/cFRilt0v9+3p82RGgHX+hE/Ac/uAIcJwHcHiCvF8uuVJ8xfqPmoJmj1a+I3AKSYx1+5doemMnP/F0YEP5UXhIUbg+VF4fhBZAB/6sAujNz1gAdfw3V4ODBuvPHgEE+NX3P2cEPlG3f4U526fdv9xkoO7yExS1C/Dppq7bB1xYES3wrhjIjp98uEQBzPjp//7ZioFK+cevKQNwRP369zBg9fXPboB73f6NpCegvfz4YUBz+UEwG/AQX2Z/YGiC9ywAE/7iI0B7/vCT/BHgGO8igKmxHNr1h0eA4uufuoReuGOJpsaIs3IN5WfPBHwB+ZEdAfKBiDhlRGe1yPF8HkA/fl4BGPFT0N4UtAw/zBHA5QBQu36pEzBR2uxVp2DKBrikHJOi/UMYBbCWn7AjkKn8+GmScjxyzUHA+BRzmZgK/N4W3IafDmUMuwL342dSsz/+/KjhdxHABzA0Wf+eCqzHB7+1xQKL98+bgI1XkJ+//7KWX++XvH4AAjzrrEllGbEtmuvwy2QgM37qHFm3zoif4nknoBg/9wD5GlutnykHVuH9/9xdcmL5/gXTgc3lx/MBWMrv8riTbikCvD8eiqsQQroIAX6yRxH+RwGY8hN85APozE/xax5AGX6aAni5jkOb9dMogBZPvqam8iTXHaR0/+DVbWN4BfmZewLay++wzwVQ4NPKGokjCg5cChr8cgQw46dK0G2dGT/9D5cKLMc7O7vd+vMdgSTX72cDuPzEwv1bjwA4d/8VeFoMZCw/aQsg22tQMCkkV6hQiveOACb88RHAjD+yAMIogAY/RwC/0W79jBNQiKfuAPeVNPcov6No/xC1vjeWHzcZyFx+V3xyaMKh/A/+PUpDwHYXLcTvTUFt+Gm81HWaMuIP8f/4TUG1+OfegAtN1k+cgKXXvwvp1CbYpQSr92+xAPh0eZv7R30AxvLjaUcJPqERDtRRflq5Ah+3Be/LTz+lXYF78wf4j3kuAArw8zfsZXK0l+G59fNzAZTXj+2Ht5yFkt8/pDIB7eTHmw5sLz+BK1sh/xav92zA5Cs7Giz/ukmaAOpe5bMB+a1O1AVKb9R7NmDyxTVMrL5dldojjZcpgPP4ZQqgEz99eR2BlPg51caPADZY/64A6q5/ezu1CPQnBWjw2o5AZ9+/dDWggfww2vGwlfAw5HKEDxeHcvzBaLDT+Qk+Hg3Wl5/ihRZAjMd6wEbD9SctAM31wzu2Y50UoL3/oJr6tP1X4IkFYCw/KOkKHJ0hBY5JZFSLGM/7APrxg7cAbPgDPDMXQIafG3A/0Hb9kQKoun6s0wqfKMGP7PQrO/nxR4MZyw9ctxQlHmlj4ShCiQo82Lbg/fgpHlFPwL784U+WrsBq/BQBdE1AWq6fdAWuuH7v9+/LwMCC/Qsc3dbyE00HNpMfcj4S4yMfpNZtWYgf2MEg/fghdwKezx/hSR6AHI/HL6bpTu362SNA3fVjbg7yWYBHkLFlLj97U1A7+UXWQ6p6KHu+3lGA5Es5GWh9BU1AWr1aRwGGdVxYSbDiDEd3zeuFogCo6Jney72dUgAG/GEZxe+aquzG65c4AWO8awKC5uvnFUDR9YN4K/ZRIeL9A5/taic/QR6Amfzus9OrH3nQGgNWgef+hBSfsgB68QdZ1L9N+ekvxJOBBPi5BujrhubrjxOB6q7f1alM8Qq2ZUke73UEwivIT2wBGMrPFAUIa4QEeFR+lRfivdFgJvx0SyqGg7Zfvy4RCP53Ktqv/+gIIL1++rPb1+XX9Qnt/qXaN1vJTzAazFZ+QPqlaaCJQcJswzquIVkJfisHNuIneGIBGPAzFoASP35f5skb7dcf9AQsvH7/28fNDL66uUW6/Rv9KIC1/AxxGNBQfnYfgGL9gtHEiT4CGKrwiMKAffkDfMYH0IWfviUWgAzvnqcx3/CxaP1MJmDJ9UdBr6lqifQHE+3f9iV35v4r8F4moLH8YPDzAEr54fUnQEYnMbkmWnzYEag3Py2s8ouBDPgJPvQBSPBzbo2LAETFcpXr59qCl1w/BtLlBJizluifPtw/0JZgxvKDMA/AUH52C0CBt3y9w4DJl74YaB6/+33OLW0cBtz3/H7VzQoKjgAv8XqpYqBXq5R6K4DC14daAbhn6d+lAFzvQqXWelcD5jb0r3IpBrEc+K4ESDgPivDxaLC+/HEtgCU/xTMNQfL4KQXg+hhxyvo3BVB5/aA9wteagLtm//a24DCWX1AFYCy/bnMzDpIEPmwezD2oGOLugmSYaSHeqwY04Sd4YgEY8FN8NBfgCE/ngLRd/+IDwNDq+j1Zf0yTQkYNHn5PwLP2X4Gfw4D28kvOR2J8zvXLtFwiTgq/LWkRPo4C9OWn+PgI0Jc/8AG48eBi/JQC8Hk/a/1+W/Da6w+qgn4sl8vlqcGPa7jmzP1X4JNHAAv58c9Hh88fAs+z/20M+gEC92RkexTgQfoB9OcP8KTbtAE/xXsWgAQ/dwF5nrV/wWCQuuv3lzIPDN2zl2Trj3wAsJUflwhkLr/DOjWF/JXs85fVPQJ3ASrxaSdgH/7IBwBL/tgCkOMnQ3qaA4KT1s/MBqy4fpIM5A4BQUYwDqIAZ++/Cs9YAFbyA3o+EtoWifYBSN2z8HeK8fCPAAb8FJ8dD96BfyAh2iAMmMeDywFuuf7NAmh4/duX0uy+fMrxNGXTXn72TEAYy88aBYDw+ZPoh3RWGYY6fNoC6MPP9AOAJT+9qR98FIDHYwqmPX1ZaLx+bjBI4fUzghgGMPP4aAK2tfxEPQGN5AdeW3DZ83f8hZFxJmRrOIT4ZDlwJ/5gsvpvU/7gCOBZAIf4KAWg7fqTg0FKrj9ICJzfP9cuRiL8buVieAX5iWsBDOWHdgSS4CNzAXmVAe5PF+KZpqBd+Qk+VQ3Yi5/++q4AjvHj5zppByesn3YFrr5+7oO5N8hdih/jqi1T+TmoBuwqP4hb20IWmlFEcYZm+Hwm4Pn84RHAlJ9zAso6+4YlNe3XX5QJKHdzzRnB11GIl2YC9rp/qTCgifzQhonN80KL2xfzeHUqcGP+vALozJ8+AhzgFfn0+vVTH0Cr6w8LUqY6hosgI3gbD376/ivwilTg8+UnL8UsPj3G1btPfPtSVOLDasDe/LQ5ctxrsit/cATwuwJn8bc5Bxjgmhw1Wv/WD+B/7F2Leps6DKYpI2qdhKRJWkK7tDvd+z/jibn6jg22xVI4l29L+CvbqD+SLEu+5s/vSdNmYa8bqUawBg/tVnfQ9XfAq7sD4+gP3znVCq+PQhjutYoiDuM5CwBBvp47MeSrLYBB/NcL3wgoxPhtXADb+avePVAnMhytxq9xAdD0pyEAdP1Vv8as8ZoII5jiODARr68JGEc+aAgART7/NVcRyIQ/03cnLQOoiLR7GL86BjBt/qA4pw40lfETbPCCBYCuP6qagGj605VMtsZLmYf8Rg17N6hOdEzB17sAePKZvSjo8wAQ5Et4agFY4JsqAF8QbP2g2wXwM3/uEAswP+XYlQcbwkNf9QrmoD80DwBZf5m1rNvbWOLtQxLDexNj8MqioBHl24dPAsuX8UIqsA5fV9SA0Ounbg02bf6iFfCp3suQ8X2yG7b+di4Atv4Cax454+WCTHZjgQF8dtpmHMtk21MmWQDh5Dviux1UJPk8Xl8QhMPTCODmHHz9WALwM3+Q+tN12QxDeNDUvcTSH6YewAz0p/OPrPGBLvKxzvP9c6/G2X/7PF9fM10QEPeCf7Mk2GeVQxe8tFuwikCs5jeVAYY1a6kIZFgc54pA2gNkYBep1ODh+5AeDkX51j5R8lCm5e3fh0yMAQSR74QHlQsQUb7idvVpQAEPpO8EFnT95DwAD/MXHV/yu6oQOoQHPmUTX380nYFw9AcUqcADlj9XLxykk8RMxKaPNohmi4xf7dP9drsrym1z169Duu4+4GMAIeS74HsXANjD09Hkq/CVBTCI/813Agu1fkxFoIDzr880kiF8FegOvv4O+D4GgKS/LB6a3umW+HDX36LYQpLt010zkufisAXY5ukzzMwFAIsgYHwXwKI5aBUBfD+Gf5gBXQAuumdX13heD2puLoD74vCbjlxlQjC1KgATnryle6rBb0VrPF7+Pt7I/UQJoLutywT0Lt8Bz7sA8eUr8a0FYMQLOYAB10+1CzB9/n0Du+auKh/wMzHjxePA6PrDWgD4+tMtjrP+W5G0KYjDXtk63VHv/29Z9AFfuHzsbnaAFAQMIN8Bz6QCA4Z8NZ7ZBdA+Q5pA/05irJ/ZAvAmX8wHVOOJXBIMR38suwPH1B9QpEmO6hQoFCpVNhECA/5m+z/Q4PRHmZLuK7Ivi/KB9HjJBfAm3wnf0BNvPEWUr4rIUgsAzPgmB1BzrsPr+BsC8D1/EA+3kq5dqAHfHgYKuP5W+Ja1GBcA0PWH6Z1uhQe5gjBofw0UUUcNHigBVAZJmfbHWi+HsijWTKpingaSPwLPBAFR5Av4ZhvQgG9yAKVnHGL8iopAXubP1BmtP2fbharx/JF3PP3px84VBMHWH2J4jZl3HfRsNOZc8c0FoARALQCG4U+n50Oxh8GzANPlj8BrtwEjydcGATX4thXoYEdJD+MfEwQcJ5/WNvgiejww6e4h138QD0NBQBz9UWwDuuBh+O9gcz+QdfpGXYA/ZcrbS9cizcQYgH/5Y/Cq4HJM+fzfucYgKnydAwjO4xk1fiYPwOv85Y+YTkGanwd8zQtU/WFiAOj6K7gA9uM3dhJXbBVoWsQIH76la6rB1+LQeNirP1v6p8dDeuJKggWRPwrP1QREkM9bAOqqwD2+ygE86sjM8/g5CyDk/OtzwXI+IIsXgoDo+qM4DoynP6QpmGiDh1Ehx4Fb25f97Td/VRkC++ap1fuCNwugMFgAvuSPwcvV1OLK5zxLGGoOenyROwGFW7++MYjf+SvUlBYJZ/IBDb5aQP11wnNVgZH1B8Z1TgWWGYT2jVzlFi6bSIrOsulHp5z6AN9l8Z0kq+crgeeivGawzYscuhtbAvAvfwSe6wyEIJ9P0updACUeqhxAwjWSDLZ+zC6AEKCfOn+5sj3A+aXe3NDiieQC4OpPmweArL992yRLPJsoMI6MhCPsPBM9FEW+L6vX/p9DcUku+7TM94eifOQyAQPJH4FXFQWNKT8RXQAT/kwPzhxh2svEfvzqIODU+asPttEmB1V9QDDEuSD0+jvgpb4AmPpD9AESOxNCGysAqXlNYsRnD2WaFvub4w//lentka3WRZqm+SPpb5RdAH/ynfFNKQU0+fwrT0oF5vB1L3DQnSDxPv6+JqC/+atjRzTBUdHmKOHb3w3asjGfH7sLgK4/2iQJO7zXC06/ssasa9R2K2j1jI4DJ//ScWCocgAh3mjCHgeWZqfKB+QtgDldszoLMLPFmdQX4EcTgDEI2OYA3icBJPDOH3IULss8gB9JADCiWIKy2bBpv9AOr7oRVAQQSL4znm8PHl8+j1dYAN2N5HddBxBCPj+5KGi8+Z9vBo68xQFqpsbWHzEGgKs/XIBkdEzGljWMlc1gGC9YAH7lu+KdLIAA8vm/Go4Dw1m5VR5y/TQ1AYPNv44DwpAFAMkM9Kc/CwAz0B9LC4AdvxySYbcaBnsKa/HJMJ7pDehfvgu+q6eKJF/GX5juwMKpjnqnHMLK5/uMqLoDB5N/+8uxqnSkwTPR2gRff5ptQFz9ZY5WVydanMbPrqXw6wtCEWdgy0WDGFgU8CDjEwHPFwX1LN8B3+UBIMlX4LmKQPzx+fPT09M7SZKg8vkP+rLgUeYP8Hlzct5FWmgg7FY3oOsPJIwFgK0/bSKQNV5LDM6lQ8HiczAEAT3LH4FXdwaKJ5+/uMYgvAHw8rR5OQeWDxoXACLNv+sXrOp9obJyEfWnigHg62+7OKdR+ETxppGCL8POCqgyjfXhCNVhIF/ynfGNBYAmn8df5IIgzc+lW4BfJPjzMwUBw8+/PhJwVOINwRqU58fXA8DUH0jYegB2eDDH7a2YZzS+yQREk8+viqxXkeSDrjGIyl8TDgHEWT/9NmAQ+VDvdGi2AonY/xJZf3SZgCj6Q9i+AE6vf9D8XyIR4y26zGA1nrUA/Mu3xjMVgVDkq5D8LgDTPoP7xYBI68eWBY8wf3pxpUGE3hen8OvvgGcLgmDrD9s73Q2fTGCx0XibRKCQ8iUXAFO+YAEI3YGZ34vN6zG8fB4/IREIRkGgOxIAdjEARP0xJwJF1h91wcS5XksmoJ4A1HkAx6qJbvTRxM0EbFRZeSQgWVKBB7R4lfw710IAjgRQl81NfgQB0K3AjepIwEIALhbAQgD3RAD1QbmfQQAJdF0C5q3jiwWwEEAAAlAdBoKqdU7yIwiA1j3fKOMdiwUQlwACRjGsCCBWFEVHADhRwN4CYPDHl42yDljQ9ZtKAOPl191CYaIFEPz5DRBAVP0BuTswzGahBggAKdzuzQLwO36lBfDbdEw25PrZEIB/+dWppxdi+ZJD0x9FUVA8/XG3AMDuO2VKL0zEs+3BMeTzmdTGRKDw8s0uAL2t6QUK+pNWocbPE0CM+TMuj3i6lXCl7/H1R28BxNcfUCe0G/BLDGCmMQA5CNjWAfsZMYDqkSiDnkt3YJPbtAQB75YAPmM1A58NATTbnmTeOj6zIOA4LZ5qFYzD9wSAI5/DO/cFCLp+cgzAuAUYeP0GCSCQfKg7oA/HADD1h54FmIH+TmDHMdWDzDeDEwGgyedu5jsDxZc/YAHQUpmb30QBCCAfXAggpHxQmD1iTcAI83e1APD0Z9JrbBL1ILkA/mKv44ynULFfyQI406Z5x2jybQkgtHxFgVAQTwMi688kF8D3+JcYwJ3EAMSqwPBlrJR7pzGApOmBxpkASwzAqMULAdwFAYjNQXWFQO+eAOqtQDJjHb//XQBYCCA+AfAxAHhXJsX9AAKQg58LAcSyABp9u1y/s7Hnus0sMkAAg/ip8gcIIK58kwVAK+WbmuWEXr9xBDBVfl0YgFSnApkPrZk60vPTEgCG/rAEMHn92wnmZf62XSwAxBhAfTYezQNAtQCqAqGbMywWQGgXQFPAFy67Ik3L/R8yDm9NAO74qfL1BIAgn8dwFkB9NJ5ElA8jCCCY/E9aBYkMEgCW/rQEgKy/XJN7v84iZH/zokjL9a/M70tosQDsYgCjTgHejQVQVQd7+fLykrt/C8BL40QFf2x3eZkW+cOvbBzeiQBQNncZApjB5jJrAdTl8eLKn0QAvuWf+xrhVi5A3OcnVwVG1B+mKKgHgZwjcM1vnkBx2F1gDN5IAFNPuHrBjysLHmr82WMfeD2/DhQCDb5+AwQQUn713RfbK1C2AHD1x+o0YKz1Iz6zpNgfu8sPNwNgty+LvT83YHEB9C5AbwFUzYA/UUeD6wIIzRBmFwR8nJUW+18cWF3zQ5GW++8tya5lcVkIIGYMoMkBgh9MAElCo6BtNtASAzC+qv0vzona/ofrKaM6uMrT7UIAMS0A0rbJ+6EEUDEfee0bIs6uHsC9WwDb/LDufumztx0sBBD+6vIA6ka5uAYAvgVQZ0KReboA934W4HJ9bNTv42PZBoztAgBSJfD5EEAVCiRVNtDiAmC4ANv9rmlVfShPCwFEJoDPp977/bkWAHsaarEAAlkASivz8fm6K/OH6/P1en1Ly5Ur3oEAkHffJxOA1/G3MQB6FOb1DNHljyCAoM8Pjr83m7opGrHIBIz5/FSZgGj644Ed+XH8V5Z0+7+k/6RpTsbOA6wtAJi4OmPxLQFgyefvbC2ApkVmdPnjLYAw68dkAw3oePTnJ1gAuPrjnR3J/nAoikN15fut31jU4gLoXYDaAqB1gF6P6KPBdwGafEhaEoUsVYH9uwCm7L5tvsum4G0IYGJZQB94gQCiy1cRQN0bhyDI5z+xLwoacP1qb2igKCjC86MEMAP9FSwA8MAB7c88rUC6c8qIO/zIzkDe5I+0AALJ5wmAugA08rWR6wDFkG+yAOLLr79tagMRdbo7mv44dwYKuH5gYwGAg7TLw+50ue7a64F4DXWMcQGChVosCSBSqKeyAMST8GihJoYAEENddVWEiXEu/+N3cwECr9+gFjvK3x7S79t/7XW4eB22PQFEUDvj0kVX+yoRqDoI7yXsMvGHTI4BgJcJfG42m3cyZqs75POzyQSMpj/Ec+PEy9tue7MC1vU/67clESjSRS0AJvkF+ZpDEDCpKyO+nJdEoGBa3DgHbDdGQgBIfWX0z2YrWsar+Ad0BOCKnypftXRo8nk8JYDPp6YeLoJ8UxAwunxoHVyaEPyqJwAc/ekJAPD1hy7OJPmqP0K2JUn28fC9srZTQPM9mCwAZ/xU+XruRJDPf3n5lRH2DGxk+cqSYHjy20/prsjTp44AkPSnIwCYgf40ARJnfP+dshrQYZW9FWman2DwZ7t4G9w24Aj8VPk8fko1Ne/jzx4zl1YggdfPZhswxvMDWhvlRWHlYupPsw2Irr+1keTfkf2fvSvRblSHoVkMKHUI0LQT4zBZ2vf/3/iwyQLBgPHKtHjO6bRpFYGtXF/JQoJwh0gcUJRkKJoTgRxdTB583ggATOByphEDgKo4yvYYL6Y0fvTTgAxZ4oQuwyVKijWhueabaQGA3VDqMAC4PAoIiyOrhAm+9He4AJ70PwdLjXyP/egHTQBwMX99EVJV/WuariBlu39CzYLdzAA6R15sJ5EEPCUGwFeJlQc8woRW6ufXAyhIFIaEnAAyup4BwBEAsJ3uDDMAvK5SvTbQDACjGIDqlAdZUixRFodXTRdgBgD5izlvt7cKOHMMoDmqJikwA4AzBhCmKCMlCzgQvSAgaALAP5ZEqSMPe0EOkEcXnAPAJJ535zUSt0rcyNb1ywKAk/nrYQCgDiopoekHpGh+HNgdAdhsjtOZmykxgIVSo9SZAei86aoocoDr24dh4jUDQMfgLbHzqTgAEwOA8I/XVultAJhSVeDRMQCJSjmPFAVQ4xXdCUglAGjJ6+pvyHcCgCP99XHZbDYX/PwL1/rlAcDD+kGx3W7+YG/6X385xACc2o+4v5UmWoZFmlQjDY3C1cwAOgjA+8Qi3ZNiAMBSJDaX2QWw7AI8i4wcCCLVSEIFeVADAAl5Xf29AOBaf02yNPDtV+hNf1teBQCszR9er5mHtAdP+iUBwI/94OBDT7/oUYCEJLvl8rQ8nb6wgvwoBuAv1FwBwARC3VUF7CIET/q1GIDto5pqoXhtIPCgfzAG4N1+bCQC0cxQ4ePZBZACcZYE/HcdTmhuJuUClJvc/k85RZ8TiQP+6EQgNsdrqu76gyYAuDx7FwGAB0CHc0kAjqsKACZy9q4MADauv9zk2Bxtj9iP/jEA4Hz9XhiAEYyMkyS2A7YzAxCMKgconxlA3ybHywOep3E9/z4DGPh0hweUBqtVzv6Z9btuADCNbU4dAIxeP3D/ttYefArbXD8AOF4/tsnBvpYN5Nl+tPMATF6/uRjA813ziCBEeWuQli+gd8DcxwBAc+5Gyyv1BQDj17+vItyhHAMAN/PXCQDgYf14oBt4bSA8BfsRMwBP9gPqfQG6ES6l95GERmBKxQWwDvMDDMDRNsMN+wKLlgvgdZsz4AKYu/7Kxh+dwrzbj5wL4Mp+JOqljXcrinJcy3/FGsDkLcwPA7UJALdrAQDMDwM9ElKr89pLhZT+7ecffxgIpBTf3GTNFkYgAADdJTQmLxEDsKq/GsfNlhcCFMYAHOjvZQDe9Df+9mbjvDbQfgL2Ix8EdDB/EBjobtF2LIJdmganUyj3dtKFLDsYAKhPh4b8EwD86OeDEdsjy3GTiAHY0N/xC6EL4FC/iOVCZzaQ4/VrAYBH+xlzCgDSr1dRwCJFSa5zX5IxAF9Ms789uBumCY/TLfVjQBvXr98e3Jz8vfCtsGaCj/WTag/uav4UzrKgW/GNch0ITWhW7KiwIMig/P3bjhiAhryu/qa88Dkqh/oXVS8wlt8Ct+agrvV3yffFAJyv332Tq7KB9gvP9tPTHNTD+sG9MYj89Q+iQ5zQU5jSNX4bXxJszgQcM/ZV98saA5gzAQWv3d1cnjN9Bt/205cH4Hz9sGomYM9frmma4zQrFn1FQUFFSQ0AQPMi9eUVg4AGrx8u5Zb2tzpoEcYALOvvHj1BQPfr92AAz4iJV/vhDMC//Uq4AIpKWFVgnLLPfiJRFVitM9AEXCitzkBGrv8W164YQBA6198tP4IB2J+/Z6CbdQp7bZ7kfv2aDMAzZ7PROjnOsoAxAIhJVssF2RFYUgAAIABJREFUhtG+RWulKgBQl9fV35Af2xjEtP7ayTaIg4CW9Q8yAH/6ayxpAZWN8x/22832zx782o9iYxA78wfSjUHkkSaMUPKd0NNXhtK5KKg9/Ty37Z7cqswArIxpVQSqHXXzo0Ds93p+el+AcsITghAiBCWG33wGgLr+Y73W5QwAQzbOs9JqYdMZAIYYgLpvEEQJJTSLAkV5RQBw6061AcCt/ma1axYEnMgRgDIAWLr++kLhM3920qv9dAKAj/WrMwCDdB0HxbUIQqO3p8sATE/vWAZgWD+wIjfPJ9yHE4FcmpcIALzB04MBsNGRDeRy/RQZgJ35k2cAMIEVbQKA5w1P2wXQ08/qANW8WYVMQIvzJ8UAXK1fw8ar+kng037iYBL2W8mbjgF8JLQ+krksuKVRObNPQw7nikAyLJd3CvPcJuTnxQCgAQCEshBg+ekv/0s0q1TIAYAfKB39MJBJ/fB3y3KAni/oBAHNX/84AHDy3Pbj+VSWPdEsDOB4/VQfBrIxf9BIBTaCttfrV4qyXVEUhwwdXvvVKp1hggIDAPH3YE6+nwFY1l9Zce1Q99UFsH//8gzAvf5GPZCnjfP54th5wf7sR4oBuFq/LgYAagADLC91ldAC+MTTbHYB7LBabsT1V2YXQNIFWACvoeLxKPDH5wGsaXR7BiihwQwANkYjB0jIAGYA6F6o86Z0n/AMAHoxgG5eUJD0BgBZDwCAJgD4jqHqAoCOfnaWtWnuYaNjAFbnTwIA3K0fPFKB77ueiWwg0ASAqRRMs8AA4gQd8hCH+Q7dXABTN6vKAKxM9ggAMK2fZbMcmy/2MgDnxvYCAH6NvcVygedQYV/2M54BWJw/KRdgpH68JCiJdlGG6LfZm9BxAYxP4kgGYFB/uYNtXxtdDTIApx9CAQPw38QRHo/CsKPAzdmX/ai5AA7SJI3pD0/VwwDJt2FuMccA+Lhs2mHsOQYwYpODz/ftSwzlt8YAxgYB5Vosw/pttzu8xaOyByFfF6vG71fraxw2AWA66e5qAGCiGbAoiq3fGMTo9Ss0BrE3f9zNhYY8O0XZXDzZjw4AWOCxZmIArUR5wNCoPjaIHPiUUJrtnmacH9gLSQHPdLduBgC9NEcWuUbJNwDAoX52jv3eKnDPGYDT+++Tb+cBuNU/uMnxPIpPP/YjAgAP9tuYHF39+lgFJ4KShJAHAoQ7hJKUknpRodkFWHS1uJldgFELxWqEb//OLoCVY0AleXZ0AHCl6P55Lwj5AlilKAFhJqB3Z8DTMSA7Anw/t3qujAaA33MMKHRzMXuY8hN82M+kjgFx8KGnHsZcKnTLnwhdLQBHKLpd2KnKJjhRigUMwLj+8fL1FHN3+m9Ps7Xke2IAlu6/T74BAB70d2xydflzVU7Bg/0wAJiA/UozABiBPDBcibTDT9uhiDmxS0LvF7a7Yg4ABD9iCYOtwZT1K8gLmaV1/Xu+c7V/VzEAl/ffJy9mAO70ixlAQx44kwIP9hMHk7BfET0CuUrEA6iDQxgFKXwDi9COfd6/KWn8No9Q2mIA02BP6i6ADvG8dFS0GeMC2J+/fhfA8fq1NrlK/pMXCPVgP/F6EvarGwPoHh9pVIw9Yw1TtGTXVVBUF8VLQt5gIYoBTDK2ZH3wMgCisrZzTcBxMYCqsbqXwgA/qx4ANE4J+Ldxgki2XMFLD6Je+fwGAGuKnvwB2NFAFD6piwAA2vrbR5IS+hXkHzEAh/qZ0W7OICBtDxfA2f13yotjAO70g9DG2+vH8ikYmLq2nwYA+LPfx+Roydc+9483weuIEkTS0wcGkESR0gVY4ooBPDuLhwdEovrG1sUAGvoXD3lxf3JT8jUG4Ez/fvNobfMin7cqMNq+/055qADAm/5X+a5Ad1UgFJzbT5sBeLHf+4d1NVoe+n6ufshPaYkBdHddCdoRCOQB76oYwH+UPF5f7RDZ5XV5cWMQGA6DDOlXkX8AgDv9uApcgWDK76cA7u6/b/1fXQCn+kG4ybXlebvg90/n9vMaA/Bkvw0GMEZ+0dug9I5HeH1IUEkDDoFUg2A48FOAxZJk9xdXEaGH5rZ2ZwCgGQ0xIq8RA1DVz48A9y3CPTYIaH/+BmIALtcPRM8C3ClA80jV0fw9GYBX+719ri0EAauo3leUlX4AQkkhdZnfhH7wWOAtDwDCHaKnl1ji7w4C3ncsITmbg4AKca5bUpXzICBMZ3KwCStu+6TxLiMEZYf1d0IyDBLyeYpSwCeeCRgfdmGJCCgq1mzAUE3A31IUlKev4o75m4uCdtt4FwCwrKrtcf+Li4JaYQDhW1J++mla5LiEggzFUhdyooRkiEcCvijKSy7AuouVJIKEMwPg45PlAHUdXM/PAqjYeFUg1PGG/HNbg91vMCM0O92qguUpldRQsIf/luwQsEiyPI+yLKMZ+4JnAOAbGXuEtfPcenYBFBhA6QR4KBD6Q4uCPi2TJQLdDgNWGJcUXvYt8g9cr+YMty9yMQCV2sla8i8AYFv/vRkwDDMAN/ffx0MVAMDe/L0Guhu/e7hV7uxHDADO7ff2KROcZYHW2rPju9PNGNN7dVBZ+YHu5785BoCPm+323CmvUxb8p8cA+h54M1Eg9F+OAeDAbGOQBQ7DdZauQjZiQmOT7/2rXYBzfyHLOQag5OYCCAqs/iIXAIzHAA6l044IZf47pWhuDGJM28BONccA1BhAyay2owuE/uIYAAy9kFN2+M+C92wsR8v3OgKCmoCj5HX1C2oCutLPnly5AHSmgb3EABzcfx/9lK8J6GD+6pucQL5dYcny/L0+C+DJfrvpEcimWAlfXQVvWXoNgnUQxLmm5wJ9DABUL9GU/DADMKefl7HdQ3eoRhgDsHv/wwzAm/7Gn2Bx/8tHOtzlpc+q7fm7AYB3+x2mR4owkC+/sI78KBfAf7l5F/oZT30/9z2YoRoDsHP98i6Ag/nrdXNLTN3zNgvu7GeQAThdP0PtwR9wmq8w5PmqHOWXPIeR8koxANCcBzX5ximAZf39GWtMXjMT0PD1jz4FsDl//W5uiQDnkgIcsTP7EZ0CeLDfxuSAKcBZpcn6I8qS/9m7GvZUdRisDjFbkY85N+yYH2f3///GKwU3UChtkxaH7Z4zd5whpe1e3qRpUn+lISlgPWhdANicCUC0lcrvfF0AlYdcJ4nq51dW+j+hugC33Vnz4L9lFlxatiO9nWsGMCocEOwCKOqv8oCBtMyKkQlgbfwUGYAj+6n/LED9ImoFbsDR+OFPAxLKU5cHZ4v12QRYX9ob7Qbrg24DllUsXgcoaujjABBmbploydmRgMmfBbA3kI8JAEwleZ0PBOofv+HU9xuKguF/EgBM6wL0/eWHL/Nme2GkyDEAAG4Z1S0AWNJfEdQB2dIJeD8OEjMAsFYAdzj1/fGSHczB+PVmBb5HB4m6M6G+uV/7X+oDkAQ0SLKfdxQG0ZLH6m99vA0A9vRDeQr4cCUBXQDg9v5l8oMA4HL+WHesS5sCfD6XblZwMX6twiDjrd82AGjK9153F6fNFjNSDBs0AVxiaE9hEGr9Ilj9a3AcG1mB74ADmJoAVvovOw34O8qvzxG+YLhS/yV1AZzP39VZALz1DmG7AemNGfsAbAysjg8AoX8j6tgOXkAeB+B6YXUkBR0PmJTM3NLR8np0Mn4GPgB746e2CwDKWli4YxDufhqQ3qUcAJwXnHlz8fj6VMtZc2YAdxQjYcQAbPVfrfzdtowH3LgYvz4AGGX+GoND4rx/S7Pi/O+SzSf1pwGRSsQhAKYAAP40IOohB5eMi/Y3Aye9DfiW8GKd8ktLPADg2kYEqamYXn4bEDdRwFxtBU40JdjlesWOPZ2KU1Gc/52efCAQTkeVuV7hkz4OAL3GlbZbp8cAaFexXQL1cABQegAjpTXpTQA0y2VdBcM9AzAa8mWcJGn8Bh4AcCqOZYgq8wDgZo3fpgbxPgCjtkjzKqV/zDwAYDRs1Fek9wHg17iIBzx6AMC2MM55Gs/jhAdzDwAYDRqc1PsACNZ4ZXHBIwEA2gToOKO6Trgo9R3O8+GkoD4jUH87KJxS9RmBcGu8lTyw8rkyy+N3ZxmBKB5j7V4UPK0CgFjCl6YoosUAADkuRvKNobOjvzqipphX7coH4OD+ZZ/WZAB252+YATQKhkfVwUub43fLAEZZvzU6LheUuCLknnhdDwQS3boA/ixA4+evKIqUT6j5swC98josF+kHVDsLsLyL9duFjgTWDwAsEv6PAcxYkWe0XsCH8gHUpcBUHS/eB4D3Acz6KzB7H4DiOvze7/erIE9fTi+rPNj7QCDTq1cHVNXrKnoAIFnjIh7QbjCA5DTgnaOjlHRUPwzlA4ABeW0A0JLH6pcVBiHWL7akPkFZXjEOANyMn0FhEHvzN1AYpPUDzOT5ASn63+0EdL5+r9CRCPPqfACr+lsjEIDCvMEwAAv5VN8s6hd5ADfq8oMMwKl52QEAY27XLDTkoarBZLH/ZibAeOmStPQDC5lIBMCqb7R85XFMANVTwN4HQG7mVtBr0Qh4gFDgS1ucvBPQ7NraB1O8D4DKzK2ML+8DkHIBkPwCZruPLOfnrzwXPgC4NVZkldh6zJwfEwAhj9Xfku9LCEKhv3JFtSQH5K9yAjq4f5l8CwBG0N/xkAPV9SvyAzbrBVP3fyAhiNv5u00IMiTfbRNcPlS+hnFVHjgIgjohCAzaFE35/s82GYCJPFZ/660WANDqh6+6XiWoylcMwOH9y+WvGIBz/QpUDfr/eG6CAWj7XwHAyOv38l6rNJiKvIJttM7ydJ/zeczzJ1pXxhkAkLbZ3ygNVq1A0JH3pcGUzFxQ0cC+XvuCAXxpMNnV6v8XPFmzJFvOvvMUDOT77/TKB6Atj9U/8GAh0i9CAFT2oqHTBHB1/zJ5NR+Ak/mD/jXeK7+pLDBL/f8BgHHXrxwdMUhT5GnIVvy/GWR8R+qxeAwnIBzFkRS9KfBOQEI/FxyiKPq0tRMw6YxAZVuWh4Hmwcd5HXBzhycgAcA62RwYOnP9W5NDqTeBQKMeCyAAALr+mzi6P5+j6Ah2+q8GAI7mj6nSIw1Fbwnfh0WQrnecDx98Ag31XQAAet0HMvkaAMj1s68yLQWAku/v540rBuDg/mWf7AcAcD5/0FrjCs5sqFOxdGYIJeh/GwBGW79SdMQVYpjnwXyRBVk2VB7cmwAdly1DAPRr1NxdSjD40xMFxyh6tnQo6J5MADBexY3dxJu9ql2c7dmeBwHf14CqJ99CoebWRAMAjOSx+rvXFa3+KgsA05XvAACr9y+XFwxgRP2tNzqPvEvkxQ/iLNbBSv8FAIy9fi/yv/RIR34gSc2ZdO1mYfERf4OJfQGDDMBUHqu/9Yle7MTpL/OAfm205RsmgKP7R/gA3M7fLctV0CCSA/VlBsD1f728i/XbawKQcDdgIQA5C3wAE0CEAGz1Z8FnBe5d7EyhOGiHISuCsaZuAlwAgPhPlb0knPP0BJh5wwGAfSeqHAAM9bPPyMz9fL0NOG5uIDwAkEZsLfQloSoWuLXQfyUAcDV/YhUDrX5YZ2VW8PwnEtgzAOVrHgxCADwDGABVw2C34+tzZKNS0NRPA0K4Cnh8Kv6teBD7jEB6BsBPHlDdgfPHgYdYrgEbe35GBgP8GROAtC0zXog1/J23twHRtAYJALS0Sh8ABvVvvkoPoJG8SiSgO7OgGwBGMkuMk96IysyNrGxE/TcGABvj15MVGKW/4JdDgKppwT0D+DUA3s02n30oMOVDrl7q5Y4MvREweQbwlNV1AWaZblrwxwYAUZhmCx4A7sDMrQpbvNdlArwPQH3gAHZpMGfnV5jnifcBaLRP5VKgHQDgnYAWHnLlpuzrZsoAQM0Adh+reJXkQRZ/xOeXuU8JpmEAVPloPQOgfsgtTdc4iPRg78QBLZMGgOu04KEHANXLbTAZ6cHvApCu8cs0bEzjMh7VBNjNzwzg9+uDkcYYTRkA2CeqJo1nAHbW+NkIiN630wUA+zWuPQNQNADKlWZubnofAC3LvZwLZseIeifgEdKCP8VplsRP4AFA+UmjloXKA4DrNV7uBLySGgHTZwBhzHORGJi4NOB0AQBEFhDM0RNvAliaKNhE1fEsOgC4p7oANhgAm+d5Es/jJM9ffvkUqrhT/d0UAKj0m66rQf1iB6AMAQLT/ksZgJX71wAA5/rb67HeBQAzvVAbAeiTbWDMACyOn5J9JNPfkZ58keQf5VoOPxTiAEDyPxUGoCWP1d8BACT6qx2ALab/FQNwef8yeXUG4GD+pGtcQZ6JQiFA1v8WAxhv/XYxABrG/sTTt8qBknFafjFVEwDKYye4BFTeB2CN5UIVDkRmzk4+FLjIV/ViTPiTBwCFJgwAFMn0PgAra7zaC6h2AtgkAYBZOQ2YVEcAQu4ZgErblI7mAy7ezAcCSXwA2In6SRDoGYCKRbJIg/QtZOE61T4LANL/DgPAgDxW/yAAGOkXpcC/ANf/Th+A1fuXydcAMJr+loNFY42DxAhQ2QlQ6r8EANzPH8h8AKaPpG8e5Ema5AHxaeBpMgBsCJD3AdhnuUAZDjT9QCB2Snke5Dz5nnkAGGzb954aFN4HcDcsF8qdAKpwoLuKAzAbHPlAsKJYn+Yf8+9dX/VCQAKAqTxWf0veAAC69FchQIDtvxIDIL1/AwBwpr/nIYfQ3zICcP03ZwAWxk+LASjqfSsrA+NdCQgG4CT3lAQAdPTX+ecB2f8WAxg3JTCeAVDnblvg9YOo18Ao+j8MAA7nr3NwAKez4HwJVvosAQD3a74NAKb6MVmAKH0AtOOnDwAW509pF2A4X6PYCQCC/ncCwFiYfWEApIcdknwfMsaAgT8LMHSRSxYg7Eh5H4BNH8Cs3gmIKPyAkw8ECuM8SON52V58RiD5NY5RmXsexmcAEwYAIkc3HKLo+X0zMQCwsQvQyApUpQUnozeGAGCHXqkDQL/+Mt3E66ABoNJ/GQNwTy/bADCySwL9kKvPwhinbAEkANgcP5XB0S5TN19dWsxIOz210mCb9yiKDp2FgLCFQXxpMBwAQMc7WxGxie7/XZUG63OQoEqDsfDSiAusT8wEEPUniWLMvQ/AAcs9kOQHm7oPICxeCmant9MCADi8np8oRFkTvQ/AxRoXFYM3UwIAch8A2+dn25+/gAeAofZbCNAzgL/ykHsvN21gQgBAzgD+5QHPeJCvPQAMQSVp7Ul/GtD2Q07M1KYkbUjQniYDqMeEpUFyWp+yYKXpVgAVDahAIAL9EgDQlod24Tls/4cZAPX9y37bBQAu9Xc95JD6qw+wOnAT03/DQCA743dZxUbyXSHpWVCcX/Z5pg4axgxgXE83kgFUweVA1X8TE8De+KkxAEfz1/uQAwN9TBRwRiXp+wGAsSO2gd4EgHUWlJdd5tyGH3A6JgCuDpA3AUYzc9kGmb/97rIC06YFX3PxN7rI+c4DgGzczw+ScgeQDAG8E9C+mVtNe7l3g9oLnJIT8Gb9LjPxN7pTBABAAsCYJAoDACIE+J0R9t9sG9DW+KkCgIP5A9kaN9LfSA5iJN9gAOMbAeQMoB8AQKXHIP3VMAOAgV8BnXwnAKjJQ28SEOP+1wDg8P5l8r1OQBhh/ljDCUihX5bDWUVexgCcz98VOoLWpTvCJc8mwPf393/7nO/Pr6cCSPFrIk5AEEdLj3j6hjQBHsQJCH3HgU0rMV/8N9NwAtLWuD4zAF62oHpJQtJb0k0KanVIFZKC9kmWnuTOEGDz/oeGhUHsjJ+pD8BK/xk6KeiNGyCKurM4ghYAjLt+68FZ0hYGWWd5s2Uh6U0oOQFdDWIfdg7Lb6NnyblSs/7/MoB7AAGME5C8/5p+LgX9Io3bp6n8gBPQ7fzdDg6g1EK4a7YQSLs9jYxANYME0v77jED9f67q5e9UNd2mB/qjGYHAICMQzK6zC8JVtswZVO33TWh8bFD+2l/xKy8AACGP1d+SLwFAXx6qJGBHaMgh+y/eb9UFcHL/Evk2ALjXfyX/tKDTX8/btgnimvJnALiH9fv7GNOTH7NNIQ5g81UlASLujY8DwDEA3ck/mgdyTuosgA3mAhoAgM2lgZAXAKAtf7VygGpMGyaAo/uXfVYZAFzMn8wHYKgfoHIDbEzkmwAw4vrtHRxbz/nB6y6KYnFlGe++F015FAOgxipdBlDRKJFa8kDWf1BnAC6tTP3DQBbnr1zjQK5fWHI6uQEAyQCsjJ9G3TSw3FM2z3ierXZNebbi+//ZuxrttkEd3DVJp17cNYuTNGvaOffsvv8z3gCObWyM+ZMgLTk7Z11mVRjkz5+EkNxdAKrt5ZX79jL0AYDI4/dkAEjzF+QCxB4/80Hq5avq3Uyd8EUGsMoHqXUuAHioADcJjTy8nU6v29Np21fIA/ZrffoxPHg12xkoXL+7/BAAbOXhKNpLTJKyQse/uAsA2Ou3wACI9S+w3Djrz3dzq4O7vIYBpLDf4eRAVFABH7HN6/rHA3y8nz56bNqu16e3EAbgh6Vga1d7V3lxBOhYLyR1eo1/4AIQ3b8FA0imX/mpdQGirz/jhwJ2tbP8kgtAuX5gjAGADxos907RXvH39HvPOf/65+3x+OBJhacf0xgAin53+RkAMMhDU4kAIDimXNuMv2MAZPdvuswYA6BePzYqCBJBf1sdRLehsyxvBgDi9Zu4AFa9j8B2NDNEdyp/Zfs/rxYMf0/vHST83n5s9Qwgvn4PeQkADvIiANjWAIg+/rkgIN79m+R7AEijX5HpXnLR9N9+Pix3CtDIv2yysN85/8ju/t0QaPkg09PPtegh8O+9Y/n71R+2Xf8Yytu4AH76PeQdGEDrM/IuABe2EJD2HH9XEITs/h0YALl+lQHIw0AR9Xc/Cki/gJu8OwNAnD+wYQDgBwXz7sRU/un6qHMA+Hhfs/6qp23nAoAxCBis30PeZhtwKF+LnWPmiaZL49cHATHv3/S5AUAq/aOFeoysf0DqKt7ayU3+ZZOF/c64ALHCEY4Cf7brv1xk9b5+6uWvDMAjCBgQP3GRd+wMxHgR0CODB7ucSud2TKUz0IPBxiPbb8+gLyKs4ySfVWcg/yNt4c7CyAV4axnAgCIPGMAiAEDg7DnLj6ZuSb55NrcBDBy/wgBI7t9kMR4AgLd+drkuHvpFkdBzy+vs5fUAQG6/8sppgGRJHgea2C8ZA/jf+2n47dUxgBEA5HLk3TETUAYAH8I/YMcA0r5aDACQ4tjmI5Z+EP0duzLBdvJhZwEizx9Ge3AvJHpbb7kFvyn1xJ+2J18XAN/YLACgB4v6+Fy5d5Z1yQPQxQCSgWVQHkDs8fvbuNWpgMN8meCZPIBVFvZrEQOgPP337/19L2KBP0cMIAQAUD8uDKA+ix1jxFktpwH9bDzcDID3Ctk5lAn+6s1BPQ14u94y9uN0us7Oy6+fT84xgIwBAOQRwBpzNKUvQCobFwcDK4fVzakvAIRMDgRep3pT/36v1+/r0xuDh/+8r/8MYgAwAwBR9bvLOwCAfEcA5vwZGABQrJ8BABLot2IA0fSzAb+zkL8xgMT2O9gjxXVEbD8f29+/X388iZ9eWwB4e/13/wyg8xIxZ7K4AAlZrojwXGwjPJm5AK5lbazPP84cWTLI/3kcpslo5Gd2AWLpd5Pvp25B/iBOjgPu/E1dAOz7N8lrAYBQ/2ihHnH18z2ealLnfVZ+AgBp7LdlL5tHN3lLSgB+/wfmK20OAwXpd5E3YucghUoUkBweGUEZ/4gBENy/NwOgXr/xQiHol05eYydvEwMgW78ZepS8+p/+c48uQH2erR0V1QXYFBfAMQYQVcdFG+bJ3wVAnRxIDAC426jLAABdiNiveqSLkC4GkG4bXgIAJLcf2zhXuP7rOk96hkIgAFDMn2vBxMIAnBiArB0Z1Eu2MIB7YABtsxCrlf4+DKAAgCwaY1k2KgwAyi7A3DoR5bqw87Odr3ffiUDGMwPGwCOEy18BIKn+h3FLhQV5kQCkpolijV/sApDev0lePQ5Mr19n4+j6a4kAi/LzzUETrJ8CABbyhQG4MIBmWi+iuACUS0TLcvl+7/M5tDfgHbgAYBEjMNUT9JZvASCZfkV+uR6A2B2+nQCC2PrNmYD492+dCZhA/6jw7Z5I/yDjwyBvlQlItX4QmCYZTA+c5DUMgFS/hgGYskOOixXjYo3fnwHgzJ89AyBYP4sDb5H0i3SApbYPah5AOvsdTk4kkop+MwsuAO1kThmAagzi+R+XikAZP7QAkNqYenk/FwBp/NZxrgj6myvp2y0kBc+6ACnWb9rdItMcoHuLAUCbAEQ1mrILYFgowp2uS1/52YoBpJ4bj8nx7UQeQb5rD55Iv/KDORVYhIQHZ0QBef4WXQCgXD8NAEAy+xmxXFT9AKL0Y2OS9wsCIo1fPSjh9tjTJ3r5HQeOjGRWDADOy2khUcfvwQAQ58+KAdDVvXyk0w+8+5N55V2PA6POX0kEwgEAmQAEvVeF7VmVgiDJXQAYcj/mEQP48v7RtwEAXiy62jWMcDQlD2DBBaCzC3H801AhqADAVwcAmQDckIZTSxAwGxuHw7nvAZs7ABQXID4AsE+RAMhIR1MYQEY2zneAn88HuAMAgM2eQEkseU8AwIm2zAGAOBquFIiiiPaYAIA+2qQCQM7RWhz9Min4oJd3BgDM+bNBx4Au5eD/W3TyLgCAod/Krvix0Fs2GKb+BRcAaPXrASCVfkXeL9nNS79aBk6JA4AjANCs33weQKj+b+sCXKrquSLm/8UFyCkGIOMAAgFY/i5AiQHEBAAA/v7f0T//JQiYmY3LTHBtJPCLBgF9q967yNs2B8XSbwIAcX3dxf+AeP6etC5AqvULbA4ad/zMuTlooH7R3lYggDYjaLk5KOH6aZuDZkP5740BJIn/FwaQKcsVXoBmL+DO+wJMgQLI5PXHgSHN+LvjwKA8/47+f6zxBxyFkreHAAAZ5UlEQVQHRpg/p+PA2OvHNvsE+qGNA5wPRgBIZ7+3yYl4HPh7MwBo4/8syWgKA8iOAdwigXXGDCC8YCLpHu9sQZAU4x8WBBH//vSJ/8cav+9ZAJz5cy0Igrp+gNkB23w28LCTCAAmBpD2+fMtCgp2l85uh3vJD4qCJtGvyI8YAGvj/6CoQNS/yABI9WsAIKF+RZ4NF4pAP3TUHGRG0FFtCyXqAaS339Zs5wFAKz+HP6GtwOzkJwyAWP+EAfTyhvgfkn71vwwxAAr9YGAACfTbvuTw9d/2AkDLAFLa7+019hggT03xPGIAeBRLYQB8/0/bIJaK4s3FANJQzB4AMugOFOTmBo+/zQoeAsAqC/u9Tc4+WD8EDihoF4BU/4O2LwDwkvC28X9AGr9tDABI5m8+BgD068eMpe9R9Yva0MdhjSCYBgET2a9nDCDpJ9ddgPpYWVSDRf2UXYB4ca5oigccYNAe5v7zAEAbKZiLIJgbmDjJq30B6PWrC9vtAgg/j/v/QKlfvW4cA6DWrwOAdPqV7yd5AAT6YRgK5PUBeIMY0ABAOvttY1dXdHSRB+W/YXTL0N/66GFRpsVb/nWdVr8qv9qLv4CXgq661tB0+hX5KwOgvn+D/DgGQK1/HOdKoX9QDq4WGSK8b2DbGCQL+5V/+lRgG/niAkzIE7vsRAPwxPNTTgPaxQDSmIo4I1K1nUO/yWlAjPClcz0AzPFLABDgLur/A7H+hRhA0vB7BACIMP7be87LxkM3v0B5e8oqMfJokEM9APz5Y8Z6AIH6wOEXWskbAIBE/xQAZPj/Cu30+pcZAKV+mI8BJNCvsXF6/Z0bDaJfwE6UC4cZAEhlP7cgYKj+7+kCyPY/i/3/SFyAsgtAz3KdXoqN3AyAUhDk6wCA3OBRw/+JPqUvQMYxAGkvt82i71AVGMmBsQYACgcKVp+7mTZQCRxwlQGkzr8LBYCo4/fY6o6lX/1b8MXnz80qC/s1MYBcjwdnxQDYufPqMpiwsguQOcsVx5JExPj48TUYgE1UwlhV111eAYAE+hXOfameDcXf0fWPvnCvCow5fzZVgcnWD/RBQGT9w42A7iv2af3SoFg/0xaJdVVgSrapYwCJ2O5BhP/Of0KbtsYavzcDQJk/BwaAv37mlxy2flCeNyY3AwanRhJ7azFjAPi3YnYBCKcSGpH9/1nH5P5BvyvCLkDE+fNyAZDWz/o0IIL+6Ves4QhwtZxMXmWDybmDumC5xABk9s/u8ymfqEmJAWQeA+hGI0+OHQ95PG/UWySQGABioCw/3sWzf/+796AOWOO3ZABEb5lZAEjxlhtWBEpEuId+AGxE9NiveHT08actlhAIAGlWs+aHf/jrP7itYszx+zAAvPmzYwBE6wexsl0jyb+sRE5Q9XnIwH6i7gK4dRLzkF/YBUDX/yDPdfAiTw2bbi9T6J+7ZMQAIO362QAA2frNAACd/tG1LyuQIeRjA8ntZzg5uXUCzDEGINO5qvOBQXBLhRID+Jpu7jID6A4HpU8ijxUgoWFT8wBAxebELk51qWGUYJa89F3gLkDk8TsDAOb82SA15frxVGBgIo28OteJ7YctFwXV6tIUDIF5+gOR5AUApNPfnv3ZHdiwLDjh/RvkBwwgiX71og4AUugfy4Na9Cah/cqvOAOA1piedweAlPbTMwBb+SVwGI/PFchM8osuAKZ+Dto8+nc7+6/tDox7/4sMIJ3+3nagBYBE+qfyDi4AyfzdDgMxUUpK0slk9sO6ckkx9H/lGICs6iJbf1gzyxIDyOADGcYA2oCSTCdtIN3TFjY5zvnRgfJjACDUz0TuH8/9h961pL5/w+UdA8hi/SwBgGb+5m08zfqJGIA0qval0uUFEq/fpL9V7smA6RiAqPzDMziZU2ypMIAMPnOFb5MxgE3vLjGZEjDeECScnE04PaKLYEZoDOIlDxeZvtmwob80aAySfv4CdgEQxu8EAOjHcSI0v4kpr3QGgoOoGLw712nsJ6/XWJ4MQNZ1vxI1lvHUlYpARgaQVQxgMzIv8XbZNXWZnBwBAGq5938+ZI2dxQUwvOTyBoC2SoChtsQ9T869NwdljXj9a3K27ACArDnopjQHnZHP7bzLywamHFPkBFxqoF6/JQaQV1iQngEcPtvXP2TuPZWqwPfqAogh1heZGNhQ5waXqsDG2ZF7f8dGV/ijxADuxgXY5w4APMtMkoDPugBANgAgojO87Q+D7O2qMIB7jQF0kQBZK8ivTsCXoUfZAICA5Ep0/WNwBy+WEgS8ZxdAQoBMNnneNfpGU1mj41c7Ddgysmo3X/avnAacl8/sNOAj5GG/LQCs5uTbdFPuc1LNH7ifBlwaCeDJWzCAKPqBx/5E2Z8Dc3QtUe/fggGk0q/K+zMAhPE7MQCC+TN1BqpFyhnPOatp5m88OZB1OjCNC3B9/I+Cip0PzIidxQUoMYB4LkCbHCz3A67GR7MhUIKAUxD+lCB8bsxFvwsAFACICwBytExuPfP3D9z95ER2rZwBwF0/u+xaN4zBPRWa0W8DpgpNaDoDJbMfALTuV37yL6sFAi/PB8i289jzF9I1BRxFIFheBYD4+tt8jKsLdlmWn4sBIN6/4d+3IGAq/eqXWgYAieznZuOQ3H5VBmB6ug5yQ6A6H2pAnT+YxADs5MEJMMDyyiX5HgAw9Nct96qObTYGGOU1AIB9/4ZvBAAk1K9+OwIAcv3qt5t9Uv3j7/t6AIZrWSMPoAtPFG/+wGovCywhAp1VcQDAaiBVyxnnaf9G3wsCYwBI47eOAZCsnyEGQG8/KstN75WYYwD9+6g5Vy0dPQDa+GPUA6CbVrQ8AB57bX3/9vG3KBJQ8gBm5XPLA8goWDOTCqz5hvUQYN6PegjKA9hHsT+aD9YuQP25a8l/Yx95LbsAXgyA/nNfuwDDgUN9iwXszkg1g759KjDwpD85yaLdx4N1SdQCAAUA/ABgZW2bAKxut6WqY1NDDpPzf/auRDt1HIYWcBIVv2yFgAkUaDv//41jJaEkZN9sU6Q5500bepHtyLIWWy5UIx9wfHkMPhcDmIg/j9Lz/rjpN3orlWhvwqMCUNz/BnzmAoAZ7689BqBOfqAyBqBFfnMxgAY8FD6UOuDmnkoR3cDE7X/YJw19dEDh18dAYVPgcjA+swAm4g8QXdK4//vH7rqp+a5afLEmoJL+N+ALFoAG/tBqAYAu+Sm5udrkt9oFgMrvzE9UTAlg2TBppF6jUlJgVPuhKkcK3RMfT+wCbC7plr9k2+XmrfcBLHIBnsQFmCrQrTwGkBe26C6s1yl3CL5qDIDLAcXrGZOs/+OBX3hGBUD1AP5MDKB6h090vcWqdsfpCoi+ZlXg36Rf4lbxYaevyQJ4Fgtg9bwWQMG830TXmxkg5XaamgG9tWPR4YBCOAJatRmMw0sFMJp/kl39d8utZLP/dgdipTtV0/5bEFBh/xvweBZAJ/8ivq4oKOiQn5ymBr3ym+JzRUEb8VUXe+JJoVR633dZOGBc+3nuitt2/PC4AEyCb70arAXPEx2azf7dNXfNT9tux7E1AWHu8WtxAUDt+ytZAKBRfnj3q8GUjN/dAoDOwHxMMzqmu1bQe71suuUGa9vf0QKAod2HkeoDGlyAnngeJVG/tNBPsuEP2jc5Q6MLAIr73/BZjQJQxr9GAWjiX/ibOhlXL79FBTBo+mPyCjbXY+YLvO+SvMDg9rcdlRzuZsDIb6nE94gBPOB5JMcsM54+jp8XDj3GfEhNwFn63yMGoJp/kwUAeuVnUAxgxvHrFANo3P0PkMjze7aDRcrzBga2n1vbWfo/Dw0LAgIa/rt//9K1v1lj9gqfUBagswugk552J2DjcgyZRZtksqRFe4n4XxicqRUAYLb/49+/e8J/I00omEK1URaAFMAwBWBN1C/gm6x6HeqAj0E7BCYYnLF7hnrgKxUA1Dg3HM2k1Or/h5uo0nw/5PZQDt5OWVAACvvfgM9XBAK97w/6KYDZx483a2rl7+/BAmjH55MGmeDetgljVutXyiVhcGuz4d17UDU4emKjXfDdsgAAm00UfR5v+RK0kHbXqFtFlQksAC3jl3MBdL+/7haAGvmBnlmAucevLQvQtazHPQW4uRx3WWYgSw6gFujU/orBgYHd711QuD++MQuQ4nkUXa6fu1uQFCf/8Zo/5AtvtXudYZQCUND/BvyAGMCM76+TAlAlPx2zAMre380CGIaHastgI83d3/QgHm45fl6j5mjXQxYAnqAoQHMMAIN9n8fjx23u4zDgKMx0zQrdDfgkMQD+R2MAJdpEl8/f/GC69n1eW4KDfyMIiD2XXZdmUGHyX6I+3tBzKwDKAjyNjA/OAjTa6FngK3N+33NaYHc8fl7qigko0Y5dTaPz2S1oq+1aPoDGfQA8UXofH7+B/qyE0vWCoRCASZKYY+8GVFFvqkkBqK9XNn4fwIT40TI+cft7WwDQ50OMfuOCuPu4zweMDn4k5vCme4Bkiv73QR4CIQTzf/dJg+0wwZi/ggcLANWcpOhS6GTaT+zlJZ35U9RRHHsxiELJr3QBtM28TAGYcC3AGAtgnvZ3VwDthRfqcIB64IKb3+6h8Nu2IekVRHIC8eQYTOPgwPih6vwV3BOx5/nMt3MPnL18kJtmvoii1NovzPwkC7pLln2ebJXsz35A+/sXVJ5x/KBmH4Ay/jUWgCb+hed8xCI3R/u7FQXtxb9uYwu6BBgSLzjH6ZHiND4QRSs3M5X78J9eM8IqZGfAf3+yB24oFhwsXz6+KwD/42HmvyczH7uyqT7PBLO1f0QMYIaVpVcMYPaVuSUGoNYyKC9yei2T3GnA8fzbvipZ5Tmay8djUQ0km2PSCMHn9Xq5oDbYcF2yDAsRHuT/HBFkT9YilBMMPOHf1ZP/sOinSmzD85XUqnnA9O1PFYAZVu7wLMA87e8eBFQwflNZuVPhCxbANEFqaDQG4NcauKTm87/3EiVBgp2S6wgrO8A95qEEn0WceQB75uCD71jctVLo57IbiR8DoC15SVuBB1sAaon/tSxAbwUEOWMAw2epQfDgFiRBgstMc6U9huUwDyf6V8yyra0ec3BlP8XsLtl+nKT2kvgFdJ77ME/7eygABctMowJQvsy1Xg2m0kwZnwactv399wGMq8oBZacgzRVskmwBRggwh5YcKrrMNIPa5TdgC2Szihm/aYQ9/mSF7HBXACquB39SC4D2AdR6wa+yEaj/yEg9gHWt0v0Dl+vnNZpDKXaJw0kFcOapArBLCiC3D+B7bQ55C4Mas9ifDWqNHxvUmPN+vzaJjGrOOZPiTHq246b6cMrmO5xuLgAGBfDBKu8CLAQjIiKajfbaAjXpfMeYXzEI+BWLnG17XhAREc1G2rwTWLAAL7jfMz97cBb+IVn0Q96c2YN8/dT7LzV/0WeTUKl4a8+dxc34qflD9c4xZfxbvkgn/0p7FrS9v6waJUzK/0HIAcqP0i2CleWG1dn6dXSKhdQ+B194mKuQc34VilMSG/C4/qi28qxIp7QO8R/I9CXlBwwV4+xn7ohwtXJEvJTKIPBtzAOGJ0s+sKpfOgy8ybDhk571HUZnIUfyfyP+4xozlr9m+YGuWUKo0pxQv4FYD618wQSLMRfwHTOpBqyAMSHiBZ+8gTDyc938gfj/6fcz1cprXIGP5ga5+yBwvtDed71kV6C7dwLnx27WuDDP2M01oED413Xe9MoPtFgsoPdt4s+2/eDu2wc+ZVtAszQC4V8ar01+oKgFoMJ9AAXznYiIiIiIiIiIiIhII3VMIhhGfOseuEGtsZYmncGxXTNaw5fukpskNe7BFCkHe+tuuSmt4QeDGtNl9FzHDwPPkFN4/OT4vp8mLsyY/3v/y4R2bPf4lixz5v+3vzDkJfGfAGVmZcakO+yD+QV4ylCp6zMRCuYvNfEvfnAKWezHLF5zLfzLdBbirJN/RktHjosQvquJ/yMerDA9V6Jdft/e1jELpcyEJ/3yizU3BIulAH/zGflPSgGLV9tTrO/MUkGZ+yywDq7DMknXvv7L11mhANSbaWcRfy9PvvAMWXXlpBuhAKaVGcEcdynXseBgwIv6FmyxtaQAH96eg5Z+IuCeMKLcxEHqcQC5vIiTCc1ZSevICAWA5znksvGfCF0TVg87wB2mjhnKaMXCJZokLFzpbwz3BOqh9BTOUxBfnfkbwF74JkjWNvBQc25D8WPC4Ozj8ByYoACWcfyVumtGBCTcOPQ8UyyAVYC6EVwR6l80ALbfqKJPoXCfRAHg2NnWOWQLY9qDdhRqc/0a6bRYHnwTFIBc3nBFuRV5026Q7FewTyvOGiIyePbdELdR6qKfgAXL0V0aEUDoh+frUBQdKLX8S5+6TQEmUDt+9qMFADre3yqVbjtIa7rplh88Ar8Y+I5mGr9VnIuP6JVfN4lIDryWBPq2dQK8vZcKILOfdPAvhyWkOwd6+Jfwdj8LYKbxO6WXOXGnTQEoe3/SAqiKAeiSHytM81gmyO8pjFkszSPD9wK4eySMm4C9tJzUxtRn4yatcVMFyuIvrYPH19iYNM19MCIG0NMCUGHn7k2JAaRzjoXGON38sFzEYjFBrnWA8dIdv8ZioBhbTh7zOAkzK+RfpH1SmnQNb/wrZLGrnH/xDfrYmLRuYs4CAH3vz03D/31iADOPH7oAXKf85t/XOWb+AXTKbwEHeCdPyIfgc4XKfh9Axef32Mdg/MoJJH3bp+/kWcACtfyL+BM2JrCAr2O0dpXzL3zOF9gYXODgwQJQw7+Md+PERVtiFkAH/zI+sQBAH/9cDR6+FyILYWmT319dZP0k0b+FiPkQvAbjMqkU9GaHWDhQv2F5ikXgmuQ82b4h+wAWyZVOsTEXYJiTBTgL4ZhyLuGQOmncq6672z8OMTv+4GPGwpZKdKWF/+N0Y+GP5Uqy38wYv/4xgDnGD5NcFkjp6rDbTcn7a8gCqJafQyz8k4tCw7XLL1beD784SD/We5LzQLAWIgx8wTwTTjCtpesdhrH878uQ8THDAsDIaBiEQnN0tGgBGLIT0EtkRoqMb8BxIMAQth/EadZmkOopXMtdKtj74JzASDw6vKeYsbRwqHr+j3jn9zqVtRb+ZRfwtg9AMf9HPHcxMBn+xzXxL+MX7DHTBXrkx7+JTLJZUq/8yn+sQEiN5GyhN77OFIFmMwVG4uUvB2sJ9V88M3+oDaZq5d9c2E0B/xKeW0uuk//DZ9B2k4Ay+dXLv1wF1La2fAL+REREr0kwvlTyU+MNGT8wa/yA5Odp5Beo3v0fwE8gBYQnPKkBwhOe8ERERER91QR00yWEfwE8yc+4iWV2+2FkCIHwfx4PNH712Gfvf813Qv5HeLx3AAj/Svg3Gr9aPPzB/hMRERERERG9PFEyhfCEf108jQXhCU94IiIiIiIiotfz/MtFxIDwhCf8n8UTERHR+j9UVxCe8IR/EjyFRglP+NfF02ARnvCEJyIiIsd/zN8TnvCEf148GUCEJzzhiYiIiOpVBhCe8IR/BTwRERER+U6EJ/wL4mncCE/4V8BDC/BeYQwIT3jC/9/O+fc4qkIBVC3iTQkgSRORNCS+3e//GR/2x7zdaTfpbl82g57T+cOixyZ3WrgX0Y35AAAAsGM+30Ekrx+Oj49fuf9HEwaCj49frf+73htzCPj4+F/el09bf35/AT4+fm0+AAAA7Ah582B8fPx6fQCAv9B74OPj1+vD1jv4afR+/RvMvWl2KYbBrsvJ7ZhSyLpsnSYfgzuVRju2y5icnttQWqzwFat7bP95NZG8vpwIfxO+T4Wo1ChXX7RXKSQVbWNyjOs+Z2QJl8bQi2QVUkzDwd9aiH9V/k+6vJIz3M4qTxYk4Vfvi+37Ppcfsr3vPsZk9TmooVlSdJ0dYtTWq/Fgel/6AuNU9MdvZ6/8wZzG0kL8K/QBPrBjTIePd20s43yTx1YPaizZfz/6eVK+dBCSU5jnUfk1D7gcJeVgTQABKqb8pNN3abpjzvnYN7akA67Xs+5DXMqoYTo7h5jX8eOcUtel2JpGl26gbXPrYqIDAKgY42LMZh3MC6ltZElKpZLZL6UWuHURKlwyhG8pdPZS9ndBxQuKDqB25De38Tflm0mVIV0a0wYfwrgYLTqHqJxk5buiGm0Oyp/Ws5RKQOdLXWBjmr4ty/d/jmfiX6V/mxh43iYPkwj4G/VNVvE+j7e2zW6t9vUQoxwvHcA8hKW/TAE0nVeTGaJr1gwgLevFQec64l+j/0aWgL8h3xyjGjqtjbkdM/u1PzBTTHJO8Sy6TanXaS0S5lLwHyTE43XewOnmNPxw9YD4b9eHrdIHpcaVfP+qTDEOkwvKNadReTemOGnjVHDtGFNrzPXKv8kxDc7HlA1B3OJkAP4+/DaqK+5+gjLOq/Iqqb2cfdlK01wyfrfO9/msG6uu1/1KZlAsfzRC/BnmoVa0tX1vy0t/VJHGnvPZru9lPuTFXoZ4fVryoTPr3lvRr0/n49oCNQ70v3rY+C9mDh+a8Tfii8hD03+Plrnuva85lQ/hZsjDxxD/L+8/SRoe1g/L855C8LflP8nepXnh4bOPn0P8q/RfLh3kzdID/wv7f6GcJP6V/f9ht8UhXxtomBBlQpj47c5/d8UQft3+S7NGxG9bvjzfkvv9w4K/G/+HywHy6kPmiV/dPpkP/v95LuK/78oPAOqCPhMff18+McPHJ88HAAAAAAAAAPgM8y74+Pv1AYAsAB8ff4P+u091w8fHr9cHACBjwsffsU/E8PH36xMHfHx8AKDEx8fH364vbx6Jj49fr/+iJA+Ngo+Pv3GfFAkff+c+AAAAAABsGAomfPw9+UQMH3+vPhdR8fH36wPAfvkXjzVwOU76j4UAAAAASUVORK5CYII=)"
      ]
    },
    {
      "cell_type": "code",
      "metadata": {
        "ExecuteTime": {
          "end_time": "2021-02-11T16:38:50.456412Z",
          "start_time": "2021-02-11T16:38:50.452001Z"
        },
        "id": "m2iymA81rHdI",
        "colab": {
          "base_uri": "https://localhost:8080/"
        },
        "outputId": "a373ae03-e2a3-4c39-c1fd-a2c01769ec65"
      },
      "source": [
        "# Creating 2x3 array whose elements are randomly sampled from a normal distributio with mean =0 and std = 1\n",
        "np.random.randn(2,3)"
      ],
      "execution_count": null,
      "outputs": [
        {
          "output_type": "execute_result",
          "data": {
            "text/plain": [
              "array([[-0.71011857, -0.87898679,  0.92855721],\n",
              "       [ 0.83904496,  0.33918245,  1.23378858]])"
            ]
          },
          "metadata": {},
          "execution_count": 67
        }
      ]
    },
    {
      "cell_type": "code",
      "metadata": {
        "ExecuteTime": {
          "end_time": "2021-02-11T16:38:51.755201Z",
          "start_time": "2021-02-11T16:38:51.155719Z"
        },
        "id": "sjVwk8gzrrKD",
        "colab": {
          "base_uri": "https://localhost:8080/"
        },
        "outputId": "8f162ac5-2e5e-495f-e638-7a8264f5ddab"
      },
      "source": [
        "# Creating 2x3 array whose elements are randomly sampled from a uniform distribution of [0,1)\n",
        "np.random.rand(2,3)"
      ],
      "execution_count": null,
      "outputs": [
        {
          "output_type": "execute_result",
          "data": {
            "text/plain": [
              "array([[0.44661128, 0.08938324, 0.62580777],\n",
              "       [0.90826744, 0.35162219, 0.69099302]])"
            ]
          },
          "metadata": {},
          "execution_count": 68
        }
      ]
    },
    {
      "cell_type": "markdown",
      "metadata": {
        "id": "6Z5QnHGBsJXp"
      },
      "source": [
        "np.random.randint samples only integers, try creating one"
      ]
    },
    {
      "cell_type": "code",
      "metadata": {
        "ExecuteTime": {
          "end_time": "2021-02-11T16:38:53.825214Z",
          "start_time": "2021-02-11T16:38:53.818792Z"
        },
        "id": "CWXgtAa1sYd6",
        "colab": {
          "base_uri": "https://localhost:8080/"
        },
        "outputId": "2f6e201c-c72b-466b-9641-009fe09ffd7c"
      },
      "source": [
        "np.random.randint(10,size = (2,4))"
      ],
      "execution_count": null,
      "outputs": [
        {
          "output_type": "execute_result",
          "data": {
            "text/plain": [
              "array([[5, 0, 1, 9],\n",
              "       [4, 2, 1, 3]])"
            ]
          },
          "metadata": {},
          "execution_count": 69
        }
      ]
    },
    {
      "cell_type": "markdown",
      "metadata": {
        "id": "qrv-gNc8sobp"
      },
      "source": [
        "## Other Data types in NumPy array"
      ]
    },
    {
      "cell_type": "code",
      "metadata": {
        "ExecuteTime": {
          "end_time": "2021-02-11T16:39:04.203472Z",
          "start_time": "2021-02-11T16:39:04.197697Z"
        },
        "id": "ryrrAqYUtsvI",
        "colab": {
          "base_uri": "https://localhost:8080/"
        },
        "outputId": "354a3aad-cf94-448d-847f-ce6ce11feabd"
      },
      "source": [
        "# Create an array with Boolean entries\n",
        "arr_bool = np.array([True, False, True, True])\n",
        "print(arr_bool, type(arr_bool))\n"
      ],
      "execution_count": null,
      "outputs": [
        {
          "output_type": "stream",
          "text": [
            "[ True False  True  True] <class 'numpy.ndarray'>\n"
          ],
          "name": "stdout"
        }
      ]
    },
    {
      "cell_type": "code",
      "metadata": {
        "ExecuteTime": {
          "end_time": "2021-02-11T16:39:04.821285Z",
          "start_time": "2021-02-11T16:39:04.815557Z"
        },
        "id": "2fulEFaUuBZd",
        "colab": {
          "base_uri": "https://localhost:8080/"
        },
        "outputId": "5cb6d542-6ef4-41f8-ff58-82de0417162c"
      },
      "source": [
        "# Create an array with str type elements\n",
        "arr_str = np.array(['1.4','3.14','6.314'])\n",
        "print(arr_str)"
      ],
      "execution_count": null,
      "outputs": [
        {
          "output_type": "stream",
          "text": [
            "['1.4' '3.14' '6.314']\n"
          ],
          "name": "stdout"
        }
      ]
    },
    {
      "cell_type": "markdown",
      "metadata": {
        "id": "Kv0v9dwzvEef"
      },
      "source": [
        "## NumPy Operations"
      ]
    },
    {
      "cell_type": "code",
      "metadata": {
        "ExecuteTime": {
          "end_time": "2021-02-11T16:39:31.369690Z",
          "start_time": "2021-02-11T16:39:31.363274Z"
        },
        "id": "Bj-H7M9-pgX5",
        "colab": {
          "base_uri": "https://localhost:8080/"
        },
        "outputId": "8a3b23ae-3630-494f-ba58-9ff48e56ede0"
      },
      "source": [
        "arr1 = np.random.randint(0,10,(2,3))\n",
        "arr2 = np.random.randint(0,10,(2,3))\n",
        "print(arr1)\n",
        "print(arr2)"
      ],
      "execution_count": null,
      "outputs": [
        {
          "output_type": "stream",
          "name": "stdout",
          "text": [
            "[[0 0 0]\n",
            " [5 7 3]]\n",
            "[[3 3 9]\n",
            " [8 4 2]]\n"
          ]
        }
      ]
    },
    {
      "cell_type": "code",
      "metadata": {
        "ExecuteTime": {
          "end_time": "2021-02-11T16:39:35.429286Z",
          "start_time": "2021-02-11T16:39:35.418743Z"
        },
        "id": "LKQNS_sqvdC7",
        "colab": {
          "base_uri": "https://localhost:8080/"
        },
        "outputId": "1fdb8041-bf43-4699-ab24-5241a1b1803c"
      },
      "source": [
        "# Addition\n",
        "print(arr1+arr2)\n",
        "# Subtraction\n",
        "print(arr1-arr2)\n",
        "# Multiplication\n",
        "print(arr1*arr2)    #Notice that it multiplies element-wise\n",
        "# Division (Element-wise)\n",
        "print(arr1/arr2)"
      ],
      "execution_count": null,
      "outputs": [
        {
          "output_type": "stream",
          "name": "stdout",
          "text": [
            "[[ 3  3  9]\n",
            " [13 11  5]]\n",
            "[[-3 -3 -9]\n",
            " [-3  3  1]]\n",
            "[[ 0  0  0]\n",
            " [40 28  6]]\n",
            "[[0.    0.    0.   ]\n",
            " [0.625 1.75  1.5  ]]\n"
          ]
        }
      ]
    },
    {
      "cell_type": "markdown",
      "metadata": {
        "id": "dwktvJRRw8kc"
      },
      "source": [
        "Let's look at element-wise division more detailly"
      ]
    },
    {
      "cell_type": "code",
      "metadata": {
        "ExecuteTime": {
          "end_time": "2021-02-11T16:39:37.498462Z",
          "start_time": "2021-02-11T16:39:37.491335Z"
        },
        "id": "M2qZ16pBwRQv",
        "colab": {
          "base_uri": "https://localhost:8080/"
        },
        "outputId": "cc3e86fe-9819-44f7-dab6-abdbb4c680d6"
      },
      "source": [
        "arr = np.zeros((2,3))\n",
        "arr_inv = 1/arr"
      ],
      "execution_count": null,
      "outputs": [
        {
          "output_type": "stream",
          "name": "stderr",
          "text": [
            "/usr/local/lib/python3.7/dist-packages/ipykernel_launcher.py:2: RuntimeWarning: divide by zero encountered in true_divide\n",
            "  \n"
          ]
        }
      ]
    },
    {
      "cell_type": "code",
      "metadata": {
        "ExecuteTime": {
          "end_time": "2021-02-11T16:39:38.205749Z",
          "start_time": "2021-02-11T16:39:38.197944Z"
        },
        "id": "5QMehTsPxVNo",
        "colab": {
          "base_uri": "https://localhost:8080/"
        },
        "outputId": "b7abd64b-3661-48b9-e571-f4464ab0a3ff"
      },
      "source": [
        "print(arr_inv)"
      ],
      "execution_count": null,
      "outputs": [
        {
          "output_type": "stream",
          "name": "stdout",
          "text": [
            "[[inf inf inf]\n",
            " [inf inf inf]]\n"
          ]
        }
      ]
    },
    {
      "cell_type": "markdown",
      "metadata": {
        "id": "OrKYQyPrxPVl"
      },
      "source": [
        "We did get a **run-time error**"
      ]
    },
    {
      "cell_type": "code",
      "metadata": {
        "ExecuteTime": {
          "end_time": "2021-02-11T16:39:50.390725Z",
          "start_time": "2021-02-11T16:39:50.386108Z"
        },
        "id": "tJiwmraBxgSg",
        "colab": {
          "base_uri": "https://localhost:8080/"
        },
        "outputId": "634f706c-d4f4-4590-c8fd-38f0306224b4"
      },
      "source": [
        "np.isinf(arr_inv)"
      ],
      "execution_count": null,
      "outputs": [
        {
          "output_type": "execute_result",
          "data": {
            "text/plain": [
              "array([[ True,  True,  True],\n",
              "       [ True,  True,  True]])"
            ]
          },
          "metadata": {
            "tags": []
          },
          "execution_count": 107
        }
      ]
    },
    {
      "cell_type": "markdown",
      "metadata": {
        "id": "FptVB0tf3n9K"
      },
      "source": [
        "In lists, we say that we had to iterate through all the elements to increment each value by some value. NumPy makes our life easy"
      ]
    },
    {
      "cell_type": "code",
      "metadata": {
        "ExecuteTime": {
          "end_time": "2021-02-11T16:39:51.721092Z",
          "start_time": "2021-02-11T16:39:51.717266Z"
        },
        "id": "egYqBkRH33ty",
        "colab": {
          "base_uri": "https://localhost:8080/"
        },
        "outputId": "558fc9a6-d824-4fa0-90f9-f5bdcc9a0fc3"
      },
      "source": [
        "print(arr1 + 2)"
      ],
      "execution_count": null,
      "outputs": [
        {
          "output_type": "stream",
          "name": "stdout",
          "text": [
            "[[2 2 2]\n",
            " [7 9 5]]\n"
          ]
        }
      ]
    },
    {
      "cell_type": "markdown",
      "metadata": {
        "id": "xBcNna1awn86"
      },
      "source": [
        "Some important mathematical operations. Try running the code below"
      ]
    },
    {
      "cell_type": "code",
      "metadata": {
        "ExecuteTime": {
          "end_time": "2021-02-11T16:39:53.247867Z",
          "start_time": "2021-02-11T16:39:53.241595Z"
        },
        "id": "HOVPBhZJwJ-3",
        "colab": {
          "base_uri": "https://localhost:8080/"
        },
        "outputId": "dcd056a7-3ea6-4fce-9fd2-fd20d082b0c7"
      },
      "source": [
        "np.sin(arr1)"
      ],
      "execution_count": null,
      "outputs": [
        {
          "output_type": "execute_result",
          "data": {
            "text/plain": [
              "array([[-0.2794155 , -0.7568025 ,  0.98935825],\n",
              "       [ 0.41211849, -0.2794155 ,  0.6569866 ]])"
            ]
          },
          "metadata": {
            "tags": []
          },
          "execution_count": 109
        }
      ]
    },
    {
      "cell_type": "code",
      "metadata": {
        "ExecuteTime": {
          "end_time": "2021-02-11T16:39:53.984496Z",
          "start_time": "2021-02-11T16:39:53.557890Z"
        },
        "id": "L0zlBVpjwMYF",
        "colab": {
          "base_uri": "https://localhost:8080/"
        },
        "outputId": "daff2cf3-dec8-410c-d57e-6b5382553b69"
      },
      "source": [
        "np.exp(arr1)"
      ],
      "execution_count": null,
      "outputs": [
        {
          "output_type": "execute_result",
          "data": {
            "text/plain": [
              "array([[ 403.42879349,   54.59815003, 2980.95798704],\n",
              "       [8103.08392758,  403.42879349, 1096.63315843]])"
            ]
          },
          "metadata": {
            "tags": []
          },
          "execution_count": 110
        }
      ]
    },
    {
      "cell_type": "markdown",
      "metadata": {
        "id": "jtaaw2H2x8SJ"
      },
      "source": [
        "## Statistical operations"
      ]
    },
    {
      "cell_type": "code",
      "metadata": {
        "ExecuteTime": {
          "end_time": "2021-02-11T16:39:58.066978Z",
          "start_time": "2021-02-11T16:39:58.061935Z"
        },
        "id": "X48jkBOCx_kc",
        "colab": {
          "base_uri": "https://localhost:8080/"
        },
        "outputId": "9e40aa9b-0d82-4922-f369-b8e192b74935"
      },
      "source": [
        "# Intialise an NumPy array with some vals\n",
        "arr = np.random.randint(0,50,(3,4))\n",
        "print(arr)"
      ],
      "execution_count": null,
      "outputs": [
        {
          "output_type": "stream",
          "text": [
            "[[10 11 28  6]\n",
            " [47 30 49  5]\n",
            " [11 19  4  9]]\n"
          ],
          "name": "stdout"
        }
      ]
    },
    {
      "cell_type": "code",
      "metadata": {
        "ExecuteTime": {
          "end_time": "2021-02-11T16:39:58.378096Z",
          "start_time": "2021-02-11T16:39:58.369054Z"
        },
        "id": "XMwtqwi7ygRG",
        "colab": {
          "base_uri": "https://localhost:8080/"
        },
        "outputId": "37d76d95-680c-48f0-e773-78606bffb879"
      },
      "source": [
        "np.amin(arr)"
      ],
      "execution_count": null,
      "outputs": [
        {
          "output_type": "execute_result",
          "data": {
            "text/plain": [
              "array([10, 11,  4,  5])"
            ]
          },
          "metadata": {
            "tags": []
          },
          "execution_count": 86
        }
      ]
    },
    {
      "cell_type": "code",
      "metadata": {
        "ExecuteTime": {
          "end_time": "2021-02-11T16:39:58.600656Z",
          "start_time": "2021-02-11T16:39:58.596779Z"
        },
        "id": "hCnLaY5jykJx",
        "colab": {
          "base_uri": "https://localhost:8080/"
        },
        "outputId": "1b6d9662-d0c0-4867-eddb-797075611cca"
      },
      "source": [
        "np.amax(arr)"
      ],
      "execution_count": null,
      "outputs": [
        {
          "output_type": "execute_result",
          "data": {
            "text/plain": [
              "array([28, 49, 19])"
            ]
          },
          "metadata": {
            "tags": []
          },
          "execution_count": 87
        }
      ]
    },
    {
      "cell_type": "code",
      "metadata": {
        "ExecuteTime": {
          "end_time": "2021-02-11T16:39:58.832823Z",
          "start_time": "2021-02-11T16:39:58.827851Z"
        },
        "id": "nHuve64DymZv",
        "colab": {
          "base_uri": "https://localhost:8080/"
        },
        "outputId": "bdfd7fd2-3367-48fd-bb61-3d9ebc6bacdc"
      },
      "source": [
        "np.mean(arr)"
      ],
      "execution_count": null,
      "outputs": [
        {
          "output_type": "execute_result",
          "data": {
            "text/plain": [
              "19.083333333333332"
            ]
          },
          "metadata": {
            "tags": []
          },
          "execution_count": 88
        }
      ]
    },
    {
      "cell_type": "code",
      "metadata": {
        "ExecuteTime": {
          "end_time": "2021-02-11T16:39:59.125547Z",
          "start_time": "2021-02-11T16:39:59.120792Z"
        },
        "id": "1v8Uj6o2qIF-"
      },
      "source": [
        "#axis 0 and axis 1"
      ],
      "execution_count": null,
      "outputs": []
    },
    {
      "cell_type": "markdown",
      "metadata": {
        "id": "DnDHOufryyj6"
      },
      "source": [
        "Browse for NumPy functions to find median, variance, standard deviation and percentile"
      ]
    },
    {
      "cell_type": "markdown",
      "metadata": {
        "id": "-PQY1pGGeRrg"
      },
      "source": [
        "## Numpy Broadcasting"
      ]
    },
    {
      "cell_type": "markdown",
      "metadata": {
        "id": "qoWeU8OkeWEI"
      },
      "source": [
        "The term broadcasting describes how numpy treats arrays with different shapes during arithmetic operations. The smaller array is “broadcast” across the larger array so that they have compatible shapes. It does this without making needless copies of data and usually leads to efficient algorithm implementations. There are, however, cases where broadcasting is a bad idea because it leads to inefficient use of memory that slows computation."
      ]
    },
    {
      "cell_type": "code",
      "metadata": {
        "colab": {
          "base_uri": "https://localhost:8080/"
        },
        "id": "mGbMdr9reseF",
        "outputId": "94b19738-3e90-466e-fd30-2e4f443b1f18"
      },
      "source": [
        "a = np.array([1.0, 2.0, 3.0])\n",
        "b = np.array([2.0, 2.0, 2.0])\n",
        "a * b"
      ],
      "execution_count": null,
      "outputs": [
        {
          "output_type": "execute_result",
          "data": {
            "text/plain": [
              "array([2., 4., 6.])"
            ]
          },
          "metadata": {},
          "execution_count": 75
        }
      ]
    },
    {
      "cell_type": "markdown",
      "metadata": {
        "id": "X6CGcAGJfeGM"
      },
      "source": [
        "NumPy’s broadcasting rule relaxes this constraint when the arrays’ shapes meet certain constraints. The simplest broadcasting example occurs when an array and a scalar value are combined in an operation:"
      ]
    },
    {
      "cell_type": "code",
      "metadata": {
        "colab": {
          "base_uri": "https://localhost:8080/"
        },
        "id": "i0OnqvBRe3GR",
        "outputId": "648d9b96-9f55-4a80-b26f-a6f256f6be1b"
      },
      "source": [
        "a = np.array([1.0, 2.0, 3.0])\n",
        "b = 2.0 # It makes b to [2.0,2.0,2.0]\n",
        "a * b"
      ],
      "execution_count": null,
      "outputs": [
        {
          "output_type": "execute_result",
          "data": {
            "text/plain": [
              "array([2., 4., 6.])"
            ]
          },
          "metadata": {},
          "execution_count": 76
        }
      ]
    },
    {
      "cell_type": "markdown",
      "metadata": {
        "id": "vcZRFA9Gfqcr"
      },
      "source": [
        "The result is equivalent to the previous example where b was an array. We can think of the scalar b being stretched during the arithmetic operation into an array with the same shape as a. The new elements in b are simply copies of the original scalar. The stretching analogy is only conceptual. NumPy is smart enough to use the original scalar value without actually making copies so that broadcasting operations are as memory and computationally efficient as possible."
      ]
    },
    {
      "cell_type": "markdown",
      "metadata": {
        "id": "HtsFxlOghhV7"
      },
      "source": [
        "When operating on two arrays, NumPy compares their shapes element-wise. It starts with the trailing (i.e. rightmost) dimensions and works its way left. Two dimensions are compatible when\n",
        "\n",
        "1. they are equal, or\n",
        "2. one of them is 1"
      ]
    },
    {
      "cell_type": "markdown",
      "metadata": {
        "id": "mzYbrZy-hpvp"
      },
      "source": [
        "Here are some examples:"
      ]
    },
    {
      "cell_type": "code",
      "metadata": {
        "id": "iid6d-iVhlfT"
      },
      "source": [
        "Image  (3d array): 256 x 256 x 3\n",
        "Scale  (1d array):             3 # Scale gets changed to (256x256x3)\n",
        "Result (3d array): 256 x 256 x 3"
      ],
      "execution_count": null,
      "outputs": []
    },
    {
      "cell_type": "code",
      "metadata": {
        "id": "K8CDNwZih4Mq"
      },
      "source": [
        "A      (4d array):  8 x 1 x 6 x 1\n",
        "B      (3d array):      7 x 1 x 5\n",
        "Result (4d array):  8 x 7 x 6 x 5"
      ],
      "execution_count": null,
      "outputs": []
    },
    {
      "cell_type": "code",
      "metadata": {
        "id": "N6Y92M1pi2mS"
      },
      "source": [
        "A      (2d array):  5 x 4\n",
        "B      (1d array):      1\n",
        "Result (2d array):  5 x 4\n",
        "\n",
        "A      (2d array):  5 x 4\n",
        "B      (1d array):      4\n",
        "Result (2d array):  5 x 4\n",
        "\n",
        "A      (3d array):  15 x 3 x 5\n",
        "B      (3d array):  15 x 1 x 5\n",
        "Result (3d array):  15 x 3 x 5\n",
        "\n",
        "A      (3d array):  15 x 3 x 5\n",
        "B      (2d array):       3 x 5\n",
        "Result (3d array):  15 x 3 x 5\n",
        "\n",
        "A      (3d array):  15 x 3 x 5\n",
        "B      (2d array):       3 x 1\n",
        "Result (3d array):  15 x 3 x 5"
      ],
      "execution_count": null,
      "outputs": []
    },
    {
      "cell_type": "markdown",
      "metadata": {
        "id": "m148KDkji6hF"
      },
      "source": [
        "The below examples represents the case when broadcasting is not possible"
      ]
    },
    {
      "cell_type": "code",
      "metadata": {
        "id": "x1xScvtci5cX"
      },
      "source": [
        "A      (1d array):  3\n",
        "B      (1d array):  4 # trailing dimensions do not match\n",
        "\n",
        "A      (2d array):      2 x 1\n",
        "B      (3d array):  8 x 4 x 3 # second from last dimensions mismatched"
      ],
      "execution_count": null,
      "outputs": []
    },
    {
      "cell_type": "markdown",
      "metadata": {
        "id": "mAhhefzL2kCv"
      },
      "source": [
        "# Matplotlib\n"
      ]
    },
    {
      "cell_type": "markdown",
      "metadata": {
        "id": "PUkcE1IIYcdw"
      },
      "source": [
        "Matplotlib is a popular plotting software. It's name comes from \"MATLAB like Plotting library\" <br> In this section we will be using a module called pyplot from matlplotlib. A wide range of statistical plots like bar diagrams, pie charts, histograms etc. can be shown using Matplotlib<br>"
      ]
    },
    {
      "cell_type": "code",
      "metadata": {
        "id": "0KMzbComHKDY"
      },
      "source": [
        "from matplotlib import pyplot as plt"
      ],
      "execution_count": null,
      "outputs": []
    },
    {
      "cell_type": "markdown",
      "metadata": {
        "id": "5uYr3wCTc8po"
      },
      "source": [
        "## Plotting graphs\n",
        "Let's make a simple $y$ vs $x$ graph for the function $y(x)$ = $3x$ + 4"
      ]
    },
    {
      "cell_type": "code",
      "metadata": {
        "id": "Fp5v1EH9c6Zm"
      },
      "source": [
        "x = np.linspace(-10,10,100)\n",
        "y = 3*x + 4"
      ],
      "execution_count": null,
      "outputs": []
    },
    {
      "cell_type": "code",
      "metadata": {
        "id": "-yY-4cq5kzlM",
        "colab": {
          "base_uri": "https://localhost:8080/",
          "height": 282
        },
        "outputId": "69f5c0a0-3bcd-4e03-ac69-599918754f37"
      },
      "source": [
        "plt.plot(x,y)"
      ],
      "execution_count": null,
      "outputs": [
        {
          "output_type": "execute_result",
          "data": {
            "text/plain": [
              "[<matplotlib.lines.Line2D at 0x7f3cefe6ae50>]"
            ]
          },
          "metadata": {},
          "execution_count": 79
        },
        {
          "output_type": "display_data",
          "data": {
            "image/png": "[encoded data removed]",
            "text/plain": [
              "<Figure size 432x288 with 1 Axes>"
            ]
          },
          "metadata": {
            "needs_background": "light"
          }
        }
      ]
    },
    {
      "cell_type": "markdown",
      "metadata": {
        "id": "rr_3-tvdlAys"
      },
      "source": [
        "Let's try plotting any quadratic function, say $y(x)$ = $x^2$"
      ]
    },
    {
      "cell_type": "code",
      "metadata": {
        "colab": {
          "base_uri": "https://localhost:8080/",
          "height": 282
        },
        "id": "KzHxgjpik_P6",
        "outputId": "0c7dd101-c325-443f-e679-473c4cba41df"
      },
      "source": [
        "y = x**2\n",
        "plt.plot(x, y)"
      ],
      "execution_count": null,
      "outputs": [
        {
          "output_type": "execute_result",
          "data": {
            "text/plain": [
              "[<matplotlib.lines.Line2D at 0x7f3cef595a10>]"
            ]
          },
          "metadata": {},
          "execution_count": 80
        },
        {
          "output_type": "display_data",
          "data": {
            "image/png": "[encoded data removed]",
            "text/plain": [
              "<Figure size 432x288 with 1 Axes>"
            ]
          },
          "metadata": {
            "needs_background": "light"
          }
        }
      ]
    },
    {
      "cell_type": "markdown",
      "metadata": {
        "id": "bl0shiPzlu0j"
      },
      "source": [
        "Observe that the plot functions plots the best fit inspite of giving only discrete points as inputs."
      ]
    },
    {
      "cell_type": "markdown",
      "metadata": {
        "id": "07P36169sGdz"
      },
      "source": [
        "Let's consider a noisy data i.e, a data which doesn't have a perfect fit"
      ]
    },
    {
      "cell_type": "code",
      "metadata": {
        "id": "-oizsH_Urdf5",
        "outputId": "6baa93ae-b869-45a9-830a-a8d7394eddbf",
        "colab": {
          "base_uri": "https://localhost:8080/",
          "height": 265
        }
      },
      "source": [
        "# Samples random values from standard normal distribution (Size = 100)\n",
        "noise = np.random.randn(100)\n",
        "# Create a lin-spaced array x with 100 elements\n",
        "x = np.linspace(-10,10,100)\n",
        "y = 3*x + noise\n",
        "plt.plot(x,y);"
      ],
      "execution_count": null,
      "outputs": [
        {
          "output_type": "display_data",
          "data": {
            "image/png": "[encoded data removed]",
            "text/plain": [
              "<Figure size 432x288 with 1 Axes>"
            ]
          },
          "metadata": {
            "needs_background": "light"
          }
        }
      ]
    },
    {
      "cell_type": "markdown",
      "metadata": {
        "id": "tC63VeNNtnlN"
      },
      "source": [
        "The plot function tries to give a good fit to the curve"
      ]
    },
    {
      "cell_type": "markdown",
      "metadata": {
        "id": "We6n3bemlLTZ"
      },
      "source": [
        "**Plotting a list of numbers**\n",
        "\n",
        "Plotting a list of numbers is very useful because while training you must be storing the losses and accuracy for every epoch"
      ]
    },
    {
      "cell_type": "code",
      "metadata": {
        "colab": {
          "base_uri": "https://localhost:8080/",
          "height": 265
        },
        "id": "XjWrZKMmlkH9",
        "outputId": "3a40b9e1-a89d-4557-8aa0-8833e960d0e4"
      },
      "source": [
        "list_a = [1, 2, 3, 4, 5]\n",
        "list_b = [5, 4, 3, 2, 1]\n",
        "plt.plot(list_a, label='List A')\n",
        "plt.plot(list_b, label='List B')\n",
        "plt.legend()\n",
        "plt.show()"
      ],
      "execution_count": null,
      "outputs": [
        {
          "output_type": "display_data",
          "data": {
            "image/png": "[encoded data removed]",
            "text/plain": [
              "<Figure size 432x288 with 1 Axes>"
            ]
          },
          "metadata": {
            "needs_background": "light"
          }
        }
      ]
    },
    {
      "cell_type": "markdown",
      "metadata": {
        "id": "xaM0XSnZregM"
      },
      "source": [
        "## Scatter Plots"
      ]
    },
    {
      "cell_type": "markdown",
      "metadata": {
        "id": "_H90fcAVvUE5"
      },
      "source": [
        "In the above example, let's increase the data from 100 to 1000"
      ]
    },
    {
      "cell_type": "code",
      "metadata": {
        "id": "UQKHzT4dtlh4",
        "outputId": "4fa8e7dd-b8e9-4afb-d344-4c41014f0a5c",
        "colab": {
          "base_uri": "https://localhost:8080/",
          "height": 265
        }
      },
      "source": [
        "noise = np.random.randn(1000)\n",
        "x = np.linspace(-10,10,1000)\n",
        "y = 3*x + 6*noise\n",
        "plt.plot(x,y);"
      ],
      "execution_count": null,
      "outputs": [
        {
          "output_type": "display_data",
          "data": {
            "image/png": "[encoded data removed]",
            "text/plain": [
              "<Figure size 432x288 with 1 Axes>"
            ]
          },
          "metadata": {
            "needs_background": "light"
          }
        }
      ]
    },
    {
      "cell_type": "markdown",
      "metadata": {
        "id": "7z4HoJ59uc2H"
      },
      "source": [
        "The plot does look messy right! We use scatter plots when we want to plot the data points without any curve to fit them"
      ]
    },
    {
      "cell_type": "code",
      "metadata": {
        "id": "iDurC0vrtgDf",
        "outputId": "9c4a36b5-70b2-4341-a453-bb3f11178cab",
        "colab": {
          "base_uri": "https://localhost:8080/",
          "height": 265
        }
      },
      "source": [
        "plt.scatter(x,y,s=2);"
      ],
      "execution_count": null,
      "outputs": [
        {
          "output_type": "display_data",
          "data": {
            "image/png": "[encoded data removed]",
            "text/plain": [
              "<Figure size 432x288 with 1 Axes>"
            ]
          },
          "metadata": {
            "needs_background": "light"
          }
        }
      ]
    },
    {
      "cell_type": "markdown",
      "metadata": {
        "id": "k7W-ZEdiookv"
      },
      "source": [
        "## Histograms"
      ]
    },
    {
      "cell_type": "markdown",
      "metadata": {
        "id": "L0aH8KsppKLr"
      },
      "source": [
        "To get a better understanding of normal distribution, we can use histograms"
      ]
    },
    {
      "cell_type": "code",
      "metadata": {
        "id": "XAlhQfcJoq3n",
        "outputId": "008e827d-2942-43c4-bcfa-be187e0160f4",
        "colab": {
          "base_uri": "https://localhost:8080/",
          "height": 265
        }
      },
      "source": [
        "# A 1D array of size 10k\n",
        "x = np.random.randn(10000)\n",
        "plt.hist(x);"
      ],
      "execution_count": null,
      "outputs": [
        {
          "output_type": "display_data",
          "data": {
            "image/png": "[encoded data removed]",
            "text/plain": [
              "<Figure size 432x288 with 1 Axes>"
            ]
          },
          "metadata": {
            "needs_background": "light"
          }
        }
      ]
    }
  ]
}